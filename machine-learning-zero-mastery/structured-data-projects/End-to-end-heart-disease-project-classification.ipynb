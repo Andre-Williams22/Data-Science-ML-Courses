{
 "cells": [
  {
   "cell_type": "markdown",
   "metadata": {
    "slideshow": {
     "slide_type": "skip"
    }
   },
   "source": [
    "# Predicting Heart Disease using Machine Learning\n",
    "\n",
    "This notebook will introduce some foundation machine learning and data science concepts by exploring the problem of heart disease **classification**.\n",
    "\n",
    "It is intended to be an end-to-end example of what a data science and machine learning **proof of concept** might look like.\n",
    "\n",
    "## What is classification?\n",
    "\n",
    "Classification involves deciding whether a sample is part of one class or another (**single-class classification**). If there are multiple class options, it's referred to as **multi-class classification**.\n",
    "\n",
    "\n",
    "## What we'll end up with\n",
    "\n",
    "Since we already have a dataset, we'll approach the problem with the following machine learning modelling framework.\n",
    "\n",
    "| <img src=\"ml101-6-step-ml-framework.png\" width=500/> | \n",
    "|:--:| \n",
    "| 6 Step Machine Learning Modelling Framework |\n",
    "\n",
    "More specifically, we'll look at the following topics.\n",
    "\n",
    "* **Exploratory data analysis (EDA)** - the process of going through a dataset and finding out more about it.\n",
    "* **Model training** - create model(s) to learn to predict a target variable based on other variables.\n",
    "* **Model evaluation** - evaluating a models predictions using problem-specific evaluation metrics. \n",
    "* **Model comparison** - comparing several different models to find the best one.\n",
    "* **Model fine-tuning** - once we've found a good model, how can we improve it?\n",
    "* **Feature importance** - since we're predicting the presence of heart disease, are there some things which are more important for prediction?\n",
    "* **Cross-validation** - if we do build a good model, can we be sure it will work on unseen data?\n",
    "* **Reporting what we've found** - if we had to present our work, what would we show someone?\n",
    "\n",
    "To work through these topics, we'll use pandas, Matplotlib and NumPy for data anaylsis, as well as, Scikit-Learn for machine learning and modelling tasks.\n",
    "\n",
    "| <img src=\"supervised-projects-6-step-ml-framework-tools-highlight.png\" width=500/> | \n",
    "|:--:| \n",
    "| Tools which can be used for each step of the machine learning modelling process. |\n",
    "\n",
    "We'll work through each step and by the end of the notebook, we'll have a handful of models, all which can predict whether or not a person has heart disease based on a number of different parameters at a considerable accuracy. \n",
    "\n",
    "You'll also be able to describe which parameters are more indicative than others, for example, sex may be more important than age."
   ]
  },
  {
   "cell_type": "markdown",
   "metadata": {
    "slideshow": {
     "slide_type": "skip"
    }
   },
   "source": [
    "## 1. Problem Definition\n",
    "In our case, the problem we will be exploring is **binary classification** (a sample can only be one of two things). \n",
    "\n",
    "This is because we're going to be using a number of differnet **features** (pieces of information) about a person to predict whether they have heart disease or not.\n",
    "\n",
    "In a statement,\n",
    "\n",
    "> Given clinical parameters about a patient, can we predict whether or not they have heart disease?\n",
    "\n",
    "## 2. Data\n",
    "\n",
    "What you'll want to do here is dive into the data your problem definition is based on. This may involve, sourcing, defining different parameters, talking to experts about it and finding out what you should expect.\n",
    "\n",
    "The original data came from the [Cleveland database](https://archive.ics.uci.edu/ml/datasets/heart+Disease) from UCI Machine Learning Repository.\n",
    "\n",
    "Howevever, we've downloaded it in a formatted way from [Kaggle](https://www.kaggle.com/ronitf/heart-disease-uci/).\n",
    "\n",
    "The original database contains 76 attributes, but here only 14 attributes will be used. **Attributes** (also called **features**) are the variables what we'll use to predict our **target variable**.\n",
    "\n",
    "Attributes and features are also referred to as **independent variables** and a target variable can be referred to as a **dependent variable**.\n",
    "\n",
    "> We use the independent variables to predict our dependent variable.\n",
    "\n",
    "Or in our case, the independent variables are a patients different medical attributes and the dependent variable is whether or not they have heart disease.\n",
    "\n",
    "## 3. Evaluation\n",
    "\n",
    "The evaluation metric is something you might define at the start of a project.\n",
    "\n",
    "Since machine learning is very experimental, you might say something like, \n",
    "\n",
    "> If we can reach 95% accuracy at predicting whether or not a patient has heart disease during the proof of concept, we'll pursure this project.\n",
    "\n",
    "The reason this is helpful is it provides a rough goal for a machine learning engineer or data scientist to work towards.\n",
    "\n",
    "However, due to the nature of experimentation, the evaluation metric may change over time.\n",
    "\n",
    "## 4. Features\n",
    "\n",
    "Features are different parts of the data. During this step, you'll want to start finding out what you can about the data.\n",
    "\n",
    "One of the most common ways to do this, is to create a **data dictionary**.\n",
    "\n",
    "### Heart Disease Data Dictionary\n",
    "\n",
    "A data dictionary describes the data you're dealing with. Not all datasets come with them so this is where you may have to do your research or ask a **subject matter expert** (someone who knows about the data) for more.\n",
    "\n",
    "The following are the features we'll use to predict our target variable (heart disease or no heart disease).\n",
    "\n",
    "1. age - age in years \n",
    "2. sex - (1 = male; 0 = female) \n",
    "3. cp - chest pain type \n",
    "    * 0: Typical angina: chest pain related decrease blood supply to the heart\n",
    "    * 1: Atypical angina: chest pain not related to heart\n",
    "    * 2: Non-anginal pain: typically esophageal spasms (non heart related)\n",
    "    * 3: Asymptomatic: chest pain not showing signs of disease\n",
    "4. trestbps - resting blood pressure (in mm Hg on admission to the hospital)\n",
    "    * anything above 130-140 is typically cause for concern\n",
    "5. chol - serum cholestoral in mg/dl \n",
    "    * serum = LDL + HDL + .2 * triglycerides\n",
    "    * above 200 is cause for concern\n",
    "6. fbs - (fasting blood sugar > 120 mg/dl) (1 = true; 0 = false) \n",
    "    * '>126' mg/dL signals diabetes\n",
    "7. restecg - resting electrocardiographic results\n",
    "    * 0: Nothing to note\n",
    "    * 1: ST-T Wave abnormality\n",
    "        - can range from mild symptoms to severe problems\n",
    "        - signals non-normal heart beat\n",
    "    * 2: Possible or definite left ventricular hypertrophy\n",
    "        - Enlarged heart's main pumping chamber\n",
    "8. thalach - maximum heart rate achieved \n",
    "9. exang - exercise induced angina (1 = yes; 0 = no) \n",
    "10. oldpeak - ST depression induced by exercise relative to rest \n",
    "    * looks at stress of heart during excercise\n",
    "    * unhealthy heart will stress more\n",
    "11. slope - the slope of the peak exercise ST segment\n",
    "    * 0: Upsloping: better heart rate with excercise (uncommon)\n",
    "    * 1: Flatsloping: minimal change (typical healthy heart)\n",
    "    * 2: Downslopins: signs of unhealthy heart\n",
    "12. ca - number of major vessels (0-3) colored by flourosopy \n",
    "    * colored vessel means the doctor can see the blood passing through\n",
    "    * the more blood movement the better (no clots)\n",
    "13. thal - thalium stress result\n",
    "    * 1,3: normal\n",
    "    * 6: fixed defect: used to be defect but ok now\n",
    "    * 7: reversable defect: no proper blood movement when excercising \n",
    "14. target - have disease or not (1=yes, 0=no) (= the predicted attribute)\n",
    "\n",
    "**Note:** No personal identifiable information (PPI) can be found in the dataset.\n",
    "\n",
    "It's a good idea to save these to a Python dictionary or in an external file, so we can look at them later without coming back here."
   ]
  },
  {
   "cell_type": "markdown",
   "metadata": {
    "slideshow": {
     "slide_type": "slide"
    }
   },
   "source": [
    "# Predicting Heart Disease using Machine Learning\n",
    "\n",
    "This notebook will introduce some foundation machine learning and data science concepts by exploring the problem of heart disease **classification**.\n",
    "\n",
    "It is intended to be an end-to-end example of what a data science and machine learning **proof of concept** might look like.\n",
    "\n",
    "## What is classification?\n",
    "\n",
    "Classification involves deciding whether a sample is part of one class or another (**single-class classification**). If there are multiple class options, it's referred to as **multi-class classification**.\n"
   ]
  },
  {
   "cell_type": "markdown",
   "metadata": {
    "slideshow": {
     "slide_type": "slide"
    }
   },
   "source": [
    "## What we'll end up with\n",
    "\n",
    "Since we already have a dataset, we'll approach the problem with the following machine learning modelling framework.\n",
    "\n",
    "| <img src=\"ml101-6-step-ml-framework.png\" width=500/> | \n",
    "|:--:| \n",
    "| 6 Step Machine Learning Modelling Framework |\n",
    "\n"
   ]
  },
  {
   "cell_type": "markdown",
   "metadata": {
    "slideshow": {
     "slide_type": "slide"
    }
   },
   "source": [
    "More specifically, we'll look at the following topics.\n",
    "\n",
    "* **Exploratory data analysis (EDA)** - the process of going through a dataset and finding out more about it.\n",
    "* **Model training** - create model(s) to learn to predict a target variable based on other variables.\n",
    "* **Model evaluation** - evaluating a models predictions using problem-specific evaluation metrics. \n",
    "* **Model comparison** - comparing several different models to find the best one.\n",
    "* **Model fine-tuning** - once we've found a good model, how can we improve it?\n",
    "* **Feature importance** - since we're predicting the presence of heart disease, are there some things which are more important for prediction?\n",
    "* **Cross-validation** - if we do build a good model, can we be sure it will work on unseen data?\n",
    "* **Reporting what we've found** - if we had to present our work, what would we show someone?\n",
    "\n",
    "To work through these topics, we'll use pandas, Matplotlib and NumPy for data anaylsis, as well as, Scikit-Learn for machine learning and modelling tasks."
   ]
  },
  {
   "cell_type": "markdown",
   "metadata": {
    "slideshow": {
     "slide_type": "slide"
    }
   },
   "source": [
    "## 1. Problem Definition\n",
    "In our case, the problem we will be exploring is **binary classification** (a sample can only be one of two things). \n",
    "\n",
    "This is because we're going to be using a number of differnet **features** (pieces of information) about a person to predict whether they have heart disease or not.\n",
    "\n",
    "In a statement,\n",
    "\n",
    "> Given clinical parameters about a patient, can we predict whether or not they have heart disease?\n",
    "\n"
   ]
  },
  {
   "cell_type": "markdown",
   "metadata": {
    "slideshow": {
     "slide_type": "slide"
    }
   },
   "source": [
    "## 2. Data\n",
    "\n",
    "What you'll want to do here is dive into the data your problem definition is based on. This may involve, sourcing, defining different parameters, talking to experts about it and finding out what you should expect.\n",
    "\n",
    "The original data came from the [Cleveland database](https://archive.ics.uci.edu/ml/datasets/heart+Disease) from UCI Machine Learning Repository.\n",
    "\n",
    "Howevever, we've downloaded it in a formatted way from [Kaggle](https://www.kaggle.com/ronitf/heart-disease-uci/).\n",
    "\n",
    "The original database contains 76 attributes, but here only 14 attributes will be used. **Attributes** (also called **features**) are the variables what we'll use to predict our **target variable**.\n",
    "\n",
    "Attributes and features are also referred to as **independent variables** and a target variable can be referred to as a **dependent variable**.\n",
    "\n",
    "> We use the independent variables to predict our dependent variable.\n",
    "\n",
    "Or in our case, the independent variables are a patients different medical attributes and the dependent variable is whether or not they have heart disease."
   ]
  },
  {
   "cell_type": "markdown",
   "metadata": {
    "slideshow": {
     "slide_type": "slide"
    }
   },
   "source": [
    "## 3. Evaluation\n",
    "\n",
    "The evaluation metric is something you might define at the start of a project.\n",
    "\n",
    "Since machine learning is very experimental, you might say something like, \n",
    "\n",
    "> If we can reach 95% accuracy at predicting whether or not a patient has heart disease during the proof of concept, we'll pursure this project.\n",
    "\n",
    "The reason this is helpful is it provides a rough goal for a machine learning engineer or data scientist to work towards.\n",
    "\n",
    "However, due to the nature of experimentation, the evaluation metric may change over time.\n",
    "\n",
    "## 4. Features\n",
    "\n",
    "Features are different parts of the data. During this step, you'll want to start finding out what you can about the data.\n",
    "\n",
    "One of the most common ways to do this, is to create a **data dictionary**.\n"
   ]
  },
  {
   "cell_type": "code",
   "execution_count": null,
   "metadata": {
    "slideshow": {
     "slide_type": "skip"
    }
   },
   "outputs": [],
   "source": [
    "\n",
    "1. age - age in years \n",
    "2. sex - (1 = male; 0 = female) \n",
    "3. cp - chest pain type \n",
    "    * 0: Typical angina: chest pain related decrease blood supply to the heart\n",
    "    * 1: Atypical angina: chest pain not related to heart\n",
    "    * 2: Non-anginal pain: typically esophageal spasms (non heart related)\n",
    "    * 3: Asymptomatic: chest pain not showing signs of disease\n",
    "4. trestbps - resting blood pressure (in mm Hg on admission to the hospital)\n",
    "    * anything above 130-140 is typically cause for concern\n",
    "5. chol - serum cholestoral in mg/dl \n",
    "    * serum = LDL + HDL + .2 * triglycerides\n",
    "    * above 200 is cause for concern\n",
    "6. fbs - (fasting blood sugar > 120 mg/dl) (1 = true; 0 = false) \n",
    "    * '>126' mg/dL signals diabetes\n",
    "7. restecg - resting electrocardiographic results\n",
    "    * 0: Nothing to note\n",
    "    * 1: ST-T Wave abnormality\n",
    "        - can range from mild symptoms to severe problems\n",
    "        - signals non-normal heart beat\n",
    "    * 2: Possible or definite left ventricular hypertrophy\n",
    "        - Enlarged heart's main pumping chamber\n",
    "8. thalach - maximum heart rate achieved \n",
    "9. exang - exercise induced angina (1 = yes; 0 = no) \n",
    "10. oldpeak - ST depression induced by exercise relative to rest \n",
    "    * looks at stress of heart during excercise\n",
    "    * unhealthy heart will stress more\n",
    "11. slope - the slope of the peak exercise ST segment\n",
    "    * 0: Upsloping: better heart rate with excercise (uncommon)\n",
    "    * 1: Flatsloping: minimal change (typical healthy heart)\n",
    "    * 2: Downslopins: signs of unhealthy heart\n",
    "12. ca - number of major vessels (0-3) colored by flourosopy \n",
    "    * colored vessel means the doctor can see the blood passing through\n",
    "    * the more blood movement the better (no clots)\n",
    "13. thal - thalium stress result\n",
    "    * 1,3: normal\n",
    "    * 6: fixed defect: used to be defect but ok now\n",
    "    * 7: reversable defect: no proper blood movement when excercising \n",
    "14. target - have disease or not (1=yes, 0=no) (= the predicted attribute)\n",
    "\n",
    "**Note:** No personal identifiable information (PPI) can be found in the dataset.\n",
    "\n",
    "It's a good idea to save these to a Python dictionary or in an external file, so we can look at them later without coming back here."
   ]
  },
  {
   "cell_type": "markdown",
   "metadata": {
    "slideshow": {
     "slide_type": "slide"
    }
   },
   "source": [
    "## Preparing the Tools"
   ]
  },
  {
   "cell_type": "code",
<<<<<<< HEAD
<<<<<<< HEAD:machine-learning-zero-mastery/structured-data-projects/End-to-end-heart-disease-project-classification.ipynb
   "execution_count": 38,
=======
   "execution_count": 2,
>>>>>>> f80f51b9df2f71d3904248bb78052ff6e96551bc:machine-learning-zero-mastery/structured-data-projects/.ipynb_checkpoints/End-to-end-heart-disease-project-classification-checkpoint.ipynb
=======
   "execution_count": 38,
>>>>>>> f80f51b9df2f71d3904248bb78052ff6e96551bc
   "metadata": {
    "slideshow": {
     "slide_type": "subslide"
    }
   },
   "outputs": [],
   "source": [
    "# Exploratory Data Analysis and plotting libraries\n",
    "import pandas as pd \n",
    "import numpy as np\n",
    "import ppscore as pps\n",
    "import matplotlib.pyplot as plt\n",
    "import seaborn as sns\n",
    "sns.set()\n",
    "# we want our plots to appear inside the notebook\n",
    "%matplotlib inline \n",
    "\n",
    "# Models from Sklearn \n",
    "from sklearn.linear_model import LogisticRegression\n",
    "from sklearn.neighbors import KNeighborsClassifier\n",
    "from sklearn.tree import DecisionTreeClassifier\n",
    "from sklearn.ensemble import RandomForestClassifier \n",
    "from sklearn.ensemble import GradientBoostingClassifier\n",
    "\n",
    "\n",
    "# Model Evaluations \n",
    "from sklearn.model_selection import train_test_split, cross_val_score \n",
    "from sklearn.model_selection import RandomizedSearchCV, GridSearchCV # hyperparameter tuning\n",
    "from sklearn.metrics import confusion_matrix, classification_report \n",
    "from sklearn.metrics import precision_score, recall_score, f1_score\n",
    "from sklearn.metrics import plot_roc_curve \n",
    "from sklearn.model_selection import RepeatedStratifiedKFold"
   ]
  },
  {
   "cell_type": "code",
<<<<<<< HEAD
<<<<<<< HEAD:machine-learning-zero-mastery/structured-data-projects/End-to-end-heart-disease-project-classification.ipynb
   "execution_count": 39,
=======
   "execution_count": 3,
>>>>>>> f80f51b9df2f71d3904248bb78052ff6e96551bc:machine-learning-zero-mastery/structured-data-projects/.ipynb_checkpoints/End-to-end-heart-disease-project-classification-checkpoint.ipynb
=======
   "execution_count": 39,
>>>>>>> f80f51b9df2f71d3904248bb78052ff6e96551bc
   "metadata": {
    "slideshow": {
     "slide_type": "skip"
    }
   },
   "outputs": [
    {
     "name": "stdout",
     "output_type": "stream",
     "text": [
      "Requirement already satisfied: ppscore in /Applications/anaconda3/lib/python3.7/site-packages (0.0.2)\r\n"
     ]
    }
   ],
   "source": [
    "# Install a pip package in the current Jupyter kernel\n",
    "import sys\n",
    "!{sys.executable} -m pip install ppscore"
   ]
  },
  {
   "cell_type": "markdown",
   "metadata": {
    "slideshow": {
     "slide_type": "slide"
    }
   },
   "source": [
    "# Load Our Data"
   ]
  },
  {
   "cell_type": "code",
<<<<<<< HEAD
<<<<<<< HEAD:machine-learning-zero-mastery/structured-data-projects/End-to-end-heart-disease-project-classification.ipynb
   "execution_count": 40,
=======
   "execution_count": 4,
>>>>>>> f80f51b9df2f71d3904248bb78052ff6e96551bc:machine-learning-zero-mastery/structured-data-projects/.ipynb_checkpoints/End-to-end-heart-disease-project-classification-checkpoint.ipynb
=======
   "execution_count": 40,
>>>>>>> f80f51b9df2f71d3904248bb78052ff6e96551bc
   "metadata": {
    "slideshow": {
     "slide_type": "subslide"
    }
   },
   "outputs": [
    {
     "data": {
      "text/html": [
       "<div>\n",
       "<style scoped>\n",
       "    .dataframe tbody tr th:only-of-type {\n",
       "        vertical-align: middle;\n",
       "    }\n",
       "\n",
       "    .dataframe tbody tr th {\n",
       "        vertical-align: top;\n",
       "    }\n",
       "\n",
       "    .dataframe thead th {\n",
       "        text-align: right;\n",
       "    }\n",
       "</style>\n",
       "<table border=\"1\" class=\"dataframe\">\n",
       "  <thead>\n",
       "    <tr style=\"text-align: right;\">\n",
       "      <th></th>\n",
       "      <th>age</th>\n",
       "      <th>sex</th>\n",
       "      <th>cp</th>\n",
       "      <th>trestbps</th>\n",
       "      <th>chol</th>\n",
       "      <th>fbs</th>\n",
       "      <th>restecg</th>\n",
       "      <th>thalach</th>\n",
       "      <th>exang</th>\n",
       "      <th>oldpeak</th>\n",
       "      <th>slope</th>\n",
       "      <th>ca</th>\n",
       "      <th>thal</th>\n",
       "      <th>target</th>\n",
       "    </tr>\n",
       "  </thead>\n",
       "  <tbody>\n",
       "    <tr>\n",
       "      <th>0</th>\n",
       "      <td>63</td>\n",
       "      <td>1</td>\n",
       "      <td>3</td>\n",
       "      <td>145</td>\n",
       "      <td>233</td>\n",
       "      <td>1</td>\n",
       "      <td>0</td>\n",
       "      <td>150</td>\n",
       "      <td>0</td>\n",
       "      <td>2.3</td>\n",
       "      <td>0</td>\n",
       "      <td>0</td>\n",
       "      <td>1</td>\n",
       "      <td>1</td>\n",
       "    </tr>\n",
       "    <tr>\n",
       "      <th>1</th>\n",
       "      <td>37</td>\n",
       "      <td>1</td>\n",
       "      <td>2</td>\n",
       "      <td>130</td>\n",
       "      <td>250</td>\n",
       "      <td>0</td>\n",
       "      <td>1</td>\n",
       "      <td>187</td>\n",
       "      <td>0</td>\n",
       "      <td>3.5</td>\n",
       "      <td>0</td>\n",
       "      <td>0</td>\n",
       "      <td>2</td>\n",
       "      <td>1</td>\n",
       "    </tr>\n",
       "    <tr>\n",
       "      <th>2</th>\n",
       "      <td>41</td>\n",
       "      <td>0</td>\n",
       "      <td>1</td>\n",
       "      <td>130</td>\n",
       "      <td>204</td>\n",
       "      <td>0</td>\n",
       "      <td>0</td>\n",
       "      <td>172</td>\n",
       "      <td>0</td>\n",
       "      <td>1.4</td>\n",
       "      <td>2</td>\n",
       "      <td>0</td>\n",
       "      <td>2</td>\n",
       "      <td>1</td>\n",
       "    </tr>\n",
       "    <tr>\n",
       "      <th>3</th>\n",
       "      <td>56</td>\n",
       "      <td>1</td>\n",
       "      <td>1</td>\n",
       "      <td>120</td>\n",
       "      <td>236</td>\n",
       "      <td>0</td>\n",
       "      <td>1</td>\n",
       "      <td>178</td>\n",
       "      <td>0</td>\n",
       "      <td>0.8</td>\n",
       "      <td>2</td>\n",
       "      <td>0</td>\n",
       "      <td>2</td>\n",
       "      <td>1</td>\n",
       "    </tr>\n",
       "    <tr>\n",
       "      <th>4</th>\n",
       "      <td>57</td>\n",
       "      <td>0</td>\n",
       "      <td>0</td>\n",
       "      <td>120</td>\n",
       "      <td>354</td>\n",
       "      <td>0</td>\n",
       "      <td>1</td>\n",
       "      <td>163</td>\n",
       "      <td>1</td>\n",
       "      <td>0.6</td>\n",
       "      <td>2</td>\n",
       "      <td>0</td>\n",
       "      <td>2</td>\n",
       "      <td>1</td>\n",
       "    </tr>\n",
       "  </tbody>\n",
       "</table>\n",
       "</div>"
      ],
      "text/plain": [
       "   age  sex  cp  trestbps  chol  fbs  restecg  thalach  exang  oldpeak  slope  \\\n",
       "0   63    1   3       145   233    1        0      150      0      2.3      0   \n",
       "1   37    1   2       130   250    0        1      187      0      3.5      0   \n",
       "2   41    0   1       130   204    0        0      172      0      1.4      2   \n",
       "3   56    1   1       120   236    0        1      178      0      0.8      2   \n",
       "4   57    0   0       120   354    0        1      163      1      0.6      2   \n",
       "\n",
       "   ca  thal  target  \n",
       "0   0     1       1  \n",
       "1   0     2       1  \n",
       "2   0     2       1  \n",
       "3   0     2       1  \n",
       "4   0     2       1  "
      ]
     },
<<<<<<< HEAD
<<<<<<< HEAD:machine-learning-zero-mastery/structured-data-projects/End-to-end-heart-disease-project-classification.ipynb
     "execution_count": 40,
=======
     "execution_count": 4,
>>>>>>> f80f51b9df2f71d3904248bb78052ff6e96551bc:machine-learning-zero-mastery/structured-data-projects/.ipynb_checkpoints/End-to-end-heart-disease-project-classification-checkpoint.ipynb
=======
     "execution_count": 40,
>>>>>>> f80f51b9df2f71d3904248bb78052ff6e96551bc
     "metadata": {},
     "output_type": "execute_result"
    }
   ],
   "source": [
    "df = pd.read_csv('../Datasets/heart-disease.csv')\n",
    "df.head()"
   ]
  },
  {
   "cell_type": "code",
<<<<<<< HEAD
<<<<<<< HEAD:machine-learning-zero-mastery/structured-data-projects/End-to-end-heart-disease-project-classification.ipynb
   "execution_count": 41,
=======
   "execution_count": 5,
>>>>>>> f80f51b9df2f71d3904248bb78052ff6e96551bc:machine-learning-zero-mastery/structured-data-projects/.ipynb_checkpoints/End-to-end-heart-disease-project-classification-checkpoint.ipynb
=======
   "execution_count": 41,
>>>>>>> f80f51b9df2f71d3904248bb78052ff6e96551bc
   "metadata": {
    "slideshow": {
     "slide_type": "skip"
    }
   },
   "outputs": [
    {
     "data": {
      "text/plain": [
       "(303, 14)"
      ]
     },
<<<<<<< HEAD
<<<<<<< HEAD:machine-learning-zero-mastery/structured-data-projects/End-to-end-heart-disease-project-classification.ipynb
     "execution_count": 41,
=======
     "execution_count": 5,
>>>>>>> f80f51b9df2f71d3904248bb78052ff6e96551bc:machine-learning-zero-mastery/structured-data-projects/.ipynb_checkpoints/End-to-end-heart-disease-project-classification-checkpoint.ipynb
=======
     "execution_count": 41,
>>>>>>> f80f51b9df2f71d3904248bb78052ff6e96551bc
     "metadata": {},
     "output_type": "execute_result"
    }
   ],
   "source": [
    "df.shape # (rows, columns)"
   ]
  },
  {
   "cell_type": "markdown",
   "metadata": {
    "slideshow": {
     "slide_type": "slide"
    }
   },
   "source": [
    "# Data Exploration (exploratory data analysis or EDA)\n",
    "The goal here is to find out more about the data and understand the data we're working with.\n",
    "1. What question(s) am I trying to solve?\n",
    "2. What kind of data do we have and how do we treat different types?\n",
    "3. What's missing from the data and how do I deal with it?\n",
    "4. Where are the outliers and why should I care about them?\n",
    "5. How can you add, change or remove features to get more out of your data?"
   ]
  },
  {
   "cell_type": "code",
<<<<<<< HEAD
<<<<<<< HEAD:machine-learning-zero-mastery/structured-data-projects/End-to-end-heart-disease-project-classification.ipynb
   "execution_count": 42,
=======
   "execution_count": 6,
>>>>>>> f80f51b9df2f71d3904248bb78052ff6e96551bc:machine-learning-zero-mastery/structured-data-projects/.ipynb_checkpoints/End-to-end-heart-disease-project-classification-checkpoint.ipynb
=======
   "execution_count": 42,
>>>>>>> f80f51b9df2f71d3904248bb78052ff6e96551bc
   "metadata": {
    "slideshow": {
     "slide_type": "fragment"
    }
   },
   "outputs": [
    {
     "data": {
      "text/html": [
       "<div>\n",
       "<style scoped>\n",
       "    .dataframe tbody tr th:only-of-type {\n",
       "        vertical-align: middle;\n",
       "    }\n",
       "\n",
       "    .dataframe tbody tr th {\n",
       "        vertical-align: top;\n",
       "    }\n",
       "\n",
       "    .dataframe thead th {\n",
       "        text-align: right;\n",
       "    }\n",
       "</style>\n",
       "<table border=\"1\" class=\"dataframe\">\n",
       "  <thead>\n",
       "    <tr style=\"text-align: right;\">\n",
       "      <th></th>\n",
       "      <th>age</th>\n",
       "      <th>sex</th>\n",
       "      <th>cp</th>\n",
       "      <th>trestbps</th>\n",
       "      <th>chol</th>\n",
       "      <th>fbs</th>\n",
       "      <th>restecg</th>\n",
       "      <th>thalach</th>\n",
       "      <th>exang</th>\n",
       "      <th>oldpeak</th>\n",
       "      <th>slope</th>\n",
       "      <th>ca</th>\n",
       "      <th>thal</th>\n",
       "      <th>target</th>\n",
       "    </tr>\n",
       "  </thead>\n",
       "  <tbody>\n",
       "    <tr>\n",
       "      <th>0</th>\n",
       "      <td>63</td>\n",
       "      <td>1</td>\n",
       "      <td>3</td>\n",
       "      <td>145</td>\n",
       "      <td>233</td>\n",
       "      <td>1</td>\n",
       "      <td>0</td>\n",
       "      <td>150</td>\n",
       "      <td>0</td>\n",
       "      <td>2.3</td>\n",
       "      <td>0</td>\n",
       "      <td>0</td>\n",
       "      <td>1</td>\n",
       "      <td>1</td>\n",
       "    </tr>\n",
       "    <tr>\n",
       "      <th>1</th>\n",
       "      <td>37</td>\n",
       "      <td>1</td>\n",
       "      <td>2</td>\n",
       "      <td>130</td>\n",
       "      <td>250</td>\n",
       "      <td>0</td>\n",
       "      <td>1</td>\n",
       "      <td>187</td>\n",
       "      <td>0</td>\n",
       "      <td>3.5</td>\n",
       "      <td>0</td>\n",
       "      <td>0</td>\n",
       "      <td>2</td>\n",
       "      <td>1</td>\n",
       "    </tr>\n",
       "  </tbody>\n",
       "</table>\n",
       "</div>"
      ],
      "text/plain": [
       "   age  sex  cp  trestbps  chol  fbs  restecg  thalach  exang  oldpeak  slope  \\\n",
       "0   63    1   3       145   233    1        0      150      0      2.3      0   \n",
       "1   37    1   2       130   250    0        1      187      0      3.5      0   \n",
       "\n",
       "   ca  thal  target  \n",
       "0   0     1       1  \n",
       "1   0     2       1  "
      ]
     },
<<<<<<< HEAD
<<<<<<< HEAD:machine-learning-zero-mastery/structured-data-projects/End-to-end-heart-disease-project-classification.ipynb
     "execution_count": 42,
=======
     "execution_count": 6,
>>>>>>> f80f51b9df2f71d3904248bb78052ff6e96551bc:machine-learning-zero-mastery/structured-data-projects/.ipynb_checkpoints/End-to-end-heart-disease-project-classification-checkpoint.ipynb
=======
     "execution_count": 42,
>>>>>>> f80f51b9df2f71d3904248bb78052ff6e96551bc
     "metadata": {},
     "output_type": "execute_result"
    }
   ],
   "source": [
    "df.head(2)"
   ]
  },
  {
   "cell_type": "code",
<<<<<<< HEAD
<<<<<<< HEAD:machine-learning-zero-mastery/structured-data-projects/End-to-end-heart-disease-project-classification.ipynb
   "execution_count": 43,
=======
   "execution_count": 7,
>>>>>>> f80f51b9df2f71d3904248bb78052ff6e96551bc:machine-learning-zero-mastery/structured-data-projects/.ipynb_checkpoints/End-to-end-heart-disease-project-classification-checkpoint.ipynb
=======
   "execution_count": 43,
>>>>>>> f80f51b9df2f71d3904248bb78052ff6e96551bc
   "metadata": {
    "slideshow": {
     "slide_type": "skip"
    }
   },
   "outputs": [
    {
     "data": {
      "text/html": [
       "<div>\n",
       "<style scoped>\n",
       "    .dataframe tbody tr th:only-of-type {\n",
       "        vertical-align: middle;\n",
       "    }\n",
       "\n",
       "    .dataframe tbody tr th {\n",
       "        vertical-align: top;\n",
       "    }\n",
       "\n",
       "    .dataframe thead th {\n",
       "        text-align: right;\n",
       "    }\n",
       "</style>\n",
       "<table border=\"1\" class=\"dataframe\">\n",
       "  <thead>\n",
       "    <tr style=\"text-align: right;\">\n",
       "      <th></th>\n",
       "      <th>age</th>\n",
       "      <th>sex</th>\n",
       "      <th>cp</th>\n",
       "      <th>trestbps</th>\n",
       "      <th>chol</th>\n",
       "      <th>fbs</th>\n",
       "      <th>restecg</th>\n",
       "      <th>thalach</th>\n",
       "      <th>exang</th>\n",
       "      <th>oldpeak</th>\n",
       "      <th>slope</th>\n",
       "      <th>ca</th>\n",
       "      <th>thal</th>\n",
       "      <th>target</th>\n",
       "    </tr>\n",
       "  </thead>\n",
       "  <tbody>\n",
       "    <tr>\n",
       "      <th>301</th>\n",
       "      <td>57</td>\n",
       "      <td>1</td>\n",
       "      <td>0</td>\n",
       "      <td>130</td>\n",
       "      <td>131</td>\n",
       "      <td>0</td>\n",
       "      <td>1</td>\n",
       "      <td>115</td>\n",
       "      <td>1</td>\n",
       "      <td>1.2</td>\n",
       "      <td>1</td>\n",
       "      <td>1</td>\n",
       "      <td>3</td>\n",
       "      <td>0</td>\n",
       "    </tr>\n",
       "    <tr>\n",
       "      <th>302</th>\n",
       "      <td>57</td>\n",
       "      <td>0</td>\n",
       "      <td>1</td>\n",
       "      <td>130</td>\n",
       "      <td>236</td>\n",
       "      <td>0</td>\n",
       "      <td>0</td>\n",
       "      <td>174</td>\n",
       "      <td>0</td>\n",
       "      <td>0.0</td>\n",
       "      <td>1</td>\n",
       "      <td>1</td>\n",
       "      <td>2</td>\n",
       "      <td>0</td>\n",
       "    </tr>\n",
       "  </tbody>\n",
       "</table>\n",
       "</div>"
      ],
      "text/plain": [
       "     age  sex  cp  trestbps  chol  fbs  restecg  thalach  exang  oldpeak  \\\n",
       "301   57    1   0       130   131    0        1      115      1      1.2   \n",
       "302   57    0   1       130   236    0        0      174      0      0.0   \n",
       "\n",
       "     slope  ca  thal  target  \n",
       "301      1   1     3       0  \n",
       "302      1   1     2       0  "
      ]
     },
<<<<<<< HEAD
<<<<<<< HEAD:machine-learning-zero-mastery/structured-data-projects/End-to-end-heart-disease-project-classification.ipynb
     "execution_count": 43,
=======
     "execution_count": 7,
>>>>>>> f80f51b9df2f71d3904248bb78052ff6e96551bc:machine-learning-zero-mastery/structured-data-projects/.ipynb_checkpoints/End-to-end-heart-disease-project-classification-checkpoint.ipynb
=======
     "execution_count": 43,
>>>>>>> f80f51b9df2f71d3904248bb78052ff6e96551bc
     "metadata": {},
     "output_type": "execute_result"
    }
   ],
   "source": [
    "df.tail(2)"
   ]
  },
  {
   "cell_type": "code",
<<<<<<< HEAD
<<<<<<< HEAD:machine-learning-zero-mastery/structured-data-projects/End-to-end-heart-disease-project-classification.ipynb
   "execution_count": 44,
=======
   "execution_count": 8,
>>>>>>> f80f51b9df2f71d3904248bb78052ff6e96551bc:machine-learning-zero-mastery/structured-data-projects/.ipynb_checkpoints/End-to-end-heart-disease-project-classification-checkpoint.ipynb
=======
   "execution_count": 44,
>>>>>>> f80f51b9df2f71d3904248bb78052ff6e96551bc
   "metadata": {
    "slideshow": {
     "slide_type": "subslide"
    }
   },
   "outputs": [
    {
     "data": {
      "text/plain": [
       "1    165\n",
       "0    138\n",
       "Name: target, dtype: int64"
      ]
     },
<<<<<<< HEAD
<<<<<<< HEAD:machine-learning-zero-mastery/structured-data-projects/End-to-end-heart-disease-project-classification.ipynb
     "execution_count": 44,
=======
     "execution_count": 8,
>>>>>>> f80f51b9df2f71d3904248bb78052ff6e96551bc:machine-learning-zero-mastery/structured-data-projects/.ipynb_checkpoints/End-to-end-heart-disease-project-classification-checkpoint.ipynb
=======
     "execution_count": 44,
>>>>>>> f80f51b9df2f71d3904248bb78052ff6e96551bc
     "metadata": {},
     "output_type": "execute_result"
    }
   ],
   "source": [
    "# how many of each class their are?\n",
    "# Is our data unbalanced?\n",
    "df['target'].value_counts()"
   ]
  },
  {
   "cell_type": "code",
<<<<<<< HEAD
<<<<<<< HEAD:machine-learning-zero-mastery/structured-data-projects/End-to-end-heart-disease-project-classification.ipynb
   "execution_count": 45,
=======
   "execution_count": 9,
>>>>>>> f80f51b9df2f71d3904248bb78052ff6e96551bc:machine-learning-zero-mastery/structured-data-projects/.ipynb_checkpoints/End-to-end-heart-disease-project-classification-checkpoint.ipynb
=======
   "execution_count": 45,
>>>>>>> f80f51b9df2f71d3904248bb78052ff6e96551bc
   "metadata": {
    "slideshow": {
     "slide_type": "fragment"
    }
   },
   "outputs": [
    {
     "data": {
      "image/png": "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\n",
      "text/plain": [
       "<Figure size 432x288 with 1 Axes>"
      ]
     },
     "metadata": {
      "needs_background": "light"
     },
     "output_type": "display_data"
    }
   ],
   "source": [
    "df['target'].value_counts().plot(kind='bar', color=['pink', 'lightblue']);"
   ]
  },
  {
   "cell_type": "code",
<<<<<<< HEAD
<<<<<<< HEAD:machine-learning-zero-mastery/structured-data-projects/End-to-end-heart-disease-project-classification.ipynb
   "execution_count": 46,
=======
   "execution_count": 10,
>>>>>>> f80f51b9df2f71d3904248bb78052ff6e96551bc:machine-learning-zero-mastery/structured-data-projects/.ipynb_checkpoints/End-to-end-heart-disease-project-classification-checkpoint.ipynb
=======
   "execution_count": 46,
>>>>>>> f80f51b9df2f71d3904248bb78052ff6e96551bc
   "metadata": {
    "slideshow": {
     "slide_type": "subslide"
    }
   },
   "outputs": [
    {
     "name": "stdout",
     "output_type": "stream",
     "text": [
      "<class 'pandas.core.frame.DataFrame'>\n",
      "RangeIndex: 303 entries, 0 to 302\n",
      "Data columns (total 14 columns):\n",
      " #   Column    Non-Null Count  Dtype  \n",
      "---  ------    --------------  -----  \n",
      " 0   age       303 non-null    int64  \n",
      " 1   sex       303 non-null    int64  \n",
      " 2   cp        303 non-null    int64  \n",
      " 3   trestbps  303 non-null    int64  \n",
      " 4   chol      303 non-null    int64  \n",
      " 5   fbs       303 non-null    int64  \n",
      " 6   restecg   303 non-null    int64  \n",
      " 7   thalach   303 non-null    int64  \n",
      " 8   exang     303 non-null    int64  \n",
      " 9   oldpeak   303 non-null    float64\n",
      " 10  slope     303 non-null    int64  \n",
      " 11  ca        303 non-null    int64  \n",
      " 12  thal      303 non-null    int64  \n",
      " 13  target    303 non-null    int64  \n",
      "dtypes: float64(1), int64(13)\n",
      "memory usage: 33.3 KB\n"
     ]
    }
   ],
   "source": [
    "df.info()"
   ]
  },
  {
   "cell_type": "code",
<<<<<<< HEAD
<<<<<<< HEAD:machine-learning-zero-mastery/structured-data-projects/End-to-end-heart-disease-project-classification.ipynb
   "execution_count": 47,
=======
   "execution_count": 11,
>>>>>>> f80f51b9df2f71d3904248bb78052ff6e96551bc:machine-learning-zero-mastery/structured-data-projects/.ipynb_checkpoints/End-to-end-heart-disease-project-classification-checkpoint.ipynb
=======
   "execution_count": 47,
>>>>>>> f80f51b9df2f71d3904248bb78052ff6e96551bc
   "metadata": {
    "slideshow": {
     "slide_type": "subslide"
    }
   },
   "outputs": [
    {
     "data": {
      "text/plain": [
       "age         0\n",
       "sex         0\n",
       "cp          0\n",
       "trestbps    0\n",
       "chol        0\n",
       "fbs         0\n",
       "restecg     0\n",
       "thalach     0\n",
       "exang       0\n",
       "oldpeak     0\n",
       "slope       0\n",
       "ca          0\n",
       "thal        0\n",
       "target      0\n",
       "dtype: int64"
      ]
     },
<<<<<<< HEAD
<<<<<<< HEAD:machine-learning-zero-mastery/structured-data-projects/End-to-end-heart-disease-project-classification.ipynb
     "execution_count": 47,
=======
     "execution_count": 11,
>>>>>>> f80f51b9df2f71d3904248bb78052ff6e96551bc:machine-learning-zero-mastery/structured-data-projects/.ipynb_checkpoints/End-to-end-heart-disease-project-classification-checkpoint.ipynb
=======
     "execution_count": 47,
>>>>>>> f80f51b9df2f71d3904248bb78052ff6e96551bc
     "metadata": {},
     "output_type": "execute_result"
    }
   ],
   "source": [
    "# Are there any missing values?\n",
    "df.isna().sum()"
   ]
  },
  {
   "cell_type": "code",
<<<<<<< HEAD
<<<<<<< HEAD:machine-learning-zero-mastery/structured-data-projects/End-to-end-heart-disease-project-classification.ipynb
   "execution_count": 48,
=======
   "execution_count": 12,
>>>>>>> f80f51b9df2f71d3904248bb78052ff6e96551bc:machine-learning-zero-mastery/structured-data-projects/.ipynb_checkpoints/End-to-end-heart-disease-project-classification-checkpoint.ipynb
=======
   "execution_count": 48,
>>>>>>> f80f51b9df2f71d3904248bb78052ff6e96551bc
   "metadata": {
    "slideshow": {
     "slide_type": "subslide"
    }
   },
   "outputs": [
    {
     "data": {
      "text/html": [
       "<div>\n",
       "<style scoped>\n",
       "    .dataframe tbody tr th:only-of-type {\n",
       "        vertical-align: middle;\n",
       "    }\n",
       "\n",
       "    .dataframe tbody tr th {\n",
       "        vertical-align: top;\n",
       "    }\n",
       "\n",
       "    .dataframe thead th {\n",
       "        text-align: right;\n",
       "    }\n",
       "</style>\n",
       "<table border=\"1\" class=\"dataframe\">\n",
       "  <thead>\n",
       "    <tr style=\"text-align: right;\">\n",
       "      <th></th>\n",
       "      <th>age</th>\n",
       "      <th>sex</th>\n",
       "      <th>cp</th>\n",
       "      <th>trestbps</th>\n",
       "      <th>chol</th>\n",
       "      <th>fbs</th>\n",
       "      <th>restecg</th>\n",
       "      <th>thalach</th>\n",
       "      <th>exang</th>\n",
       "      <th>oldpeak</th>\n",
       "      <th>slope</th>\n",
       "      <th>ca</th>\n",
       "      <th>thal</th>\n",
       "      <th>target</th>\n",
       "    </tr>\n",
       "  </thead>\n",
       "  <tbody>\n",
       "    <tr>\n",
       "      <th>count</th>\n",
       "      <td>303.000000</td>\n",
       "      <td>303.000000</td>\n",
       "      <td>303.000000</td>\n",
       "      <td>303.000000</td>\n",
       "      <td>303.000000</td>\n",
       "      <td>303.000000</td>\n",
       "      <td>303.000000</td>\n",
       "      <td>303.000000</td>\n",
       "      <td>303.000000</td>\n",
       "      <td>303.000000</td>\n",
       "      <td>303.000000</td>\n",
       "      <td>303.000000</td>\n",
       "      <td>303.000000</td>\n",
       "      <td>303.000000</td>\n",
       "    </tr>\n",
       "    <tr>\n",
       "      <th>mean</th>\n",
       "      <td>54.366337</td>\n",
       "      <td>0.683168</td>\n",
       "      <td>0.966997</td>\n",
       "      <td>131.623762</td>\n",
       "      <td>246.264026</td>\n",
       "      <td>0.148515</td>\n",
       "      <td>0.528053</td>\n",
       "      <td>149.646865</td>\n",
       "      <td>0.326733</td>\n",
       "      <td>1.039604</td>\n",
       "      <td>1.399340</td>\n",
       "      <td>0.729373</td>\n",
       "      <td>2.313531</td>\n",
       "      <td>0.544554</td>\n",
       "    </tr>\n",
       "    <tr>\n",
       "      <th>std</th>\n",
       "      <td>9.082101</td>\n",
       "      <td>0.466011</td>\n",
       "      <td>1.032052</td>\n",
       "      <td>17.538143</td>\n",
       "      <td>51.830751</td>\n",
       "      <td>0.356198</td>\n",
       "      <td>0.525860</td>\n",
       "      <td>22.905161</td>\n",
       "      <td>0.469794</td>\n",
       "      <td>1.161075</td>\n",
       "      <td>0.616226</td>\n",
       "      <td>1.022606</td>\n",
       "      <td>0.612277</td>\n",
       "      <td>0.498835</td>\n",
       "    </tr>\n",
       "    <tr>\n",
       "      <th>min</th>\n",
       "      <td>29.000000</td>\n",
       "      <td>0.000000</td>\n",
       "      <td>0.000000</td>\n",
       "      <td>94.000000</td>\n",
       "      <td>126.000000</td>\n",
       "      <td>0.000000</td>\n",
       "      <td>0.000000</td>\n",
       "      <td>71.000000</td>\n",
       "      <td>0.000000</td>\n",
       "      <td>0.000000</td>\n",
       "      <td>0.000000</td>\n",
       "      <td>0.000000</td>\n",
       "      <td>0.000000</td>\n",
       "      <td>0.000000</td>\n",
       "    </tr>\n",
       "    <tr>\n",
       "      <th>25%</th>\n",
       "      <td>47.500000</td>\n",
       "      <td>0.000000</td>\n",
       "      <td>0.000000</td>\n",
       "      <td>120.000000</td>\n",
       "      <td>211.000000</td>\n",
       "      <td>0.000000</td>\n",
       "      <td>0.000000</td>\n",
       "      <td>133.500000</td>\n",
       "      <td>0.000000</td>\n",
       "      <td>0.000000</td>\n",
       "      <td>1.000000</td>\n",
       "      <td>0.000000</td>\n",
       "      <td>2.000000</td>\n",
       "      <td>0.000000</td>\n",
       "    </tr>\n",
       "    <tr>\n",
       "      <th>50%</th>\n",
       "      <td>55.000000</td>\n",
       "      <td>1.000000</td>\n",
       "      <td>1.000000</td>\n",
       "      <td>130.000000</td>\n",
       "      <td>240.000000</td>\n",
       "      <td>0.000000</td>\n",
       "      <td>1.000000</td>\n",
       "      <td>153.000000</td>\n",
       "      <td>0.000000</td>\n",
       "      <td>0.800000</td>\n",
       "      <td>1.000000</td>\n",
       "      <td>0.000000</td>\n",
       "      <td>2.000000</td>\n",
       "      <td>1.000000</td>\n",
       "    </tr>\n",
       "    <tr>\n",
       "      <th>75%</th>\n",
       "      <td>61.000000</td>\n",
       "      <td>1.000000</td>\n",
       "      <td>2.000000</td>\n",
       "      <td>140.000000</td>\n",
       "      <td>274.500000</td>\n",
       "      <td>0.000000</td>\n",
       "      <td>1.000000</td>\n",
       "      <td>166.000000</td>\n",
       "      <td>1.000000</td>\n",
       "      <td>1.600000</td>\n",
       "      <td>2.000000</td>\n",
       "      <td>1.000000</td>\n",
       "      <td>3.000000</td>\n",
       "      <td>1.000000</td>\n",
       "    </tr>\n",
       "    <tr>\n",
       "      <th>max</th>\n",
       "      <td>77.000000</td>\n",
       "      <td>1.000000</td>\n",
       "      <td>3.000000</td>\n",
       "      <td>200.000000</td>\n",
       "      <td>564.000000</td>\n",
       "      <td>1.000000</td>\n",
       "      <td>2.000000</td>\n",
       "      <td>202.000000</td>\n",
       "      <td>1.000000</td>\n",
       "      <td>6.200000</td>\n",
       "      <td>2.000000</td>\n",
       "      <td>4.000000</td>\n",
       "      <td>3.000000</td>\n",
       "      <td>1.000000</td>\n",
       "    </tr>\n",
       "  </tbody>\n",
       "</table>\n",
       "</div>"
      ],
      "text/plain": [
       "              age         sex          cp    trestbps        chol         fbs  \\\n",
       "count  303.000000  303.000000  303.000000  303.000000  303.000000  303.000000   \n",
       "mean    54.366337    0.683168    0.966997  131.623762  246.264026    0.148515   \n",
       "std      9.082101    0.466011    1.032052   17.538143   51.830751    0.356198   \n",
       "min     29.000000    0.000000    0.000000   94.000000  126.000000    0.000000   \n",
       "25%     47.500000    0.000000    0.000000  120.000000  211.000000    0.000000   \n",
       "50%     55.000000    1.000000    1.000000  130.000000  240.000000    0.000000   \n",
       "75%     61.000000    1.000000    2.000000  140.000000  274.500000    0.000000   \n",
       "max     77.000000    1.000000    3.000000  200.000000  564.000000    1.000000   \n",
       "\n",
       "          restecg     thalach       exang     oldpeak       slope          ca  \\\n",
       "count  303.000000  303.000000  303.000000  303.000000  303.000000  303.000000   \n",
       "mean     0.528053  149.646865    0.326733    1.039604    1.399340    0.729373   \n",
       "std      0.525860   22.905161    0.469794    1.161075    0.616226    1.022606   \n",
       "min      0.000000   71.000000    0.000000    0.000000    0.000000    0.000000   \n",
       "25%      0.000000  133.500000    0.000000    0.000000    1.000000    0.000000   \n",
       "50%      1.000000  153.000000    0.000000    0.800000    1.000000    0.000000   \n",
       "75%      1.000000  166.000000    1.000000    1.600000    2.000000    1.000000   \n",
       "max      2.000000  202.000000    1.000000    6.200000    2.000000    4.000000   \n",
       "\n",
       "             thal      target  \n",
       "count  303.000000  303.000000  \n",
       "mean     2.313531    0.544554  \n",
       "std      0.612277    0.498835  \n",
       "min      0.000000    0.000000  \n",
       "25%      2.000000    0.000000  \n",
       "50%      2.000000    1.000000  \n",
       "75%      3.000000    1.000000  \n",
       "max      3.000000    1.000000  "
      ]
     },
<<<<<<< HEAD
<<<<<<< HEAD:machine-learning-zero-mastery/structured-data-projects/End-to-end-heart-disease-project-classification.ipynb
     "execution_count": 48,
=======
     "execution_count": 12,
>>>>>>> f80f51b9df2f71d3904248bb78052ff6e96551bc:machine-learning-zero-mastery/structured-data-projects/.ipynb_checkpoints/End-to-end-heart-disease-project-classification-checkpoint.ipynb
=======
     "execution_count": 48,
>>>>>>> f80f51b9df2f71d3904248bb78052ff6e96551bc
     "metadata": {},
     "output_type": "execute_result"
    }
   ],
   "source": [
    "df.describe()"
   ]
  },
  {
   "cell_type": "markdown",
   "metadata": {
    "slideshow": {
     "slide_type": "slide"
    }
   },
   "source": [
    "# Finding Patterns In Data"
   ]
  },
  {
   "cell_type": "markdown",
   "metadata": {
    "slideshow": {
     "slide_type": "subslide"
    }
   },
   "source": [
    "## Heart Disease Frequency according to Sex"
   ]
  },
  {
   "cell_type": "code",
<<<<<<< HEAD
<<<<<<< HEAD:machine-learning-zero-mastery/structured-data-projects/End-to-end-heart-disease-project-classification.ipynb
   "execution_count": 49,
=======
   "execution_count": 13,
>>>>>>> f80f51b9df2f71d3904248bb78052ff6e96551bc:machine-learning-zero-mastery/structured-data-projects/.ipynb_checkpoints/End-to-end-heart-disease-project-classification-checkpoint.ipynb
=======
   "execution_count": 49,
>>>>>>> f80f51b9df2f71d3904248bb78052ff6e96551bc
   "metadata": {
    "slideshow": {
     "slide_type": "fragment"
    }
   },
   "outputs": [
    {
     "data": {
      "text/plain": [
       "1    207\n",
       "0     96\n",
       "Name: sex, dtype: int64"
      ]
     },
<<<<<<< HEAD
<<<<<<< HEAD:machine-learning-zero-mastery/structured-data-projects/End-to-end-heart-disease-project-classification.ipynb
     "execution_count": 49,
=======
     "execution_count": 13,
>>>>>>> f80f51b9df2f71d3904248bb78052ff6e96551bc:machine-learning-zero-mastery/structured-data-projects/.ipynb_checkpoints/End-to-end-heart-disease-project-classification-checkpoint.ipynb
=======
     "execution_count": 49,
>>>>>>> f80f51b9df2f71d3904248bb78052ff6e96551bc
     "metadata": {},
     "output_type": "execute_result"
    }
   ],
   "source": [
    "df.sex.value_counts()"
   ]
  },
  {
   "cell_type": "code",
<<<<<<< HEAD
<<<<<<< HEAD:machine-learning-zero-mastery/structured-data-projects/End-to-end-heart-disease-project-classification.ipynb
   "execution_count": 50,
=======
   "execution_count": 14,
>>>>>>> f80f51b9df2f71d3904248bb78052ff6e96551bc:machine-learning-zero-mastery/structured-data-projects/.ipynb_checkpoints/End-to-end-heart-disease-project-classification-checkpoint.ipynb
=======
   "execution_count": 50,
>>>>>>> f80f51b9df2f71d3904248bb78052ff6e96551bc
   "metadata": {
    "slideshow": {
     "slide_type": "subslide"
    }
   },
   "outputs": [
    {
     "data": {
      "text/html": [
       "<div>\n",
       "<style scoped>\n",
       "    .dataframe tbody tr th:only-of-type {\n",
       "        vertical-align: middle;\n",
       "    }\n",
       "\n",
       "    .dataframe tbody tr th {\n",
       "        vertical-align: top;\n",
       "    }\n",
       "\n",
       "    .dataframe thead th {\n",
       "        text-align: right;\n",
       "    }\n",
       "</style>\n",
       "<table border=\"1\" class=\"dataframe\">\n",
       "  <thead>\n",
       "    <tr style=\"text-align: right;\">\n",
       "      <th>sex</th>\n",
       "      <th>0</th>\n",
       "      <th>1</th>\n",
       "    </tr>\n",
       "    <tr>\n",
       "      <th>target</th>\n",
       "      <th></th>\n",
       "      <th></th>\n",
       "    </tr>\n",
       "  </thead>\n",
       "  <tbody>\n",
       "    <tr>\n",
       "      <th>0</th>\n",
       "      <td>24</td>\n",
       "      <td>114</td>\n",
       "    </tr>\n",
       "    <tr>\n",
       "      <th>1</th>\n",
       "      <td>72</td>\n",
       "      <td>93</td>\n",
       "    </tr>\n",
       "  </tbody>\n",
       "</table>\n",
       "</div>"
      ],
      "text/plain": [
       "sex      0    1\n",
       "target         \n",
       "0       24  114\n",
       "1       72   93"
      ]
     },
<<<<<<< HEAD
<<<<<<< HEAD:machine-learning-zero-mastery/structured-data-projects/End-to-end-heart-disease-project-classification.ipynb
     "execution_count": 50,
=======
     "execution_count": 14,
>>>>>>> f80f51b9df2f71d3904248bb78052ff6e96551bc:machine-learning-zero-mastery/structured-data-projects/.ipynb_checkpoints/End-to-end-heart-disease-project-classification-checkpoint.ipynb
=======
     "execution_count": 50,
>>>>>>> f80f51b9df2f71d3904248bb78052ff6e96551bc
     "metadata": {},
     "output_type": "execute_result"
    }
   ],
   "source": [
    "# Compare target column with sex column \n",
    "pd.crosstab(df['target'], df['sex'])"
   ]
  },
  {
   "cell_type": "markdown",
   "metadata": {
    "slideshow": {
     "slide_type": "fragment"
    }
   },
   "source": [
    "- If we were to see a random person we can infer that there's a 62.5% chance that they have heart disease\n",
    "- About 50% of men have heart disease in this dataset\n",
    "- 72% of women have heart disease. So if a person is a women based on our data there's about a 75% chance she has heart disease\n"
   ]
  },
  {
   "cell_type": "code",
<<<<<<< HEAD
<<<<<<< HEAD:machine-learning-zero-mastery/structured-data-projects/End-to-end-heart-disease-project-classification.ipynb
   "execution_count": 51,
=======
   "execution_count": 15,
>>>>>>> f80f51b9df2f71d3904248bb78052ff6e96551bc:machine-learning-zero-mastery/structured-data-projects/.ipynb_checkpoints/End-to-end-heart-disease-project-classification-checkpoint.ipynb
=======
   "execution_count": 51,
>>>>>>> f80f51b9df2f71d3904248bb78052ff6e96551bc
   "metadata": {
    "slideshow": {
     "slide_type": "subslide"
    }
   },
   "outputs": [
    {
     "data": {
      "image/png": "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\n",
      "text/plain": [
       "<Figure size 1080x504 with 1 Axes>"
      ]
     },
     "metadata": {
      "needs_background": "light"
     },
     "output_type": "display_data"
    }
   ],
   "source": [
    "# create plot for crosstab \n",
    "pd.crosstab(df['target'], df['sex']).plot(kind='bar', figsize=(15, 7), color=['pink', 'lightblue'])\n",
    "plt.title('Frequency of Heart Disease for Sex')\n",
    "plt.xlabel('0 = No Disease, 1 = Disease')\n",
    "plt.ylabel('Amount')\n",
    "plt.legend(['Female', 'Male']);\n",
    "plt.xticks(rotation=0);"
   ]
  },
  {
   "cell_type": "markdown",
   "metadata": {
    "slideshow": {
     "slide_type": "subslide"
    }
   },
   "source": [
    "## Heart Disease Frequency Given Age"
   ]
  },
  {
   "cell_type": "code",
<<<<<<< HEAD
<<<<<<< HEAD:machine-learning-zero-mastery/structured-data-projects/End-to-end-heart-disease-project-classification.ipynb
   "execution_count": 52,
=======
   "execution_count": 16,
>>>>>>> f80f51b9df2f71d3904248bb78052ff6e96551bc:machine-learning-zero-mastery/structured-data-projects/.ipynb_checkpoints/End-to-end-heart-disease-project-classification-checkpoint.ipynb
=======
   "execution_count": 52,
>>>>>>> f80f51b9df2f71d3904248bb78052ff6e96551bc
   "metadata": {
    "slideshow": {
     "slide_type": "subslide"
    }
   },
   "outputs": [
    {
     "data": {
      "text/plain": [
<<<<<<< HEAD
<<<<<<< HEAD:machine-learning-zero-mastery/structured-data-projects/End-to-end-heart-disease-project-classification.ipynb
=======
>>>>>>> f80f51b9df2f71d3904248bb78052ff6e96551bc
       "<matplotlib.axes._subplots.AxesSubplot at 0x1118d0cd0>"
      ]
     },
     "execution_count": 52,
<<<<<<< HEAD
=======
       "<matplotlib.axes._subplots.AxesSubplot at 0x1a273aa450>"
      ]
     },
     "execution_count": 16,
>>>>>>> f80f51b9df2f71d3904248bb78052ff6e96551bc:machine-learning-zero-mastery/structured-data-projects/.ipynb_checkpoints/End-to-end-heart-disease-project-classification-checkpoint.ipynb
=======
>>>>>>> f80f51b9df2f71d3904248bb78052ff6e96551bc
     "metadata": {},
     "output_type": "execute_result"
    },
    {
     "data": {
      "image/png": "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\n",
      "text/plain": [
       "<Figure size 1440x720 with 1 Axes>"
      ]
     },
     "metadata": {
      "needs_background": "light"
     },
     "output_type": "display_data"
    }
   ],
   "source": [
    "# distribution of Age \n",
    "df['age'].plot(kind='hist', figsize=(20,10), color=['orange'])"
   ]
  },
  {
   "cell_type": "code",
<<<<<<< HEAD
<<<<<<< HEAD:machine-learning-zero-mastery/structured-data-projects/End-to-end-heart-disease-project-classification.ipynb
   "execution_count": 53,
=======
   "execution_count": 17,
>>>>>>> f80f51b9df2f71d3904248bb78052ff6e96551bc:machine-learning-zero-mastery/structured-data-projects/.ipynb_checkpoints/End-to-end-heart-disease-project-classification-checkpoint.ipynb
=======
   "execution_count": 53,
>>>>>>> f80f51b9df2f71d3904248bb78052ff6e96551bc
   "metadata": {
    "slideshow": {
     "slide_type": "fragment"
    }
   },
   "outputs": [
    {
     "data": {
      "text/plain": [
       "54.366336633663366"
      ]
     },
<<<<<<< HEAD
<<<<<<< HEAD:machine-learning-zero-mastery/structured-data-projects/End-to-end-heart-disease-project-classification.ipynb
     "execution_count": 53,
=======
     "execution_count": 17,
>>>>>>> f80f51b9df2f71d3904248bb78052ff6e96551bc:machine-learning-zero-mastery/structured-data-projects/.ipynb_checkpoints/End-to-end-heart-disease-project-classification-checkpoint.ipynb
=======
     "execution_count": 53,
>>>>>>> f80f51b9df2f71d3904248bb78052ff6e96551bc
     "metadata": {},
     "output_type": "execute_result"
    }
   ],
   "source": [
    "df.age.mean()"
   ]
  },
  {
   "cell_type": "markdown",
   "metadata": {
    "slideshow": {
     "slide_type": "fragment"
    }
   },
   "source": [
    "- Average age in our dataset is 54."
   ]
  },
  {
   "cell_type": "code",
<<<<<<< HEAD
<<<<<<< HEAD:machine-learning-zero-mastery/structured-data-projects/End-to-end-heart-disease-project-classification.ipynb
   "execution_count": 54,
=======
   "execution_count": 18,
>>>>>>> f80f51b9df2f71d3904248bb78052ff6e96551bc:machine-learning-zero-mastery/structured-data-projects/.ipynb_checkpoints/End-to-end-heart-disease-project-classification-checkpoint.ipynb
=======
   "execution_count": 54,
>>>>>>> f80f51b9df2f71d3904248bb78052ff6e96551bc
   "metadata": {
    "slideshow": {
     "slide_type": "subslide"
    }
   },
   "outputs": [
    {
     "data": {
      "text/plain": [
       "age          52.496970\n",
       "sex           0.563636\n",
       "cp            1.375758\n",
       "trestbps    129.303030\n",
       "chol        242.230303\n",
       "fbs           0.139394\n",
       "restecg       0.593939\n",
       "thalach     158.466667\n",
       "exang         0.139394\n",
       "oldpeak       0.583030\n",
       "slope         1.593939\n",
       "ca            0.363636\n",
       "thal          2.121212\n",
       "target        1.000000\n",
       "dtype: float64"
      ]
     },
<<<<<<< HEAD
<<<<<<< HEAD:machine-learning-zero-mastery/structured-data-projects/End-to-end-heart-disease-project-classification.ipynb
     "execution_count": 54,
=======
     "execution_count": 18,
>>>>>>> f80f51b9df2f71d3904248bb78052ff6e96551bc:machine-learning-zero-mastery/structured-data-projects/.ipynb_checkpoints/End-to-end-heart-disease-project-classification-checkpoint.ipynb
=======
     "execution_count": 54,
>>>>>>> f80f51b9df2f71d3904248bb78052ff6e96551bc
     "metadata": {},
     "output_type": "execute_result"
    }
   ],
   "source": [
    "df[(df['target']==1) & (df['age']>1)].mean()\n",
    "#pd.crosstab(df['target'], df['age']).plot(kind='hist', figsize=(50, 30))"
   ]
  },
  {
   "cell_type": "markdown",
   "metadata": {
    "slideshow": {
     "slide_type": "fragment"
    }
   },
   "source": [
    "- The average age for people in our dataset that have heart disease is 52 years of age and the majority of them are male."
   ]
  },
  {
   "cell_type": "markdown",
   "metadata": {
    "slideshow": {
     "slide_type": "subslide"
    }
   },
   "source": [
    "## Comparing Age vs Thalach and Heart Disease\n",
    "- Thalach: Maximum heart rate achieved "
   ]
  },
  {
   "cell_type": "code",
<<<<<<< HEAD
<<<<<<< HEAD:machine-learning-zero-mastery/structured-data-projects/End-to-end-heart-disease-project-classification.ipynb
   "execution_count": 55,
=======
   "execution_count": 19,
>>>>>>> f80f51b9df2f71d3904248bb78052ff6e96551bc:machine-learning-zero-mastery/structured-data-projects/.ipynb_checkpoints/End-to-end-heart-disease-project-classification-checkpoint.ipynb
=======
   "execution_count": 55,
>>>>>>> f80f51b9df2f71d3904248bb78052ff6e96551bc
   "metadata": {
    "slideshow": {
     "slide_type": "skip"
    }
   },
   "outputs": [
    {
     "data": {
      "text/html": [
       "<div>\n",
       "<style scoped>\n",
       "    .dataframe tbody tr th:only-of-type {\n",
       "        vertical-align: middle;\n",
       "    }\n",
       "\n",
       "    .dataframe tbody tr th {\n",
       "        vertical-align: top;\n",
       "    }\n",
       "\n",
       "    .dataframe thead th {\n",
       "        text-align: right;\n",
       "    }\n",
       "</style>\n",
       "<table border=\"1\" class=\"dataframe\">\n",
       "  <thead>\n",
       "    <tr style=\"text-align: right;\">\n",
       "      <th></th>\n",
       "      <th>age</th>\n",
       "      <th>sex</th>\n",
       "      <th>cp</th>\n",
       "      <th>trestbps</th>\n",
       "      <th>chol</th>\n",
       "      <th>fbs</th>\n",
       "      <th>restecg</th>\n",
       "      <th>thalach</th>\n",
       "      <th>exang</th>\n",
       "      <th>oldpeak</th>\n",
       "      <th>slope</th>\n",
       "      <th>ca</th>\n",
       "      <th>thal</th>\n",
       "      <th>target</th>\n",
       "    </tr>\n",
       "  </thead>\n",
       "  <tbody>\n",
       "    <tr>\n",
       "      <th>0</th>\n",
       "      <td>63</td>\n",
       "      <td>1</td>\n",
       "      <td>3</td>\n",
       "      <td>145</td>\n",
       "      <td>233</td>\n",
       "      <td>1</td>\n",
       "      <td>0</td>\n",
       "      <td>150</td>\n",
       "      <td>0</td>\n",
       "      <td>2.3</td>\n",
       "      <td>0</td>\n",
       "      <td>0</td>\n",
       "      <td>1</td>\n",
       "      <td>1</td>\n",
       "    </tr>\n",
       "    <tr>\n",
       "      <th>1</th>\n",
       "      <td>37</td>\n",
       "      <td>1</td>\n",
       "      <td>2</td>\n",
       "      <td>130</td>\n",
       "      <td>250</td>\n",
       "      <td>0</td>\n",
       "      <td>1</td>\n",
       "      <td>187</td>\n",
       "      <td>0</td>\n",
       "      <td>3.5</td>\n",
       "      <td>0</td>\n",
       "      <td>0</td>\n",
       "      <td>2</td>\n",
       "      <td>1</td>\n",
       "    </tr>\n",
       "  </tbody>\n",
       "</table>\n",
       "</div>"
      ],
      "text/plain": [
       "   age  sex  cp  trestbps  chol  fbs  restecg  thalach  exang  oldpeak  slope  \\\n",
       "0   63    1   3       145   233    1        0      150      0      2.3      0   \n",
       "1   37    1   2       130   250    0        1      187      0      3.5      0   \n",
       "\n",
       "   ca  thal  target  \n",
       "0   0     1       1  \n",
       "1   0     2       1  "
      ]
     },
<<<<<<< HEAD
<<<<<<< HEAD:machine-learning-zero-mastery/structured-data-projects/End-to-end-heart-disease-project-classification.ipynb
     "execution_count": 55,
=======
     "execution_count": 19,
>>>>>>> f80f51b9df2f71d3904248bb78052ff6e96551bc:machine-learning-zero-mastery/structured-data-projects/.ipynb_checkpoints/End-to-end-heart-disease-project-classification-checkpoint.ipynb
=======
     "execution_count": 55,
>>>>>>> f80f51b9df2f71d3904248bb78052ff6e96551bc
     "metadata": {},
     "output_type": "execute_result"
    }
   ],
   "source": [
    "df.head(2)"
   ]
  },
  {
   "cell_type": "code",
<<<<<<< HEAD
<<<<<<< HEAD:machine-learning-zero-mastery/structured-data-projects/End-to-end-heart-disease-project-classification.ipynb
   "execution_count": 56,
=======
   "execution_count": 20,
>>>>>>> f80f51b9df2f71d3904248bb78052ff6e96551bc:machine-learning-zero-mastery/structured-data-projects/.ipynb_checkpoints/End-to-end-heart-disease-project-classification-checkpoint.ipynb
=======
   "execution_count": 56,
>>>>>>> f80f51b9df2f71d3904248bb78052ff6e96551bc
   "metadata": {
    "slideshow": {
     "slide_type": "subslide"
    }
   },
   "outputs": [
    {
     "data": {
      "image/png": "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\n",
      "text/plain": [
       "<Figure size 720x432 with 1 Axes>"
      ]
     },
     "metadata": {
      "needs_background": "light"
     },
     "output_type": "display_data"
    }
   ],
   "source": [
    "# Create another figure\n",
    "plt.figure(figsize=(10,6))\n",
    "# scatter with positive examples \n",
    "plt.scatter(df.age[df.target==1],df.thalach[df.target==1],\n",
    "           c='green')\n",
    "# scatter with negative examples\n",
    "plt.scatter(df.age[df.target==0], df.thalach[df.target==0], c='yellow');\n",
    "# add some helpful info \n",
    "plt.title('Heart Disease in function of Age and Max Heart Rate')\n",
    "plt.xlabel('Age')\n",
    "plt.ylabel('Max Heart Rate')\n",
    "plt.legend(['Disease', 'No Disease']);"
   ]
  },
  {
   "cell_type": "markdown",
   "metadata": {
    "slideshow": {
     "slide_type": "subslide"
    }
   },
   "source": [
    "### Heart Disease Frequency per Chest Pain Type \n",
    "3. cp - chest pain type \n",
    "    * 0: Typical angina: chest pain related decrease blood supply to the heart\n",
    "    * 1: Atypical angina: chest pain not related to heart\n",
    "    * 2: Non-anginal pain: typically esophageal spasms (non heart related)\n",
    "    * 3: Asymptomatic: chest pain not showing signs of disease"
   ]
  },
  {
   "cell_type": "code",
<<<<<<< HEAD
<<<<<<< HEAD:machine-learning-zero-mastery/structured-data-projects/End-to-end-heart-disease-project-classification.ipynb
   "execution_count": 57,
=======
   "execution_count": 21,
>>>>>>> f80f51b9df2f71d3904248bb78052ff6e96551bc:machine-learning-zero-mastery/structured-data-projects/.ipynb_checkpoints/End-to-end-heart-disease-project-classification-checkpoint.ipynb
=======
   "execution_count": 57,
>>>>>>> f80f51b9df2f71d3904248bb78052ff6e96551bc
   "metadata": {
    "slideshow": {
     "slide_type": "skip"
    }
   },
   "outputs": [
    {
     "data": {
      "text/html": [
       "<div>\n",
       "<style scoped>\n",
       "    .dataframe tbody tr th:only-of-type {\n",
       "        vertical-align: middle;\n",
       "    }\n",
       "\n",
       "    .dataframe tbody tr th {\n",
       "        vertical-align: top;\n",
       "    }\n",
       "\n",
       "    .dataframe thead th {\n",
       "        text-align: right;\n",
       "    }\n",
       "</style>\n",
       "<table border=\"1\" class=\"dataframe\">\n",
       "  <thead>\n",
       "    <tr style=\"text-align: right;\">\n",
       "      <th>target</th>\n",
       "      <th>0</th>\n",
       "      <th>1</th>\n",
       "    </tr>\n",
       "    <tr>\n",
       "      <th>cp</th>\n",
       "      <th></th>\n",
       "      <th></th>\n",
       "    </tr>\n",
       "  </thead>\n",
       "  <tbody>\n",
       "    <tr>\n",
       "      <th>0</th>\n",
       "      <td>104</td>\n",
       "      <td>39</td>\n",
       "    </tr>\n",
       "    <tr>\n",
       "      <th>1</th>\n",
       "      <td>9</td>\n",
       "      <td>41</td>\n",
       "    </tr>\n",
       "    <tr>\n",
       "      <th>2</th>\n",
       "      <td>18</td>\n",
       "      <td>69</td>\n",
       "    </tr>\n",
       "    <tr>\n",
       "      <th>3</th>\n",
       "      <td>7</td>\n",
       "      <td>16</td>\n",
       "    </tr>\n",
       "  </tbody>\n",
       "</table>\n",
       "</div>"
      ],
      "text/plain": [
       "target    0   1\n",
       "cp             \n",
       "0       104  39\n",
       "1         9  41\n",
       "2        18  69\n",
       "3         7  16"
      ]
     },
<<<<<<< HEAD
<<<<<<< HEAD:machine-learning-zero-mastery/structured-data-projects/End-to-end-heart-disease-project-classification.ipynb
     "execution_count": 57,
=======
     "execution_count": 21,
>>>>>>> f80f51b9df2f71d3904248bb78052ff6e96551bc:machine-learning-zero-mastery/structured-data-projects/.ipynb_checkpoints/End-to-end-heart-disease-project-classification-checkpoint.ipynb
=======
     "execution_count": 57,
>>>>>>> f80f51b9df2f71d3904248bb78052ff6e96551bc
     "metadata": {},
     "output_type": "execute_result"
    }
   ],
   "source": [
    "pd.crosstab(df['cp'], df['target'])\n",
    "# Looks like as chestpain goes up, so does heart disease"
   ]
  },
  {
   "cell_type": "code",
<<<<<<< HEAD
<<<<<<< HEAD:machine-learning-zero-mastery/structured-data-projects/End-to-end-heart-disease-project-classification.ipynb
   "execution_count": 58,
=======
   "execution_count": 22,
>>>>>>> f80f51b9df2f71d3904248bb78052ff6e96551bc:machine-learning-zero-mastery/structured-data-projects/.ipynb_checkpoints/End-to-end-heart-disease-project-classification-checkpoint.ipynb
=======
   "execution_count": 58,
>>>>>>> f80f51b9df2f71d3904248bb78052ff6e96551bc
   "metadata": {
    "slideshow": {
     "slide_type": "subslide"
    }
   },
   "outputs": [
    {
     "data": {
      "image/png": "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\n",
      "text/plain": [
       "<Figure size 1080x576 with 1 Axes>"
      ]
     },
     "metadata": {
      "needs_background": "light"
     },
     "output_type": "display_data"
    }
   ],
   "source": [
    "pd.crosstab(df['cp'], df['target']).plot(kind='bar', figsize=(15, 8), color=['salmon', 'lightblue']);\n",
    "\n",
    "plt.title('Heart Disease Frequency per Chest Pain Type')\n",
    "plt.xlabel('Chest Pain Type')\n",
    "plt.ylabel('Amount')\n",
    "plt.legend(['No Disease', 'Disease'])\n",
    "plt.xticks(rotation=0);"
   ]
  },
  {
   "cell_type": "markdown",
   "metadata": {
    "slideshow": {
     "slide_type": "slide"
    }
   },
   "source": [
    "### Apply Correlation Matrix"
   ]
  },
  {
   "cell_type": "code",
<<<<<<< HEAD
<<<<<<< HEAD:machine-learning-zero-mastery/structured-data-projects/End-to-end-heart-disease-project-classification.ipynb
   "execution_count": 59,
=======
   "execution_count": 23,
>>>>>>> f80f51b9df2f71d3904248bb78052ff6e96551bc:machine-learning-zero-mastery/structured-data-projects/.ipynb_checkpoints/End-to-end-heart-disease-project-classification-checkpoint.ipynb
=======
   "execution_count": 59,
>>>>>>> f80f51b9df2f71d3904248bb78052ff6e96551bc
   "metadata": {
    "slideshow": {
     "slide_type": "subslide"
    }
   },
   "outputs": [
    {
     "data": {
      "image/png": "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\n",
      "text/plain": [
       "<Figure size 1080x648 with 2 Axes>"
      ]
     },
     "metadata": {
      "needs_background": "light"
     },
     "output_type": "display_data"
    }
   ],
   "source": [
    "corr_matrix = df.corr()\n",
    "fig, ax = plt.subplots(figsize=(15,9))\n",
    "ax = sns.heatmap(corr_matrix, annot=True, linewidths=0.5, fmt='.2f',cmap='YlGnBu');"
   ]
  },
  {
   "cell_type": "markdown",
   "metadata": {
    "slideshow": {
     "slide_type": "subslide"
    }
   },
   "source": [
    "- Negative Correlation => a relationship where one variable increases as the other decreases\n",
    "- Positive Correlation => relationship where when one variable increases the other variable increases and if one varable decreases the other variable decreases"
   ]
  },
  {
   "cell_type": "markdown",
   "metadata": {
    "slideshow": {
<<<<<<< HEAD
<<<<<<< HEAD:machine-learning-zero-mastery/structured-data-projects/End-to-end-heart-disease-project-classification.ipynb
     "slide_type": "skip"
=======
     "slide_type": "slide"
>>>>>>> f80f51b9df2f71d3904248bb78052ff6e96551bc:machine-learning-zero-mastery/structured-data-projects/.ipynb_checkpoints/End-to-end-heart-disease-project-classification-checkpoint.ipynb
=======
     "slide_type": "skip"
>>>>>>> f80f51b9df2f71d3904248bb78052ff6e96551bc
    }
   },
   "source": [
    "## Predictive Power Score"
   ]
  },
  {
   "cell_type": "code",
<<<<<<< HEAD
<<<<<<< HEAD:machine-learning-zero-mastery/structured-data-projects/End-to-end-heart-disease-project-classification.ipynb
   "execution_count": 60,
=======
   "execution_count": 24,
>>>>>>> f80f51b9df2f71d3904248bb78052ff6e96551bc:machine-learning-zero-mastery/structured-data-projects/.ipynb_checkpoints/End-to-end-heart-disease-project-classification-checkpoint.ipynb
=======
   "execution_count": 60,
>>>>>>> f80f51b9df2f71d3904248bb78052ff6e96551bc
   "metadata": {
    "slideshow": {
     "slide_type": "skip"
    }
   },
   "outputs": [
    {
     "data": {
      "text/html": [
       "<div>\n",
       "<style scoped>\n",
       "    .dataframe tbody tr th:only-of-type {\n",
       "        vertical-align: middle;\n",
       "    }\n",
       "\n",
       "    .dataframe tbody tr th {\n",
       "        vertical-align: top;\n",
       "    }\n",
       "\n",
       "    .dataframe thead th {\n",
       "        text-align: right;\n",
       "    }\n",
       "</style>\n",
       "<table border=\"1\" class=\"dataframe\">\n",
       "  <thead>\n",
       "    <tr style=\"text-align: right;\">\n",
       "      <th></th>\n",
       "      <th>age</th>\n",
       "      <th>sex</th>\n",
       "      <th>cp</th>\n",
       "      <th>trestbps</th>\n",
       "      <th>chol</th>\n",
       "      <th>fbs</th>\n",
       "      <th>restecg</th>\n",
       "      <th>thalach</th>\n",
       "      <th>exang</th>\n",
       "      <th>oldpeak</th>\n",
       "      <th>slope</th>\n",
       "      <th>ca</th>\n",
       "      <th>thal</th>\n",
       "      <th>target</th>\n",
       "    </tr>\n",
       "  </thead>\n",
       "  <tbody>\n",
       "    <tr>\n",
       "      <th>0</th>\n",
       "      <td>63</td>\n",
       "      <td>1</td>\n",
       "      <td>3</td>\n",
       "      <td>145</td>\n",
       "      <td>233</td>\n",
       "      <td>1</td>\n",
       "      <td>0</td>\n",
       "      <td>150</td>\n",
       "      <td>0</td>\n",
       "      <td>2.3</td>\n",
       "      <td>0</td>\n",
       "      <td>0</td>\n",
       "      <td>1</td>\n",
       "      <td>1</td>\n",
       "    </tr>\n",
       "  </tbody>\n",
       "</table>\n",
       "</div>"
      ],
      "text/plain": [
       "   age  sex  cp  trestbps  chol  fbs  restecg  thalach  exang  oldpeak  slope  \\\n",
       "0   63    1   3       145   233    1        0      150      0      2.3      0   \n",
       "\n",
       "   ca  thal  target  \n",
       "0   0     1       1  "
      ]
     },
<<<<<<< HEAD
<<<<<<< HEAD:machine-learning-zero-mastery/structured-data-projects/End-to-end-heart-disease-project-classification.ipynb
     "execution_count": 60,
=======
     "execution_count": 24,
>>>>>>> f80f51b9df2f71d3904248bb78052ff6e96551bc:machine-learning-zero-mastery/structured-data-projects/.ipynb_checkpoints/End-to-end-heart-disease-project-classification-checkpoint.ipynb
=======
     "execution_count": 60,
>>>>>>> f80f51b9df2f71d3904248bb78052ff6e96551bc
     "metadata": {},
     "output_type": "execute_result"
    }
   ],
   "source": [
    "df.head(1)"
   ]
  },
  {
   "cell_type": "code",
<<<<<<< HEAD
<<<<<<< HEAD:machine-learning-zero-mastery/structured-data-projects/End-to-end-heart-disease-project-classification.ipynb
   "execution_count": 64,
=======
   "execution_count": 25,
>>>>>>> f80f51b9df2f71d3904248bb78052ff6e96551bc:machine-learning-zero-mastery/structured-data-projects/.ipynb_checkpoints/End-to-end-heart-disease-project-classification-checkpoint.ipynb
=======
   "execution_count": 64,
>>>>>>> f80f51b9df2f71d3904248bb78052ff6e96551bc
   "metadata": {
    "slideshow": {
     "slide_type": "skip"
    }
   },
   "outputs": [
    {
     "data": {
      "text/plain": [
       "{'x': 'thalach',\n",
       " 'y': 'target',\n",
       " 'task': 'classification',\n",
       " 'ppscore': 0.3136424653822034,\n",
       " 'metric': 'weighted F1',\n",
       " 'baseline_score': 0.383980705762884,\n",
       " 'model_score': 0.577190515930418,\n",
       " 'model': DecisionTreeClassifier(ccp_alpha=0.0, class_weight=None, criterion='gini',\n",
       "                        max_depth=None, max_features=None, max_leaf_nodes=None,\n",
       "                        min_impurity_decrease=0.0, min_impurity_split=None,\n",
       "                        min_samples_leaf=1, min_samples_split=2,\n",
       "                        min_weight_fraction_leaf=0.0, presort='deprecated',\n",
       "                        random_state=None, splitter='best')}"
      ]
     },
<<<<<<< HEAD
<<<<<<< HEAD:machine-learning-zero-mastery/structured-data-projects/End-to-end-heart-disease-project-classification.ipynb
     "execution_count": 64,
=======
     "execution_count": 25,
>>>>>>> f80f51b9df2f71d3904248bb78052ff6e96551bc:machine-learning-zero-mastery/structured-data-projects/.ipynb_checkpoints/End-to-end-heart-disease-project-classification-checkpoint.ipynb
=======
     "execution_count": 64,
>>>>>>> f80f51b9df2f71d3904248bb78052ff6e96551bc
     "metadata": {},
     "output_type": "execute_result"
    }
   ],
   "source": [
    "pps.score(df, \"thalach\", \"target\", task='classification')"
   ]
  },
  {
   "cell_type": "code",
<<<<<<< HEAD
<<<<<<< HEAD:machine-learning-zero-mastery/structured-data-projects/End-to-end-heart-disease-project-classification.ipynb
=======
>>>>>>> f80f51b9df2f71d3904248bb78052ff6e96551bc
   "execution_count": 65,
   "metadata": {
    "slideshow": {
     "slide_type": "skip"
<<<<<<< HEAD
=======
   "execution_count": 26,
   "metadata": {
    "slideshow": {
     "slide_type": "fragment"
>>>>>>> f80f51b9df2f71d3904248bb78052ff6e96551bc:machine-learning-zero-mastery/structured-data-projects/.ipynb_checkpoints/End-to-end-heart-disease-project-classification-checkpoint.ipynb
=======
>>>>>>> f80f51b9df2f71d3904248bb78052ff6e96551bc
    }
   },
   "outputs": [
    {
     "name": "stderr",
     "output_type": "stream",
     "text": [
      "/Applications/anaconda3/lib/python3.7/site-packages/sklearn/model_selection/_split.py:667: UserWarning: The least populated class in y has only 2 members, which is less than n_splits=4.\n",
      "  % (min_groups, self.n_splits)), UserWarning)\n",
      "/Applications/anaconda3/lib/python3.7/site-packages/sklearn/model_selection/_split.py:667: UserWarning: The least populated class in y has only 2 members, which is less than n_splits=4.\n",
      "  % (min_groups, self.n_splits)), UserWarning)\n",
      "/Applications/anaconda3/lib/python3.7/site-packages/sklearn/model_selection/_split.py:667: UserWarning: The least populated class in y has only 2 members, which is less than n_splits=4.\n",
      "  % (min_groups, self.n_splits)), UserWarning)\n",
      "/Applications/anaconda3/lib/python3.7/site-packages/sklearn/model_selection/_split.py:667: UserWarning: The least populated class in y has only 2 members, which is less than n_splits=4.\n",
      "  % (min_groups, self.n_splits)), UserWarning)\n",
      "/Applications/anaconda3/lib/python3.7/site-packages/sklearn/model_selection/_split.py:667: UserWarning: The least populated class in y has only 2 members, which is less than n_splits=4.\n",
      "  % (min_groups, self.n_splits)), UserWarning)\n",
      "/Applications/anaconda3/lib/python3.7/site-packages/sklearn/model_selection/_split.py:667: UserWarning: The least populated class in y has only 2 members, which is less than n_splits=4.\n",
      "  % (min_groups, self.n_splits)), UserWarning)\n",
      "/Applications/anaconda3/lib/python3.7/site-packages/sklearn/model_selection/_split.py:667: UserWarning: The least populated class in y has only 2 members, which is less than n_splits=4.\n",
      "  % (min_groups, self.n_splits)), UserWarning)\n",
      "/Applications/anaconda3/lib/python3.7/site-packages/sklearn/model_selection/_split.py:667: UserWarning: The least populated class in y has only 2 members, which is less than n_splits=4.\n",
      "  % (min_groups, self.n_splits)), UserWarning)\n",
      "/Applications/anaconda3/lib/python3.7/site-packages/sklearn/model_selection/_split.py:667: UserWarning: The least populated class in y has only 2 members, which is less than n_splits=4.\n",
      "  % (min_groups, self.n_splits)), UserWarning)\n",
      "/Applications/anaconda3/lib/python3.7/site-packages/sklearn/model_selection/_split.py:667: UserWarning: The least populated class in y has only 2 members, which is less than n_splits=4.\n",
      "  % (min_groups, self.n_splits)), UserWarning)\n",
      "/Applications/anaconda3/lib/python3.7/site-packages/sklearn/model_selection/_split.py:667: UserWarning: The least populated class in y has only 2 members, which is less than n_splits=4.\n",
      "  % (min_groups, self.n_splits)), UserWarning)\n",
      "/Applications/anaconda3/lib/python3.7/site-packages/sklearn/model_selection/_split.py:667: UserWarning: The least populated class in y has only 2 members, which is less than n_splits=4.\n",
      "  % (min_groups, self.n_splits)), UserWarning)\n",
      "/Applications/anaconda3/lib/python3.7/site-packages/sklearn/model_selection/_split.py:667: UserWarning: The least populated class in y has only 2 members, which is less than n_splits=4.\n",
      "  % (min_groups, self.n_splits)), UserWarning)\n"
     ]
    },
    {
     "data": {
      "image/png": "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\n",
      "text/plain": [
       "<Figure size 1080x648 with 2 Axes>"
      ]
     },
     "metadata": {
      "needs_background": "light"
     },
     "output_type": "display_data"
    }
   ],
   "source": [
    "pps = pps.matrix(df)\n",
    "\n",
    "fig, ax = plt.subplots(figsize=(15,9))\n",
    "ax = sns.heatmap(pps, annot=True, linewidths=0.5, fmt='.2f',cmap='YlGnBu');"
   ]
  },
  {
   "cell_type": "markdown",
   "metadata": {
    "slideshow": {
     "slide_type": "slide"
    }
   },
   "source": [
    "## 5. Modelling"
   ]
  },
  {
   "cell_type": "code",
   "execution_count": 27,
   "metadata": {
    "slideshow": {
     "slide_type": "skip"
    }
   },
   "outputs": [
    {
     "data": {
      "text/html": [
       "<div>\n",
       "<style scoped>\n",
       "    .dataframe tbody tr th:only-of-type {\n",
       "        vertical-align: middle;\n",
       "    }\n",
       "\n",
       "    .dataframe tbody tr th {\n",
       "        vertical-align: top;\n",
       "    }\n",
       "\n",
       "    .dataframe thead th {\n",
       "        text-align: right;\n",
       "    }\n",
       "</style>\n",
       "<table border=\"1\" class=\"dataframe\">\n",
       "  <thead>\n",
       "    <tr style=\"text-align: right;\">\n",
       "      <th></th>\n",
       "      <th>age</th>\n",
       "      <th>sex</th>\n",
       "      <th>cp</th>\n",
       "      <th>trestbps</th>\n",
       "      <th>chol</th>\n",
       "      <th>fbs</th>\n",
       "      <th>restecg</th>\n",
       "      <th>thalach</th>\n",
       "      <th>exang</th>\n",
       "      <th>oldpeak</th>\n",
       "      <th>slope</th>\n",
       "      <th>ca</th>\n",
       "      <th>thal</th>\n",
       "      <th>target</th>\n",
       "    </tr>\n",
       "  </thead>\n",
       "  <tbody>\n",
       "    <tr>\n",
       "      <th>0</th>\n",
       "      <td>63</td>\n",
       "      <td>1</td>\n",
       "      <td>3</td>\n",
       "      <td>145</td>\n",
       "      <td>233</td>\n",
       "      <td>1</td>\n",
       "      <td>0</td>\n",
       "      <td>150</td>\n",
       "      <td>0</td>\n",
       "      <td>2.3</td>\n",
       "      <td>0</td>\n",
       "      <td>0</td>\n",
       "      <td>1</td>\n",
       "      <td>1</td>\n",
       "    </tr>\n",
       "    <tr>\n",
       "      <th>1</th>\n",
       "      <td>37</td>\n",
       "      <td>1</td>\n",
       "      <td>2</td>\n",
       "      <td>130</td>\n",
       "      <td>250</td>\n",
       "      <td>0</td>\n",
       "      <td>1</td>\n",
       "      <td>187</td>\n",
       "      <td>0</td>\n",
       "      <td>3.5</td>\n",
       "      <td>0</td>\n",
       "      <td>0</td>\n",
       "      <td>2</td>\n",
       "      <td>1</td>\n",
       "    </tr>\n",
       "    <tr>\n",
       "      <th>2</th>\n",
       "      <td>41</td>\n",
       "      <td>0</td>\n",
       "      <td>1</td>\n",
       "      <td>130</td>\n",
       "      <td>204</td>\n",
       "      <td>0</td>\n",
       "      <td>0</td>\n",
       "      <td>172</td>\n",
       "      <td>0</td>\n",
       "      <td>1.4</td>\n",
       "      <td>2</td>\n",
       "      <td>0</td>\n",
       "      <td>2</td>\n",
       "      <td>1</td>\n",
       "    </tr>\n",
       "    <tr>\n",
       "      <th>3</th>\n",
       "      <td>56</td>\n",
       "      <td>1</td>\n",
       "      <td>1</td>\n",
       "      <td>120</td>\n",
       "      <td>236</td>\n",
       "      <td>0</td>\n",
       "      <td>1</td>\n",
       "      <td>178</td>\n",
       "      <td>0</td>\n",
       "      <td>0.8</td>\n",
       "      <td>2</td>\n",
       "      <td>0</td>\n",
       "      <td>2</td>\n",
       "      <td>1</td>\n",
       "    </tr>\n",
       "    <tr>\n",
       "      <th>4</th>\n",
       "      <td>57</td>\n",
       "      <td>0</td>\n",
       "      <td>0</td>\n",
       "      <td>120</td>\n",
       "      <td>354</td>\n",
       "      <td>0</td>\n",
       "      <td>1</td>\n",
       "      <td>163</td>\n",
       "      <td>1</td>\n",
       "      <td>0.6</td>\n",
       "      <td>2</td>\n",
       "      <td>0</td>\n",
       "      <td>2</td>\n",
       "      <td>1</td>\n",
       "    </tr>\n",
       "  </tbody>\n",
       "</table>\n",
       "</div>"
      ],
      "text/plain": [
       "   age  sex  cp  trestbps  chol  fbs  restecg  thalach  exang  oldpeak  slope  \\\n",
       "0   63    1   3       145   233    1        0      150      0      2.3      0   \n",
       "1   37    1   2       130   250    0        1      187      0      3.5      0   \n",
       "2   41    0   1       130   204    0        0      172      0      1.4      2   \n",
       "3   56    1   1       120   236    0        1      178      0      0.8      2   \n",
       "4   57    0   0       120   354    0        1      163      1      0.6      2   \n",
       "\n",
       "   ca  thal  target  \n",
       "0   0     1       1  \n",
       "1   0     2       1  \n",
       "2   0     2       1  \n",
       "3   0     2       1  \n",
       "4   0     2       1  "
      ]
     },
     "execution_count": 27,
     "metadata": {},
     "output_type": "execute_result"
    }
   ],
   "source": [
    "df.head()"
   ]
  },
  {
   "cell_type": "code",
   "execution_count": 28,
   "metadata": {
    "slideshow": {
     "slide_type": "skip"
    }
   },
   "outputs": [],
   "source": [
    "### Split data into X and y \n",
    "X = df.drop('target', axis=1)\n",
    "\n",
    "y = df['target']"
   ]
  },
  {
   "cell_type": "markdown",
   "metadata": {
    "slideshow": {
     "slide_type": "skip"
    }
   },
   "source": [
    "### Split Data Train and Tests Sets"
   ]
  },
  {
   "cell_type": "code",
   "execution_count": 29,
   "metadata": {
    "slideshow": {
     "slide_type": "skip"
    }
   },
   "outputs": [],
   "source": [
    "np.random.seed(42)\n",
    "\n",
    "# Split into train & test set \n",
    "X_train, X_test, y_train, y_test = train_test_split(X, y, test_size=0.2)"
   ]
  },
  {
   "cell_type": "code",
   "execution_count": 30,
   "metadata": {
    "slideshow": {
     "slide_type": "skip"
    }
   },
   "outputs": [
    {
     "data": {
      "text/plain": [
       "242"
      ]
     },
     "execution_count": 30,
     "metadata": {},
     "output_type": "execute_result"
    }
   ],
   "source": [
    "len(y_train)"
   ]
  },
  {
   "cell_type": "markdown",
   "metadata": {
    "slideshow": {
<<<<<<< HEAD
<<<<<<< HEAD:machine-learning-zero-mastery/structured-data-projects/End-to-end-heart-disease-project-classification.ipynb
     "slide_type": "fragment"
=======
     "slide_type": "slide"
>>>>>>> f80f51b9df2f71d3904248bb78052ff6e96551bc:machine-learning-zero-mastery/structured-data-projects/.ipynb_checkpoints/End-to-end-heart-disease-project-classification-checkpoint.ipynb
=======
     "slide_type": "fragment"
>>>>>>> f80f51b9df2f71d3904248bb78052ff6e96551bc
    }
   },
   "source": [
    "Now we've got our data split into training and test sets, it's time to build a machine learning model. \n",
    "\n",
    "We'll train it (find the pattens) on the training set. \n",
    "\n",
    "And we'll test it (use the patterns) on the test set.\n",
    "\n",
    "We're going to try 3 different machine learning moldels:\n",
    "1. Logistic Regression\n",
    "2. K-Nearest Neighbors Classifier \n",
    "3. Random Forest Classifier \n",
<<<<<<< HEAD
<<<<<<< HEAD:machine-learning-zero-mastery/structured-data-projects/End-to-end-heart-disease-project-classification.ipynb
    "5. GradientBoostingClassifier"
=======
    "4. RandomForestClassifier()\n",
    "5. GradientBoostingClassifier()"
>>>>>>> f80f51b9df2f71d3904248bb78052ff6e96551bc:machine-learning-zero-mastery/structured-data-projects/.ipynb_checkpoints/End-to-end-heart-disease-project-classification-checkpoint.ipynb
=======
    "5. GradientBoostingClassifier"
>>>>>>> f80f51b9df2f71d3904248bb78052ff6e96551bc
   ]
  },
  {
   "cell_type": "code",
   "execution_count": 31,
   "metadata": {
    "slideshow": {
     "slide_type": "subslide"
    }
   },
   "outputs": [],
   "source": [
    "# Put models in dictionary \n",
    "\n",
    "models = { \"Logistic Regresion\": LogisticRegression(),\n",
    "         \"KNN\": KNeighborsClassifier(),\n",
    "          \"Decision Tree\": DecisionTreeClassifier(),\n",
    "         \"Random Forest\": RandomForestClassifier(), \n",
    "         \"Gradient Boosting Classifier\": GradientBoostingClassifier()}\n",
    "\n",
    "# Create a function to fit and score models \n",
    "\n",
    "def fit_and_score(models, X_train, X_test, y_train, y_test):\n",
    "    \"\"\" Fits and evaluates given machine learning models. \n",
    "    models: a dict of different Scikit-Learrn machine learning models \n",
    "    X_train: training data (no labels)\n",
    "    X_test: testing data (no labels)\n",
    "    y_train: training labels\n",
    "    y_test: test labels\n",
    "    \"\"\"\n",
    "    \n",
    "    # Set random seed \n",
    "    np.random.seed(42)\n",
    "    # Make a dictionary to keep model scores \n",
    "    model_scores = {}\n",
    "    # Loop through models \n",
    "    for name, model in models.items():\n",
    "        # Fit the model to the data \n",
    "        model.fit(X_train, y_train)\n",
    "        # Evaluate the model and append its score to model_scores \n",
    "        model_scores[name] = model.score(X_test, y_test)\n",
    "        \n",
    "    return model_scores"
   ]
  },
  {
   "cell_type": "code",
   "execution_count": 32,
   "metadata": {
    "slideshow": {
     "slide_type": "subslide"
    }
   },
   "outputs": [
    {
     "name": "stderr",
     "output_type": "stream",
     "text": [
      "/Applications/anaconda3/lib/python3.7/site-packages/sklearn/linear_model/_logistic.py:940: ConvergenceWarning: lbfgs failed to converge (status=1):\n",
      "STOP: TOTAL NO. of ITERATIONS REACHED LIMIT.\n",
      "\n",
      "Increase the number of iterations (max_iter) or scale the data as shown in:\n",
      "    https://scikit-learn.org/stable/modules/preprocessing.html\n",
      "Please also refer to the documentation for alternative solver options:\n",
      "    https://scikit-learn.org/stable/modules/linear_model.html#logistic-regression\n",
      "  extra_warning_msg=_LOGISTIC_SOLVER_CONVERGENCE_MSG)\n"
     ]
    },
    {
     "data": {
      "text/plain": [
       "{'Logistic Regresion': 0.8852459016393442,\n",
       " 'KNN': 0.6885245901639344,\n",
       " 'Decision Tree': 0.7540983606557377,\n",
       " 'Random Forest': 0.8360655737704918,\n",
       " 'Gradient Boosting Classifier': 0.7704918032786885}"
      ]
     },
     "execution_count": 32,
     "metadata": {},
     "output_type": "execute_result"
    }
   ],
   "source": [
    "model_scores = fit_and_score(models=models,\n",
    "                            X_train=X_train,\n",
    "                            X_test=X_test,\n",
    "                            y_train=y_train,\n",
    "                            y_test=y_test)\n",
    "model_scores"
   ]
  },
  {
   "cell_type": "markdown",
   "metadata": {
    "slideshow": {
     "slide_type": "subslide"
    }
   },
   "source": [
    "## Model Comparison"
   ]
  },
  {
   "cell_type": "code",
   "execution_count": 33,
   "metadata": {
    "slideshow": {
     "slide_type": "fragment"
    }
   },
   "outputs": [
    {
     "data": {
      "image/png": "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\n",
      "text/plain": [
       "<Figure size 432x288 with 1 Axes>"
      ]
     },
     "metadata": {
      "needs_background": "light"
     },
     "output_type": "display_data"
    }
   ],
   "source": [
    "model_compare = pd.DataFrame(model_scores, index=[\"accuracy\"])\n",
    "model_compare.T.plot.bar();"
   ]
  },
  {
   "cell_type": "markdown",
   "metadata": {
    "slideshow": {
     "slide_type": "slide"
    }
   },
   "source": [
    "Now we've got a baseline model... and we know a model's first predictions aren't always what we should based our next steps off. What should do?\n",
    "\n",
    "Let's look at the following: \n",
    "* Hyperparameter tuning\n",
    "* Feature Importance \n",
    "* Confusion Matrix \n",
    "* Cross-Validation \n",
    "* Precision \n",
    "* Recall \n",
    "* F1 Score \n",
    "* Classification Report \n",
    "* ROC Curve \n",
    "* Area under the curve (AUC)\\\n"
   ]
  },
  {
   "cell_type": "markdown",
   "metadata": {
    "slideshow": {
     "slide_type": "slide"
    }
   },
   "source": [
    "## Hyperparameter Tuning"
   ]
  },
  {
   "cell_type": "code",
   "execution_count": 34,
   "metadata": {
    "slideshow": {
<<<<<<< HEAD
<<<<<<< HEAD:machine-learning-zero-mastery/structured-data-projects/End-to-end-heart-disease-project-classification.ipynb
     "slide_type": "fragment"
=======
     "slide_type": "subslide"
>>>>>>> f80f51b9df2f71d3904248bb78052ff6e96551bc:machine-learning-zero-mastery/structured-data-projects/.ipynb_checkpoints/End-to-end-heart-disease-project-classification-checkpoint.ipynb
=======
     "slide_type": "fragment"
>>>>>>> f80f51b9df2f71d3904248bb78052ff6e96551bc
    }
   },
   "outputs": [],
   "source": [
    "# Let's tune KNN\n",
    "\n",
    "train_scores = []\n",
    "test_scores = []\n",
    "\n",
    "# Create a list of different values for n_neighbors \n",
    "neighbors = range(1, 21) # range 1 - 20\n",
    "\n",
    "# setup KNN instance \n",
    "knn = KNeighborsClassifier()\n",
    "\n",
    "for i in neighbors:\n",
    "    knn.set_params(n_neighbors=i)\n",
    "    \n",
    "    # Fit the algorithm\n",
    "    knn.fit(X_train, y_train)\n",
    "    \n",
    "    # Update training scores list\n",
    "    train_scores.append(knn.score(X_train, y_train))\n",
    "    \n",
    "    # Update testing scores list \n",
    "    test_scores.append(knn.score(X_test, y_test))"
   ]
  },
  {
   "cell_type": "code",
   "execution_count": 35,
   "metadata": {
    "slideshow": {
     "slide_type": "skip"
    }
   },
   "outputs": [
    {
     "data": {
      "text/plain": [
       "[1.0,\n",
       " 0.8099173553719008,\n",
       " 0.7727272727272727,\n",
       " 0.743801652892562,\n",
       " 0.7603305785123967,\n",
       " 0.7520661157024794,\n",
       " 0.743801652892562,\n",
       " 0.7231404958677686,\n",
       " 0.71900826446281,\n",
       " 0.6942148760330579,\n",
       " 0.7272727272727273,\n",
       " 0.6983471074380165,\n",
       " 0.6900826446280992,\n",
       " 0.6942148760330579,\n",
       " 0.6859504132231405,\n",
       " 0.6735537190082644,\n",
       " 0.6859504132231405,\n",
       " 0.6652892561983471,\n",
       " 0.6818181818181818,\n",
       " 0.6694214876033058]"
      ]
     },
     "execution_count": 35,
     "metadata": {},
     "output_type": "execute_result"
    }
   ],
   "source": [
    "train_scores"
   ]
  },
  {
   "cell_type": "code",
   "execution_count": 36,
   "metadata": {
    "slideshow": {
     "slide_type": "skip"
    }
   },
   "outputs": [
    {
     "data": {
      "text/plain": [
       "[0.6229508196721312,\n",
       " 0.639344262295082,\n",
       " 0.6557377049180327,\n",
       " 0.6721311475409836,\n",
       " 0.6885245901639344,\n",
       " 0.7213114754098361,\n",
       " 0.7049180327868853,\n",
       " 0.6885245901639344,\n",
       " 0.6885245901639344,\n",
       " 0.7049180327868853,\n",
       " 0.7540983606557377,\n",
       " 0.7377049180327869,\n",
       " 0.7377049180327869,\n",
       " 0.7377049180327869,\n",
       " 0.6885245901639344,\n",
       " 0.7213114754098361,\n",
       " 0.6885245901639344,\n",
       " 0.6885245901639344,\n",
       " 0.7049180327868853,\n",
       " 0.6557377049180327]"
      ]
     },
     "execution_count": 36,
     "metadata": {},
     "output_type": "execute_result"
    }
   ],
   "source": [
    "test_scores"
   ]
  },
  {
   "cell_type": "code",
   "execution_count": 39,
   "metadata": {
    "slideshow": {
     "slide_type": "subslide"
    }
   },
   "outputs": [
    {
     "name": "stdout",
     "output_type": "stream",
     "text": [
      "Maximum score of KNN on test data: 75.41%\n"
     ]
    },
    {
     "data": {
      "image/png": "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\n",
      "text/plain": [
       "<Figure size 432x288 with 1 Axes>"
      ]
     },
     "metadata": {
      "needs_background": "light"
     },
     "output_type": "display_data"
    }
   ],
   "source": [
    "plt.plot(neighbors,train_scores,label='Train Score')\n",
    "plt.plot(neighbors, test_scores, label='Test Scores')\n",
    "plt.xticks(np.arange(1, 21, 1)) # a list of range 1 - 20\n",
    "plt.xlabel('Number of Neighbors')\n",
    "plt.ylabel('Model Scores')\n",
    "plt.legend()\n",
    "\n",
    "print(f\"Maximum score of KNN on test data: {max(test_scores)*100:.2f}%\")"
   ]
  },
  {
   "cell_type": "markdown",
   "metadata": {
    "slideshow": {
     "slide_type": "slide"
    }
   },
   "source": [
    "## Hyperparameter Tuning Randomized Search CV\n",
    "\n",
    "We're going to tune:\n",
    "* LogisticRegression()\n",
    "* DecisionTreeClassifier()\n",
    "* RandomForestClassifier()\n",
    "* GradientBoostingClassifier()\n",
    "\n",
    "*** using RandomizedGridSearchCV\n",
    "\n",
    "Cross Validation => creates different versions of training data given (f-fold) and evaluated on 5 different versions of the test data."
   ]
  },
  {
   "cell_type": "code",
   "execution_count": 40,
   "metadata": {
    "slideshow": {
     "slide_type": "subslide"
    }
   },
   "outputs": [],
   "source": [
    "# Create a hyperparameter grid for logistic regression \n",
    "log_reg_grid = {\"C\": np.logspace(-4, 4, 20),\n",
    "               \"solver\": ['liblinear']}\n",
    "\n",
    "# Hyperparameter grid for decision tree classifier \n",
    "dtc_grid = {\"criterion\": ['gini', 'entropy'],\n",
    "            \"max_depth\": [4, 6, 8, 12],\n",
    "            \"min_samples_split\": np.arange(2, 20,2),\n",
    "            \"min_samples_leaf\": np.arange(1, 20, 2),\n",
    "            \"splitter\": [\"best\", \"random\"],  \n",
    "           }\n",
    "\n",
    "# Create hyperparameter grid for random forest classifier \n",
    "rfc_grid = {\"n_estimators\": np.arange(10, 1000, 50),\n",
    "           \"max_depth\": [None, 3, 5, 10],\n",
    "           \"min_samples_split\": np.arange(2, 20, 2),\n",
    "           \"min_samples_leaf\": np.arange(1, 20, 2)}\n",
    "\n",
    "# Create hyperparameter grid for gradient boosting classifier \n",
    "gbc_grid = {'n_estimators': np.arange(20,81,10),\n",
    "           'max_depth':range(5,16,2),\n",
    "           'min_samples_split':range(200,1001,200),\n",
    "           'min_samples_leaf':range(30,71,10)}\n"
   ]
  },
  {
   "cell_type": "markdown",
   "metadata": {
    "slideshow": {
     "slide_type": "fragment"
    }
   },
   "source": [
    "Now we've go hyperparemter grids setup for each  model. Let's tune them using RandomizedSearchCV"
   ]
  },
  {
   "cell_type": "code",
   "execution_count": 41,
   "metadata": {
    "slideshow": {
     "slide_type": "skip"
    }
   },
   "outputs": [
    {
     "name": "stdout",
     "output_type": "stream",
     "text": [
      "Fitting 5 folds for each of 20 candidates, totalling 100 fits\n"
     ]
    },
    {
     "name": "stderr",
     "output_type": "stream",
     "text": [
      "[Parallel(n_jobs=1)]: Using backend SequentialBackend with 1 concurrent workers.\n",
      "[Parallel(n_jobs=1)]: Done 100 out of 100 | elapsed:    0.6s finished\n"
     ]
    }
   ],
   "source": [
    "# Let's tune LogisticRegression \n",
    "\n",
    "np.random.seed(42)\n",
    "\n",
    "# Setup random hyperparameter search for LogisticRegression\n",
    "rs_log_reg = RandomizedSearchCV(LogisticRegression(),\n",
    "                                param_distributions=log_reg_grid,\n",
    "                                cv=5,\n",
    "                                n_iter=20,\n",
    "                                verbose=True)\n",
    "\n",
    "# Fit random hyperparameter search model\n",
    "rs_log_reg.fit(X_train, y_train);"
   ]
  },
  {
   "cell_type": "code",
   "execution_count": 42,
   "metadata": {
    "slideshow": {
     "slide_type": "skip"
    }
   },
   "outputs": [
    {
     "data": {
      "text/plain": [
       "{'solver': 'liblinear', 'C': 0.23357214690901212}"
      ]
     },
     "execution_count": 42,
     "metadata": {},
     "output_type": "execute_result"
    }
   ],
   "source": [
    "# Check best parameters \n",
    "rs_log_reg.best_params_"
   ]
  },
  {
   "cell_type": "code",
   "execution_count": 43,
   "metadata": {
    "slideshow": {
     "slide_type": "skip"
    }
   },
   "outputs": [
    {
     "data": {
      "text/plain": [
       "0.8852459016393442"
      ]
     },
     "execution_count": 43,
     "metadata": {},
     "output_type": "execute_result"
    }
   ],
   "source": [
    "# Evluate Model \n",
    "rs_log_reg.score(X_test, y_test)"
   ]
  },
  {
   "cell_type": "markdown",
   "metadata": {
    "slideshow": {
     "slide_type": "fragment"
    }
   },
   "source": [
    "Looks like our LogisticRegression Classifier is the same accuracy after hyperparameter tuning. This model must be very good our of the box with this dataset. \n",
    "\n",
    "Let's do the same for the DecisionTreeClassifier()"
   ]
  },
  {
   "cell_type": "code",
   "execution_count": 44,
   "metadata": {
    "slideshow": {
     "slide_type": "skip"
    }
   },
   "outputs": [
    {
     "name": "stdout",
     "output_type": "stream",
     "text": [
      "Fitting 5 folds for each of 20 candidates, totalling 100 fits\n"
     ]
    },
    {
     "name": "stderr",
     "output_type": "stream",
     "text": [
      "[Parallel(n_jobs=1)]: Using backend SequentialBackend with 1 concurrent workers.\n",
      "[Parallel(n_jobs=1)]: Done 100 out of 100 | elapsed:    0.7s finished\n"
     ]
    },
    {
     "data": {
      "text/plain": [
       "RandomizedSearchCV(cv=5, error_score=nan,\n",
       "                   estimator=DecisionTreeClassifier(ccp_alpha=0.0,\n",
       "                                                    class_weight=None,\n",
       "                                                    criterion='gini',\n",
       "                                                    max_depth=None,\n",
       "                                                    max_features=None,\n",
       "                                                    max_leaf_nodes=None,\n",
       "                                                    min_impurity_decrease=0.0,\n",
       "                                                    min_impurity_split=None,\n",
       "                                                    min_samples_leaf=1,\n",
       "                                                    min_samples_split=2,\n",
       "                                                    min_weight_fraction_leaf=0.0,\n",
       "                                                    presort='deprecated',\n",
       "                                                    random_state=None,\n",
       "                                                    splitter='best'),\n",
       "                   iid='deprecated', n_iter=20, n_jobs=None,\n",
       "                   param_distributions={'criterion': ['gini', 'entropy'],\n",
       "                                        'max_depth': [4, 6, 8, 12],\n",
       "                                        'min_samples_leaf': array([ 1,  3,  5,  7,  9, 11, 13, 15, 17, 19]),\n",
       "                                        'min_samples_split': array([ 2,  4,  6,  8, 10, 12, 14, 16, 18]),\n",
       "                                        'splitter': ['best', 'random']},\n",
       "                   pre_dispatch='2*n_jobs', random_state=None, refit=True,\n",
       "                   return_train_score=False, scoring=None, verbose=True)"
      ]
     },
     "execution_count": 44,
     "metadata": {},
     "output_type": "execute_result"
    }
   ],
   "source": [
    "# setup our random seed \n",
    "np.random.seed(42)\n",
    "\n",
    "# setup random hyperparameter search for DecisionTreeClassifier \n",
    "rs_dt = RandomizedSearchCV(DecisionTreeClassifier(),\n",
    "                          param_distributions=dtc_grid,\n",
    "                          cv=5,\n",
    "                          n_iter=20,\n",
    "                          verbose=True)\n",
    "\n",
    "# Fit Randomized Search Decision Tree Model \n",
    "rs_dt.fit(X_train, y_train)"
   ]
  },
  {
   "cell_type": "code",
   "execution_count": 45,
   "metadata": {
    "slideshow": {
     "slide_type": "skip"
    }
   },
   "outputs": [
    {
     "data": {
      "text/plain": [
       "{'splitter': 'random',\n",
       " 'min_samples_split': 14,\n",
       " 'min_samples_leaf': 5,\n",
       " 'max_depth': 12,\n",
       " 'criterion': 'gini'}"
      ]
     },
     "execution_count": 45,
     "metadata": {},
     "output_type": "execute_result"
    }
   ],
   "source": [
    "# Get best params \n",
    "rs_dt.best_params_"
   ]
  },
  {
   "cell_type": "code",
   "execution_count": 46,
   "metadata": {
    "slideshow": {
     "slide_type": "skip"
    }
   },
   "outputs": [
    {
     "data": {
      "text/plain": [
       "0.8032786885245902"
      ]
     },
     "execution_count": 46,
     "metadata": {},
     "output_type": "execute_result"
    }
   ],
   "source": [
    "rs_dt.score(X_test, y_test)"
   ]
  },
  {
   "cell_type": "markdown",
   "metadata": {
    "slideshow": {
     "slide_type": "fragment"
    }
   },
   "source": [
    "* Our Randomized Search Decision Tree Classifier Increased Accuracy Score by 5%. Let's Improve Our Random Forest Classifier"
   ]
  },
  {
   "cell_type": "code",
   "execution_count": 47,
   "metadata": {
    "slideshow": {
     "slide_type": "skip"
    }
   },
   "outputs": [
    {
     "name": "stdout",
     "output_type": "stream",
     "text": [
      "Fitting 5 folds for each of 20 candidates, totalling 100 fits\n"
     ]
    },
    {
     "name": "stderr",
     "output_type": "stream",
     "text": [
      "[Parallel(n_jobs=1)]: Using backend SequentialBackend with 1 concurrent workers.\n",
      "[Parallel(n_jobs=1)]: Done 100 out of 100 | elapsed:  1.6min finished\n"
     ]
    },
    {
     "data": {
      "text/plain": [
       "RandomizedSearchCV(cv=5, error_score=nan,\n",
       "                   estimator=RandomForestClassifier(bootstrap=True,\n",
       "                                                    ccp_alpha=0.0,\n",
       "                                                    class_weight=None,\n",
       "                                                    criterion='gini',\n",
       "                                                    max_depth=None,\n",
       "                                                    max_features='auto',\n",
       "                                                    max_leaf_nodes=None,\n",
       "                                                    max_samples=None,\n",
       "                                                    min_impurity_decrease=0.0,\n",
       "                                                    min_impurity_split=None,\n",
       "                                                    min_samples_leaf=1,\n",
       "                                                    min_samples_split=2,\n",
       "                                                    min_weight_fraction_leaf=0.0,\n",
       "                                                    n_estimators=100,\n",
       "                                                    n_jobs...\n",
       "                   param_distributions={'max_depth': [None, 3, 5, 10],\n",
       "                                        'min_samples_leaf': array([ 1,  3,  5,  7,  9, 11, 13, 15, 17, 19]),\n",
       "                                        'min_samples_split': array([ 2,  4,  6,  8, 10, 12, 14, 16, 18]),\n",
       "                                        'n_estimators': array([ 10,  60, 110, 160, 210, 260, 310, 360, 410, 460, 510, 560, 610,\n",
       "       660, 710, 760, 810, 860, 910, 960])},\n",
       "                   pre_dispatch='2*n_jobs', random_state=None, refit=True,\n",
       "                   return_train_score=False, scoring=None, verbose=True)"
      ]
     },
     "execution_count": 47,
     "metadata": {},
     "output_type": "execute_result"
    }
   ],
   "source": [
    "# Setup random seed\n",
    "np.random.seed(42)\n",
    "\n",
    "# setup random hyperparameter grid for RandomForestClassifier \n",
    "rs_rf = RandomizedSearchCV(RandomForestClassifier(),\n",
    "                           param_distributions=rfc_grid,\n",
    "                           cv=5,\n",
    "                           n_iter=20,\n",
    "                           verbose=True)\n",
    "\n",
    "# Fit random hyperparameter search model \n",
    "rs_rf.fit(X_train, y_train)"
   ]
  },
  {
   "cell_type": "code",
   "execution_count": 48,
   "metadata": {
    "slideshow": {
     "slide_type": "skip"
    }
   },
   "outputs": [
    {
     "data": {
      "text/plain": [
       "{'n_estimators': 210,\n",
       " 'min_samples_split': 4,\n",
       " 'min_samples_leaf': 19,\n",
       " 'max_depth': 3}"
      ]
     },
     "execution_count": 48,
     "metadata": {},
     "output_type": "execute_result"
    }
   ],
   "source": [
    "# Find the best hyperparameters \n",
    "rs_rf.best_params_"
   ]
  },
  {
   "cell_type": "code",
   "execution_count": 49,
   "metadata": {
    "slideshow": {
     "slide_type": "skip"
    }
   },
   "outputs": [
    {
     "data": {
      "text/plain": [
       "0.8688524590163934"
      ]
     },
     "execution_count": 49,
     "metadata": {},
     "output_type": "execute_result"
    }
   ],
   "source": [
    "# Evaluate the randomized search random forest model \n",
    "rs_rf.score(X_test, y_test)"
   ]
  },
  {
   "cell_type": "markdown",
   "metadata": {
    "slideshow": {
     "slide_type": "skip"
    }
   },
   "source": [
    "* Let's Tune Our Gradient Boosting Classifier "
   ]
  },
  {
   "cell_type": "code",
   "execution_count": 50,
   "metadata": {
    "slideshow": {
     "slide_type": "skip"
    }
   },
   "outputs": [
    {
     "name": "stdout",
     "output_type": "stream",
     "text": [
      "Fitting 5 folds for each of 20 candidates, totalling 100 fits\n"
     ]
    },
    {
     "name": "stderr",
     "output_type": "stream",
     "text": [
      "[Parallel(n_jobs=1)]: Using backend SequentialBackend with 1 concurrent workers.\n",
      "[Parallel(n_jobs=1)]: Done 100 out of 100 | elapsed:    3.8s finished\n"
     ]
    },
    {
     "data": {
      "text/plain": [
       "RandomizedSearchCV(cv=5, error_score=nan,\n",
       "                   estimator=GradientBoostingClassifier(ccp_alpha=0.0,\n",
       "                                                        criterion='friedman_mse',\n",
       "                                                        init=None,\n",
       "                                                        learning_rate=0.1,\n",
       "                                                        loss='deviance',\n",
       "                                                        max_depth=3,\n",
       "                                                        max_features=None,\n",
       "                                                        max_leaf_nodes=None,\n",
       "                                                        min_impurity_decrease=0.0,\n",
       "                                                        min_impurity_split=None,\n",
       "                                                        min_samples_leaf=1,\n",
       "                                                        min_samples_split=2,\n",
       "                                                        min_weight_fraction_leaf=0.0,\n",
       "                                                        n_estimators=100,\n",
       "                                                        n_ite...\n",
       "                                                        validation_fraction=0.1,\n",
       "                                                        verbose=0,\n",
       "                                                        warm_start=False),\n",
       "                   iid='deprecated', n_iter=20, n_jobs=None,\n",
       "                   param_distributions={'max_depth': range(5, 16, 2),\n",
       "                                        'min_samples_leaf': range(30, 71, 10),\n",
       "                                        'min_samples_split': range(200, 1001, 200),\n",
       "                                        'n_estimators': array([20, 30, 40, 50, 60, 70, 80])},\n",
       "                   pre_dispatch='2*n_jobs', random_state=None, refit=True,\n",
       "                   return_train_score=False, scoring=None, verbose=True)"
      ]
     },
     "execution_count": 50,
     "metadata": {},
     "output_type": "execute_result"
    }
   ],
   "source": [
    "# Setup Random Seed \n",
    "np.random.seed(42)\n",
    "\n",
    "# setup random hyperparameter grid for Gradient Boosting Classifier \n",
    "rs_gbc = RandomizedSearchCV(GradientBoostingClassifier(),\n",
    "                           param_distributions=gbc_grid,\n",
    "                           cv=5,\n",
    "                           n_iter=20,\n",
    "                           verbose=True)\n",
    "\n",
    "rs_gbc.fit(X_train, y_train)"
   ]
  },
  {
   "cell_type": "code",
   "execution_count": 51,
   "metadata": {
    "slideshow": {
     "slide_type": "skip"
    }
   },
   "outputs": [
    {
     "data": {
      "text/plain": [
       "{'n_estimators': 40,\n",
       " 'min_samples_split': 200,\n",
       " 'min_samples_leaf': 30,\n",
       " 'max_depth': 9}"
      ]
     },
     "execution_count": 51,
     "metadata": {},
     "output_type": "execute_result"
    }
   ],
   "source": [
    "# Find best parameters \n",
    "rs_gbc.best_params_"
   ]
  },
  {
   "cell_type": "code",
   "execution_count": 52,
   "metadata": {
    "slideshow": {
     "slide_type": "skip"
    }
   },
   "outputs": [
    {
     "data": {
      "text/plain": [
       "0.8524590163934426"
      ]
     },
     "execution_count": 52,
     "metadata": {},
     "output_type": "execute_result"
    }
   ],
   "source": [
    "rs_gbc.score(X_test, y_test)"
   ]
  },
  {
   "cell_type": "markdown",
   "metadata": {
    "slideshow": {
     "slide_type": "fragment"
    }
   },
   "source": [
    "Awesome! Our Gradient Boosting Classifier's accuracy improved by 8%. "
   ]
  },
  {
   "cell_type": "code",
   "execution_count": 53,
   "metadata": {
    "slideshow": {
     "slide_type": "subslide"
    }
   },
   "outputs": [
    {
     "data": {
      "text/plain": [
       "{'Logistic Regresion': 0.8852459016393442,\n",
       " 'KNN': 0.6885245901639344,\n",
       " 'Decision Tree': 0.7540983606557377,\n",
       " 'Random Forest': 0.8360655737704918,\n",
       " 'Gradient Boosting Classifier': 0.7704918032786885}"
      ]
     },
     "execution_count": 53,
     "metadata": {},
     "output_type": "execute_result"
    }
   ],
   "source": [
    "model_scores"
   ]
  },
  {
   "cell_type": "markdown",
   "metadata": {
    "slideshow": {
     "slide_type": "slide"
    }
   },
   "source": [
    "### Compare Randomized  Search Hyperparmeterized Models"
   ]
  },
  {
   "cell_type": "code",
   "execution_count": 54,
   "metadata": {
    "slideshow": {
     "slide_type": "skip"
    }
   },
   "outputs": [],
   "source": [
    "# Put New models in dictionary \n",
    "\n",
    "rs_models = { \"Logistic Regresion\": rs_log_reg,\n",
    "          \"Decision Tree\": DecisionTreeClassifier(splitter='random',min_samples_split=14,min_samples_leaf=5,max_depth=12,criterion='gini'),\n",
    "         \"Random Forest\": RandomForestClassifier(n_estimators=210,min_samples_split=4,min_samples_leaf=19,max_depth=3), \n",
    "         \"Gradient Boosting Classifier\": GradientBoostingClassifier(n_estimators=40,min_samples_split=200,min_samples_leaf= 30,max_depth=9)}\n",
    "\n",
    "# Create a function to fit and score models \n",
    "\n",
    "def fit_and_score(models, X_train, X_test, y_train, y_test):\n",
    "    \"\"\" Fits and evaluates given machine learning models. \n",
    "    models: a dict of different Scikit-Learrn machine learning models \n",
    "    X_train: training data (no labels)\n",
    "    X_test: testing data (no labels)\n",
    "    y_train: training labels\n",
    "    y_test: test labels\n",
    "    \"\"\"\n",
    "    \n",
    "    # Set random seed \n",
    "    np.random.seed(42)\n",
    "    # Make a dictionary to keep model scores \n",
    "    new_model_scores = {}\n",
    "    # Loop through models \n",
    "    for name, model in models.items():\n",
    "        # Fit the model to the data \n",
    "        model.fit(X_train, y_train)\n",
    "        # Evaluate the model and append its score to model_scores \n",
    "        new_model_scores[name] = model.score(X_test, y_test)\n",
    "        \n",
    "    return new_model_scores"
   ]
  },
  {
   "cell_type": "code",
   "execution_count": 55,
   "metadata": {
    "slideshow": {
     "slide_type": "skip"
    }
   },
   "outputs": [
    {
     "name": "stdout",
     "output_type": "stream",
     "text": [
      "Fitting 5 folds for each of 20 candidates, totalling 100 fits\n"
     ]
    },
    {
     "name": "stderr",
     "output_type": "stream",
     "text": [
      "[Parallel(n_jobs=1)]: Using backend SequentialBackend with 1 concurrent workers.\n",
      "[Parallel(n_jobs=1)]: Done 100 out of 100 | elapsed:    0.9s finished\n"
     ]
    }
   ],
   "source": [
    "new_model_scores = fit_and_score(models=rs_models,\n",
    "                            X_train=X_train,\n",
    "                            X_test=X_test,\n",
    "                            y_train=y_train,\n",
    "                            y_test=y_test)"
   ]
  },
  {
   "cell_type": "code",
   "execution_count": 56,
   "metadata": {
    "slideshow": {
     "slide_type": "subslide"
    }
   },
   "outputs": [
    {
     "data": {
      "text/plain": [
       "{'Logistic Regresion': 0.8852459016393442,\n",
       " 'Decision Tree': 0.7377049180327869,\n",
       " 'Random Forest': 0.8688524590163934,\n",
       " 'Gradient Boosting Classifier': 0.8524590163934426}"
      ]
     },
     "execution_count": 56,
     "metadata": {},
     "output_type": "execute_result"
    }
   ],
   "source": [
    "new_model_scores"
   ]
  },
  {
   "cell_type": "code",
   "execution_count": 57,
   "metadata": {
    "slideshow": {
     "slide_type": "subslide"
    }
   },
   "outputs": [
    {
     "data": {
      "text/plain": [
       "{'Logistic Regresion': 0.8852459016393442,\n",
       " 'KNN': 0.6885245901639344,\n",
       " 'Decision Tree': 0.7540983606557377,\n",
       " 'Random Forest': 0.8360655737704918,\n",
       " 'Gradient Boosting Classifier': 0.7704918032786885}"
      ]
     },
     "execution_count": 57,
     "metadata": {},
     "output_type": "execute_result"
    }
   ],
   "source": [
    "model_scores"
   ]
  },
  {
   "cell_type": "markdown",
   "metadata": {
    "slideshow": {
     "slide_type": "slide"
    }
   },
   "source": [
    "# Hyperparameter Tuning with GridSearchCV\n",
    "\n",
    "Since our LogisticRegression model provides the best scores so far, we'll try and improve them again using GridSearchCV.."
   ]
  },
  {
   "cell_type": "markdown",
   "metadata": {
    "slideshow": {
     "slide_type": "skip"
    }
   },
   "source": [
    "Excellent! Tuning the hyperparameters for each model saw a slight performance boost in both the `RandomForestClassifier` and `GradientBoostingClassifier`.\n",
    "\n",
    "This is akin to tuning the settings on your oven and getting it to cook your favourite dish just right.\n",
    "\n",
    "But since `LogisticRegression` is pulling out in front, we'll try tuning it further with [`GridSearchCV`](https://scikit-learn.org/stable/modules/generated/sklearn.model_selection.GridSearchCV.html).\n",
    "\n",
    "### Tuning a model with [`GridSearchCV`](https://scikit-learn.org/stable/modules/generated/sklearn.model_selection.GridSearchCV.html)\n",
    "\n",
    "The difference between `RandomizedSearchCV` and `GridSearchCV` is where `RandomizedSearchCV` searches over a grid of hyperparameters performing `n_iter` combinations, `GridSearchCV` will test every single possible combination.\n",
    "\n",
    "In short:\n",
    "* `RandomizedSearchCV` - tries `n_iter` combinations of hyperparameters and saves the best.\n",
    "* `GridSearchCV` - tries every single combination of hyperparameters and saves the best.\n",
    "\n",
    "Let's see it in action."
   ]
  },
  {
   "cell_type": "code",
   "execution_count": 58,
   "metadata": {
    "slideshow": {
<<<<<<< HEAD
<<<<<<< HEAD:machine-learning-zero-mastery/structured-data-projects/End-to-end-heart-disease-project-classification.ipynb
     "slide_type": "subslide"
=======
     "slide_type": "skip"
>>>>>>> f80f51b9df2f71d3904248bb78052ff6e96551bc:machine-learning-zero-mastery/structured-data-projects/.ipynb_checkpoints/End-to-end-heart-disease-project-classification-checkpoint.ipynb
=======
     "slide_type": "subslide"
>>>>>>> f80f51b9df2f71d3904248bb78052ff6e96551bc
    }
   },
   "outputs": [
    {
     "name": "stdout",
     "output_type": "stream",
     "text": [
      "Fitting 5 folds for each of 30 candidates, totalling 150 fits\n"
     ]
    },
    {
     "name": "stderr",
     "output_type": "stream",
     "text": [
      "[Parallel(n_jobs=1)]: Using backend SequentialBackend with 1 concurrent workers.\n",
      "[Parallel(n_jobs=1)]: Done 150 out of 150 | elapsed:    1.1s finished\n"
     ]
    }
   ],
   "source": [
    "# Different LogisticRegression hyperparameters\n",
    "log_reg_grid = {\"C\": np.logspace(-4, 4, 30),\n",
    "                \"solver\": [\"liblinear\"]}\n",
    "\n",
    "# Setup grid hyperparameter search for LogisticRegression\n",
    "gs_log_reg = GridSearchCV(LogisticRegression(),\n",
    "                          param_grid=log_reg_grid,\n",
    "                          cv=5,\n",
    "                          verbose=True)\n",
    "\n",
    "# Fit grid hyperparameter search model\n",
    "gs_log_reg.fit(X_train, y_train);"
   ]
  },
  {
   "cell_type": "code",
   "execution_count": 59,
   "metadata": {
    "slideshow": {
     "slide_type": "skip"
    }
   },
   "outputs": [
    {
     "data": {
      "text/plain": [
       "{'C': 0.20433597178569418, 'solver': 'liblinear'}"
      ]
     },
     "execution_count": 59,
     "metadata": {},
     "output_type": "execute_result"
    }
   ],
   "source": [
    "# check best parameters\n",
    "gs_log_reg.best_params_"
   ]
  },
  {
   "cell_type": "code",
   "execution_count": 60,
   "metadata": {
    "slideshow": {
<<<<<<< HEAD
<<<<<<< HEAD:machine-learning-zero-mastery/structured-data-projects/End-to-end-heart-disease-project-classification.ipynb
     "slide_type": "subslide"
=======
     "slide_type": "skip"
>>>>>>> f80f51b9df2f71d3904248bb78052ff6e96551bc:machine-learning-zero-mastery/structured-data-projects/.ipynb_checkpoints/End-to-end-heart-disease-project-classification-checkpoint.ipynb
=======
     "slide_type": "subslide"
>>>>>>> f80f51b9df2f71d3904248bb78052ff6e96551bc
    }
   },
   "outputs": [
    {
     "data": {
      "text/plain": [
       "0.8852459016393442"
      ]
     },
     "execution_count": 60,
     "metadata": {},
     "output_type": "execute_result"
    }
   ],
   "source": [
    "# Evaluate the model \n",
    "gs_log_reg.score(X_test, y_test)"
   ]
  },
  {
   "cell_type": "markdown",
   "metadata": {
    "slideshow": {
     "slide_type": "subslide"
    }
   },
   "source": [
    "In this case, we get the same results as before since our grid only has a maximum of 20 different hyperparameter combinations.\n",
    "\n",
    "**Note:** If there are a large amount of hyperparameters combinations in your grid, `GridSearchCV` may take a long time to try them all out. This is why it's a good idea to start with `RandomizedSearchCV`, try a certain amount of combinations and then use `GridSearchCV` to refine them."
   ]
  },
  {
   "cell_type": "markdown",
   "metadata": {
    "slideshow": {
     "slide_type": "slide"
    }
   },
   "source": [
    "## Evaluating a classification model, beyond accuracy\n",
    "\n",
    "Now we've got a tuned model, let's get some of the metrics we discussed before.\n",
    "\n",
    "We want:\n",
    "* ROC curve and AUC score - [`plot_roc_curve()`](https://scikit-learn.org/stable/modules/generated/sklearn.metrics.plot_roc_curve.html#sklearn.metrics.plot_roc_curve)\n",
    "* Confusion matrix - [`confusion_matrix()`](https://scikit-learn.org/stable/modules/generated/sklearn.metrics.confusion_matrix.html)\n",
    "* Classification report - [`classification_report()`](https://scikit-learn.org/stable/modules/generated/sklearn.metrics.classification_report.html)\n",
    "* Precision - [`precision_score()`](https://scikit-learn.org/stable/modules/generated/sklearn.metrics.precision_score.html)\n",
    "* Recall - [`recall_score()`](https://scikit-learn.org/stable/modules/generated/sklearn.metrics.recall_score.html)\n",
    "* F1-score - [`f1_score()`](https://scikit-learn.org/stable/modules/generated/sklearn.metrics.f1_score.html)\n",
    "\n",
    "Luckily, Scikit-Learn has these all built-in.\n",
    "\n",
    "To access them, we'll have to use our model to make predictions on the test set. You can make predictions by calling `predict()` on a trained model and passing it the data you'd like to predict on.\n",
    "\n",
    "We'll make predictions on the test data."
   ]
  },
  {
   "cell_type": "code",
   "execution_count": 61,
   "metadata": {
    "slideshow": {
     "slide_type": "skip"
    }
   },
   "outputs": [],
   "source": [
    "y_preds = gs_log_reg.predict(X_test)"
   ]
  },
  {
   "cell_type": "code",
   "execution_count": 62,
   "metadata": {
    "slideshow": {
     "slide_type": "skip"
    }
   },
   "outputs": [
    {
     "data": {
      "text/plain": [
       "array([0, 1, 1, 0, 1, 1, 1, 0, 0, 1, 1, 0, 1, 0, 1, 1, 1, 0, 0, 0, 1, 0,\n",
       "       0, 1, 1, 1, 1, 1, 0, 1, 0, 0, 0, 0, 1, 0, 1, 1, 1, 1, 1, 1, 1, 1,\n",
       "       1, 0, 1, 1, 0, 0, 0, 0, 1, 1, 0, 0, 0, 1, 0, 0, 0])"
      ]
     },
     "execution_count": 62,
     "metadata": {},
     "output_type": "execute_result"
    }
   ],
   "source": [
    "y_preds"
   ]
  },
  {
   "cell_type": "code",
   "execution_count": 64,
   "metadata": {
    "slideshow": {
     "slide_type": "skip"
    }
   },
   "outputs": [
    {
     "data": {
      "text/plain": [
       "array([0, 0, 1, 0, 1, 1, 1, 0, 0, 1, 1, 1, 1, 0, 1, 1, 1, 0, 0, 0, 1, 0,\n",
       "       0, 1, 1, 0, 0, 1, 0, 1, 1, 0, 0, 1, 1, 0, 1, 1, 1, 1, 1, 1, 1, 1,\n",
       "       1, 0, 0, 1, 0, 0, 0, 0, 1, 1, 0, 0, 0, 1, 0, 0, 0])"
      ]
     },
     "execution_count": 64,
     "metadata": {},
     "output_type": "execute_result"
    }
   ],
   "source": [
    "np.array(y_test)"
   ]
  },
  {
   "cell_type": "markdown",
   "metadata": {
    "slideshow": {
     "slide_type": "slide"
    }
   },
   "source": [
    "Since we've got our prediction values we can find the metrics we want.\n",
    "\n",
    "Let's start with the ROC curve and AUC scores.\n",
    "\n",
    "### ROC Curve and AUC Scores\n",
    "\n",
    "What's a ROC curve?\n",
    "\n",
    "It's a way of understanding how your model is performing by comparing the true positive rate to the false positive rate.\n",
    "\n",
    "In our case...\n",
    "\n",
    "> To get an appropriate example in a real-world problem, consider a diagnostic test that seeks to determine whether a person has a certain disease. A false positive in this case occurs when the person tests positive, but does not actually have the disease. A false negative, on the other hand, occurs when the person tests negative, suggesting they are healthy, when they actually do have the disease.\n",
    "\n",
    "Scikit-Learn implements a function `plot_roc_curve` which can help us create a ROC curve as well as calculate the area under the curve (AUC) metric.\n",
    "\n",
    "Reading the documentation on the [`plot_roc_curve`](https://scikit-learn.org/stable/modules/generated/sklearn.metrics.plot_roc_curve.html) function we can see it takes `(estimator, X, y)` as inputs. Where `estiamator` is a fitted machine learning model and `X` and `y` are the data you'd like to test it on.\n",
    "\n",
    "In our case, we'll use the GridSearchCV version of our `LogisticRegression` estimator, `gs_log_reg` as well as the test data, `X_test` and `y_test`."
   ]
  },
  {
   "cell_type": "code",
   "execution_count": 68,
   "metadata": {
    "slideshow": {
     "slide_type": "subslide"
    }
   },
   "outputs": [
    {
     "data": {
      "image/png": "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\n",
      "text/plain": [
       "<Figure size 432x288 with 1 Axes>"
      ]
     },
     "metadata": {
      "needs_background": "light"
     },
     "output_type": "display_data"
    }
   ],
   "source": [
    "# Import curve\n",
    "from sklearn.metrics import plot_roc_curve\n",
    "\n",
    "# plot ROC curve and calculate AUC metrics\n",
    "plot_roc_curve(gs_log_reg, X_test, y_test);\n"
   ]
  },
  {
   "cell_type": "code",
   "execution_count": 69,
   "metadata": {
    "slideshow": {
     "slide_type": "skip"
    }
   },
   "outputs": [
    {
     "name": "stdout",
     "output_type": "stream",
     "text": [
      "[[25  4]\n",
      " [ 3 29]]\n"
     ]
    }
   ],
   "source": [
    "# Confusion Matrix \n",
    "from sklearn.metrics import confusion_matrix\n",
    "print(confusion_matrix(y_test, y_preds))"
   ]
  },
  {
   "cell_type": "markdown",
   "metadata": {
    "slideshow": {
     "slide_type": "skip"
    }
   },
   "source": [
    "As you can see, Scikit-Learn's built-in confusion matrix is a bit bland. For a presentation you'd probably want to make it visual.\n",
    "\n",
    "Let's create a function which uses Seaborn's [`heatmap()`](https://seaborn.pydata.org/generated/seaborn.heatmap.html) for doing so."
   ]
  },
  {
   "cell_type": "code",
   "execution_count": 88,
   "metadata": {
    "slideshow": {
     "slide_type": "subslide"
    }
   },
   "outputs": [
    {
     "data": {
      "image/png": "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\n",
      "text/plain": [
       "<Figure size 360x360 with 1 Axes>"
      ]
     },
     "metadata": {},
     "output_type": "display_data"
    }
   ],
   "source": [
    "import seaborn as sns \n",
    "sns.set(font_scale=1.5)\n",
    "def plot_conf_mat(y_test, y_preds):\n",
    "    \"\"\" plots a confusion matrix using seaborns heatmap\"\"\"\n",
    "    fix, ax = plt.subplots(figsize=(5, 5))\n",
    "    ax = sns.heatmap(confusion_matrix(y_test, y_preds),\n",
    "                    annot=True,\n",
    "                    cbar=False,\n",
    "                    cmap='Wistia')\n",
    "    plt.xlabel(\"True Label\")\n",
    "    plt.ylabel(\"Predicted Label\")\n",
    "    bot\n",
    "plot_conf_mat(y_test, y_preds)"
   ]
  },
  {
   "cell_type": "markdown",
   "metadata": {
    "slideshow": {
     "slide_type": "fragment"
    }
   },
   "source": [
    "Beautiful! That looks much better. \n",
    "\n",
    "You can see the model gets confused (predicts the wrong label) relatively the same across both classes. In essence, there are 4 occasaions where the model predicted 0 when it should've been 1 (false negative) and 3 occasions where the model predicted 1 instead of 0 (false positive)."
   ]
  },
  {
   "cell_type": "markdown",
   "metadata": {
    "slideshow": {
     "slide_type": "slide"
    }
   },
   "source": [
    "### Classification report\n",
    "\n",
    "We can make a classification report using [`classification_report()`](https://scikit-learn.org/stable/modules/generated/sklearn.metrics.classification_report.html) and passing it the true labels as well as our models predicted labels. \n",
    "\n",
    "A classification report will also give us information of the precision and recall of our model for each class."
   ]
  },
  {
   "cell_type": "code",
   "execution_count": 89,
   "metadata": {
    "slideshow": {
     "slide_type": "subslide"
    }
   },
   "outputs": [
    {
     "name": "stdout",
     "output_type": "stream",
     "text": [
      "              precision    recall  f1-score   support\n",
      "\n",
      "           0       0.89      0.86      0.88        29\n",
      "           1       0.88      0.91      0.89        32\n",
      "\n",
      "    accuracy                           0.89        61\n",
      "   macro avg       0.89      0.88      0.88        61\n",
      "weighted avg       0.89      0.89      0.89        61\n",
      "\n"
     ]
    }
   ],
   "source": [
    "from sklearn.metrics import classification_report\n",
    "\n",
    "print(classification_report(y_test, y_preds))"
   ]
  },
  {
   "cell_type": "markdown",
   "metadata": {
    "slideshow": {
     "slide_type": "skip"
    }
   },
   "source": [
    "What's going on here?\n",
    "\n",
    "Let's get a refresh.\n",
    "\n",
    "* **Precision** - Indicates the proportion of positive identifications (model predicted class 1) which were actually correct. A model which produces no false positives has a precision of 1.0.\n",
    "* **Recall** - Indicates the proportion of actual positives which were correctly classified. A model which produces no false negatives has a recall of 1.0.\n",
    "* **F1 score** - A combination of precision and recall. A perfect model achieves an F1 score of 1.0.\n",
    "* **Support** - The number of samples each metric was calculated on.\n",
    "* **Accuracy** - The accuracy of the model in decimal form. Perfect accuracy is equal to 1.0.\n",
    "* **Macro avg** - Short for macro average, the average precision, recall and F1 score between classes. Macro avg doesn’t class imbalance into effort, so if you do have class imbalances, pay attention to this metric.\n",
    "* **Weighted avg** - Short for weighted average, the weighted average precision, recall and F1 score between classes. Weighted means each metric is calculated with respect to how many samples there are in each class. This metric will favour the majority class (e.g. will give a high value when one class out performs another due to having more samples).\n",
    "\n",
    "Ok, now we've got a few deeper insights on our model. But these were all calculated using a single training and test set.\n",
    "\n",
    "What we'll do to make them more solid is calculate them using cross-validation.\n",
    "\n",
    "How?\n",
    "\n"
   ]
  },
  {
   "cell_type": "markdown",
   "metadata": {
    "slideshow": {
     "slide_type": "slide"
    }
   },
   "source": [
    "## Calculate Evaluation Metrics with Cross Validation\n",
    "\n",
    "We'll take the best model along with the best hyperparameters and use [`cross_val_score()`](https://scikit-learn.org/stable/modules/generated/sklearn.model_selection.cross_val_score.html) along with various `scoring` parameter values.\n",
    "\n",
    "`cross_val_score()` works by taking an estimator (machine learning model) along with data and labels. It then evaluates the machine learning model on the data and labels using cross-validation and a defined `scoring` parameter.\n",
    "\n",
    "Let's remind ourselves of the best hyperparameters and then see them in action."
   ]
  },
  {
   "cell_type": "code",
   "execution_count": 91,
   "metadata": {
    "slideshow": {
     "slide_type": "skip"
    }
   },
   "outputs": [
    {
     "data": {
      "text/plain": [
       "{'C': 0.20433597178569418, 'solver': 'liblinear'}"
      ]
     },
     "execution_count": 91,
     "metadata": {},
     "output_type": "execute_result"
    }
   ],
   "source": [
    "gs_log_reg.best_params_"
   ]
  },
  {
   "cell_type": "code",
   "execution_count": 95,
   "metadata": {
    "slideshow": {
     "slide_type": "skip"
    }
   },
   "outputs": [],
   "source": [
    "# import cross val score \n",
    "from sklearn.model_selection import cross_val_score\n",
    "\n",
    "# Instantiate model with best parameters\n",
    "clf = LogisticRegression(C=0.20433597178569418, solver='liblinear')\n"
   ]
  },
  {
   "cell_type": "code",
   "execution_count": 101,
   "metadata": {
    "slideshow": {
     "slide_type": "skip"
    }
   },
   "outputs": [
    {
     "data": {
      "text/plain": [
       "array([0.81967213, 0.90163934, 0.86885246, 0.88333333, 0.75      ])"
      ]
     },
     "execution_count": 101,
     "metadata": {},
     "output_type": "execute_result"
    }
   ],
   "source": [
    "# cross-validated accruacy \n",
    "cv_acc = cross_val_score(clf, \n",
    "                         X, # pass in all the data bc we're using cross val score over train_test_split\n",
    "                         y, # pass in all the y data bc we're using cross val score instead of train_test_split\n",
    "                         cv=5, \n",
    "                         scoring='accuracy')\n",
    "cv_acc"
   ]
  },
  {
   "cell_type": "code",
   "execution_count": 102,
   "metadata": {
    "slideshow": {
     "slide_type": "skip"
    }
   },
   "outputs": [
    {
     "data": {
      "text/plain": [
       "0.8446994535519124"
      ]
     },
     "execution_count": 102,
     "metadata": {},
     "output_type": "execute_result"
    }
   ],
   "source": [
    "cv_acc = np.mean(cv_acc)\n",
    "cv_acc"
   ]
  },
  {
   "cell_type": "code",
   "execution_count": 117,
   "metadata": {
    "slideshow": {
     "slide_type": "skip"
    }
   },
   "outputs": [
    {
     "data": {
      "text/plain": [
       "0.8207936507936507"
      ]
     },
     "execution_count": 117,
     "metadata": {},
     "output_type": "execute_result"
    }
   ],
   "source": [
    "# cross validated precision\n",
    "cv_precision = cross_val_score(clf, X, y, cv=5, scoring='precision')\n",
    "cv_precision = np.mean(cv_prec)\n",
    "cv_precision"
   ]
  },
  {
   "cell_type": "code",
   "execution_count": 107,
   "metadata": {
    "slideshow": {
     "slide_type": "skip"
    }
   },
   "outputs": [
    {
     "data": {
      "text/plain": [
       "0.9212121212121213"
      ]
     },
     "execution_count": 107,
     "metadata": {},
     "output_type": "execute_result"
    }
   ],
   "source": [
    "# cross validated recall\n",
    "cv_recall = cross_val_score(clf, \n",
    "                         X, # pass in all the data bc we're using cross val score over train_test_split\n",
    "                         y, # pass in all the y data bc we're using cross val score instead of train_test_split\n",
    "                         cv=5, \n",
    "                         scoring='recall')\n",
    "cv_recall = np.mean(cv_recall)\n",
    "cv_recall"
   ]
  },
  {
   "cell_type": "code",
   "execution_count": 115,
   "metadata": {
    "slideshow": {
     "slide_type": "skip"
    }
   },
   "outputs": [
    {
     "data": {
      "text/plain": [
       "0.8673007976269721"
      ]
     },
     "execution_count": 115,
     "metadata": {},
     "output_type": "execute_result"
    }
   ],
   "source": [
    "# cross validated f1-score\n",
    "cv_f1 = cross_val_score(clf, \n",
    "                         X, # pass in all the data bc we're using cross val score over train_test_split\n",
    "                         y, # pass in all the y data bc we're using cross val score instead of train_test_split\n",
    "                         cv=5, \n",
    "                         scoring='f1')\n",
    "cv_f1 = np.mean(cv_f1)\n",
    "cv_f1"
   ]
  },
  {
   "cell_type": "code",
   "execution_count": 118,
   "metadata": {
    "slideshow": {
     "slide_type": "subslide"
    }
   },
   "outputs": [
    {
     "data": {
      "text/plain": [
       "<matplotlib.axes._subplots.AxesSubplot at 0x1a1d13fc50>"
      ]
     },
     "execution_count": 118,
     "metadata": {},
     "output_type": "execute_result"
    },
    {
     "data": {
      "image/png": "iVBORw0KGgoAAAANSUhEUgAAAX0AAAFJCAYAAAB3kv3qAAAABHNCSVQICAgIfAhkiAAAAAlwSFlzAAALEgAACxIB0t1+/AAAADh0RVh0U29mdHdhcmUAbWF0cGxvdGxpYiB2ZXJzaW9uMy4xLjMsIGh0dHA6Ly9tYXRwbG90bGliLm9yZy+AADFEAAAgAElEQVR4nO3deVhUZf8/8PegIAakoOIGsqgDKYsmooggIIJomo6WlLmbWvi4PwmkqeRTYibiSmloKm6YoqK44s7T41ZZriWyKOTGIiACwvn9wY/5NrLNwMg4nPfrurwuvc99Zj5zi2/P3Oc+50gEQRBARESioKPpAoiIqO4w9ImIRIShT0QkIgx9IiIRYegTEYkIQ5+ISEQY+vVIbm4uIiMjIZPJ0K1bN3Tp0gXDhw/Hzp07UVJSounylLJ69WrY2NggLi6uyn4ymQy9evXCixcvlH7tOXPmoFOnTvI/h4WFwcbGBn///XeV+ynbryIlJSW4f/++yvtVJjo6GjY2Nrh06VKlfZKTk2FjYwMbGxt8/fXXlfaLi4uT96vJZwOA1NTUavuU1bN27doavQepF0O/nkhMTMSwYcOwfPly2NjYYNasWZg2bRoaNWqEL774Ap999hm04ZKMwYMHAwAOHz5caZ/k5GRcu3YNAwYMQMOGDWv8Xn5+fli6dCmaNGlS49eoytOnTzF8+HDs27fvlby+Mk6cOFHptuPHj9f4dQVBwLhx4xAREVFt3+bNm2Pp0qXw9vau8fuR+tT8Xwy9NgoKCvDpp58iKysLu3fvhq2trXzb+PHjsWjRImzbtg0ODg4YPXq0BiutXrt27eDo6IgzZ84gPz8fjRs3Ltfn0KFDAP7vP4iasrW1VRgrdcvMzMS1a9c0FnZmZmZITU3F7du3IZVKFbYVFRXh9OnTMDExQUZGhsqvXVxcjISEBAwfPrzavgYGBnj33XdVfg96NXikXw9s27YNd+/eRVBQUIUhNnfuXDRp0gQ7duzQQHWqGzx4MJ49e4YzZ85UuP3QoUOwtLSEg4NDHVemXTw9PaGjo1Ph0f7PP/+M3NxceHh41H1hpFEM/Xrg4MGDeOONNzBw4MAKt+vr62PXrl2IiYmRt3l5eWHevHkIDg6Gvb093N3d5Ud8ly5dwtixY9G1a1d07doVo0ePxsWLFxVeMzs7G4GBgfDw8ICdnR28vb3x7bffoqCgQN6nsLAQ//nPf9C3b1/Y2dmhT58+WLRoEbKzs6v8PGXTNkeOHCm37c6dO7h9+3a5o/yEhARMmDABzs7OsLOzg7u7OxYsWIDc3NxK36eiufqkpCQEBATAyckJPXv2RHh4eIX7/v7775g6dSpcXFzQuXNn9OrVC7Nnz8aDBw/k9fj4+AAAwsPDFd7n+fPnWL58Oby8vORjt3r1ahQVFSm8x6NHjzB37lz07NkT3bp1w4IFC1BYWFjl2P2TiYkJunbtivj4+HLbjh07hi5dusDU1LTcturqS05ORufOnQEAu3fvlp9jSEhIgI2NDWJiYjBw4EDY29tj/vz5lc7px8TEQCaToUuXLujTpw8WLFiAzMxM+fabN29i/Pjx6NGjBxwdHSGTybB3716lPz9VjNM7Wk4QBNy4cQNvv/02dHV1K+1naWlZru3gwYOwsrLC559/jsePH8PExAQnTpzA1KlT0a5dO3zyyScASk8ejh07FitXrkTfvn0BADNmzMD169cxevRomJqa4pdffsH333+PrKwsfPnllwCAkJAQxMbGYvTo0TA3N8eff/6JqKgoJCcnIzIystJaTUxM4OrqipMnT6KgoACNGjWSb4uNjQWgOLVz+vRpTJkyBU5OTpg+fToA4OzZs9ixYweKi4uxePFipcby4cOH+OCDD1BcXIxx48ZBT08P27dvx9OnTxX63bhxAyNHjoS1tTUmT54MfX19XLlyBfv370dGRgY2btyIjh07Yu7cuQgNDYWvry/69u2LJk2aoLi4GB9//DGuXr2KESNGwMrKClevXsXq1atx/fp1rFmzBhKJBM+fP8dHH32E9PR0jB49Gs2bN8dPP/2EgwcPKvVZynh7e2Pp0qV48OABWrZsCaD0ZyY+Ph5jx45FTk6OQn9l6mvevDlCQ0Mxd+5cODs7Y/jw4bC2tsbNmzcBAIsWLYJMJsOIESNgZmZWYV0REREICwtD9+7dMXv2bDx69Ag//vgjbt26haioKGRlZWH8+PFo3rw5AgICoKuri9jYWAQGBqJRo0YYMGCASuNA/yCQVnvy5IkglUqFmTNnqrSfp6enYGtrKyQnJ8vbioqKBHd3d6FPnz5CTk6OvD07O1twc3MT3NzchMLCQuHx48eCVCoVNmzYoPCagYGBwpgxY+R/dnBwEBYtWqTQJywsTJDJZEJubm6V9e3fv1+QSqXCsWPHFNp9fHyEESNGKLSNHTtW6Nu3r1BYWKjQLpPJhO7du8v/PHv2bOGtt96S/3n58uWCVCoV0tPTBUEQhMWLFwu2trbCjRs35H0ePnwoODs7K/T7/PPPhS5dugjZ2dkK7/evf/1LkEqlwtOnTwVBEISkpCRBKpUKa9askffZtWuXIJVKhfPnzyvsu3XrVkEqlQonT54UBEEQNm7cKEilUiE+Pl7eJzc3V/D19RWkUqlw8eLFSsfun++bnJwsSKVSYfv27fLtly9fFqRSqZCcnFxuDJStr6ioSJBKpUJwcLC8z/nz5wWpVCqMHj260noEofRn1s7OTpg8ebJQXFws77dt2zZBKpUKZ8+elf/9X79+Xb69oKBAePfdd4Xly5dX+tmpepze0XI6OqV/hcXFxSrv265dO7Rr107+5+vXr+Pvv//GyJEjYWhoKG9/88038dFHH+HBgwf4448/YGRkhDfeeAPbtm3DkSNH8OzZMwDA119/jU2bNsn3a9WqFQ4dOoQ9e/bIj5ZnzJiBn376CQYGBlXW5u3tjTfeeENhFc/169eRlJRUbmpnw4YN2L17t8I3nYyMDBgZGclrU8aZM2fg6OiocF6kRYsW5Y4qQ0JCcOLECbz55pvyttzcXOjr6wNAle955MgRtGjRAra2tsjIyJD/Kpt/P3nyJIDSbyqmpqbw9PSU72tgYKDUidN/ateuHaRSqcK8/rFjxyCVShX+7lWtrypubm5Vbk9ISEBhYSE+/PBD+c8vAAwdOhR79uyBk5MTWrVqBQBYtmwZLl26hJKSEujp6SEmJgYzZ85U9uNTBTi9o+WaNGkCXV3dGq3AaNasmcKf7927BwCwsrIq19fa2hoAkJaWhq5duyIkJATz58/HtGnToKenB2dnZ/j4+GDIkCHy6ZiFCxdixowZCAoKwvz589GlSxf069cPw4YNg5GRUZW1NW7cGN7e3oiPj0dhYSH09PRw8OBB6Orqws/PT6FvgwYNkJycjLCwMNy5cwfJycl4+PChfJuy0tLS4OjoWOlnL6Ojo4PMzExERETg1q1bSE1NRVpamnxJrFDF0tjU1FQ8evQILi4uFW5PT08HUPp3UVEov1yLMry8vBAZGYm8vDwYGBjg+PHjla58Ura+qrz8c/WysusWXp5y1NfXl58r6N69O0aOHImoqCicO3cOTZs2Re/evTF48GD06dOn2hqocgx9LSeRSNC1a1f88ccfePHiRaXr1sPCwpCamoqgoCC0aNECQPlArCqsyraVHU0PGjQIbm5uOH78OE6fPo2EhAScO3cO27ZtQ3R0NPT09ODi4oKTJ0/Kf50/f17+bWDPnj0wMTGp8rMNGjQI+/fvx7lz5+Dl5YW4uDi4ubnB2NhYoV9UVBRCQkJgbW0NJycn+Pr6wtHREZs2bapyvX9F/nkiuszLF7aVnfdo1aoVevbsiT59+sDe3h4nT57EDz/8UOXrFxcXw9raGvPnz69we9OmTQGU/r0qU4syvL29ERERgXPnzsHS0hIpKSno169freqryj+P3it7D6D0M1bliy++wJgxY3DkyBGcPXsWR44cQWxsLEaOHIkvvvii2jqoYgz9eqBfv364cOECDh06VOER3PPnz7F7924UFxdX+Y+2bdu2AEov9HrZ3bt3AZRO2eTl5eHGjRvo2LEjhg8fjuHDh6OwsBDffPMNNm/ejHPnzqF37964ceMGWrVqhYEDB2LgwIEoKSnBxo0bsXTpUhw8eBCjRo2q8nO5urqiefPmOHbsGFq0aIH79+/j3//+t0Kf/Px8hIaGwtXVFevXr1f4j+zx48dVvv7LzM3NkZSUVK795atOv/zyS7Rv3x7R0dEK1xHs2bOn2vdo27Ytbt++jZ49eyqEY2FhIY4fPy6f1jA3N8fVq1dRXFys8JnKvo2pwt7eHq1bt0Z8fLx8Sq+y6xOUra822rRpAwBISUmBubm5vP358+f47LPPMGTIENjb2+Ovv/6Ci4sLJk2ahEmTJiEjIwOffvoptm/fjtmzZ1c7RUgV45x+PTBixAi0bdsWoaGhuH37tsK24uJiLFy4EI8fP8bHH39c5Qqfzp07o0WLFti+fbvCUsfc3Fxs27YNLVq0gJ2dHf7880+MHDkSu3fvlvfR09OT3+KgQYMGyMrKwogRI/Ddd9/J++jo6MDe3l7+++o0aNAAfn5+OHPmDE6cOAFDQ0N4eXkp9MnPz0dBQQEsLS0VwvGPP/7AlStXVDrX0a9fP9y8eRMJCQnytqdPn+LAgQMK/bKystC2bVuFwL9//7583rzs1hBln/GfR+deXl7IyMjArl27FF5z27ZtmDlzJi5cuAAA8PHxQVZWlsJ/JIWFheX2U5aXl5d8HKu6WEzZ+ir6bMrq1asXdHV1sXPnToVvl3FxcThy5Ah0dHTkK8auX78u325iYgJzc3NIJBKVpu1IEY/064FGjRph9erVGD9+PIYPH45BgwbB3t4eWVlZOHz4MG7cuIH+/ftj3LhxVb6Orq4u5s+fjxkzZmDYsGHyk4a7d+/Gw4cPsXLlSujo6MDR0RFOTk4ICwtDeno6bGxskJ6ejq1bt8La2houLi7Q09PDoEGDsG3bNuTn56Nr167IysrC1q1b0bx583Lz8pUZPHgwtmzZgqioKPj6+ios3wRKg6Bz587YtWsXGjduDEtLS9y+fRu7d++WB1Nubq7CienKTJw4EbGxsfj0008xZswYGBsbY8eOHeWmIdzd3XHkyBEsXLgQnTt3RmpqKnbu3Innz58DAPLy8gAAxsbGkEgkOHHiBFq2bIn+/fvD398f+/btw6JFi/D777/D3t4et27dwq5du2BnZ4chQ4YAKD2puWvXLixcuBC3bt2ChYUF9u3bV6NzN0DpFE9UVBQyMjIwb968SvspW5+Ojg6aNm2K//3vf9i1axfc3d2VrsXU1BRTpkzBqlWrMHHiRHh5ecl/fnr16gV3d3fY2tpi8+bNmDRpEj744AOYmpri999/x4EDB/D+++/LT5pTDWh07RCp1d9//y0sWbJEGDBggNClSxfB0dFReP/994Xdu3cLJSUlCn09PT2Fjz76qMLXSUhIED766CPB0dFR6NatmzB+/PhySwQzMzOFL7/8UvDy8hLs7OwEV1dX4fPPPxcePnwo75Ofny+Eh4cLPj4+gr29veDs7CxMnz5dSEpKUulz+fj4CFKpVPjvf/9b4fb79+8LU6dOFZydnYWuXbsK77zzjhARESEcPHhQYdlndUs2y8Zw9uzZQvfu3QUnJydhwYIF8uWTZf0yMzOFwMBAoVevXoKjo6Pg6+srhIaGChcvXhSkUqmwadMm+eutXbtW6N69u+Do6Cgfw5ycHOHrr78WPDw8hM6dOwuenp7C4sWLhczMTIXPlZOTIyxcuFBwcXERunTpIsyYMUO+lFHZJZtlioqKBCcnJ8HV1VXhZ6GiMVC2vujoaKFXr16CnZ2dsH//fvmSzZiYmGrrEYTS5aHvvPOOYGdnJ3h6egpLlixRWCp88+ZN4dNPPxVcXV2Fzp07Cz4+PsLatWvLLc0l1UgEQQvuwkVERGrBOX0iIhFh6BMRiQhDn4hIRBj6REQiwtAnIhIRhj4RkYhoxcVZmZl5KCl5fVeWNmtmiCdPKn9YB6mG46leHE/1et3HU0dHAmPjym9RoRWhX1IivNahD+C1r0/bcDzVi+OpXto8npzeISISEYY+EZGIMPSJiESEoU9EJCIMfSIiEdGK1TtERPn5ecjNzUJx8QuN1vHwoU6NHh6jDg0aNIShYVM0blzzp4Yx9InotZefn4ecnEw0bdoCurp61T5f91Vq2FAHL17UfegLgoCiokJkZT0CgBoHP0Of6DVi9GZj6DdS/z/LFi2M1Pp6zwteIOdpvlpfsyq5uVlo2rQF9PQaVd+5npJIJNDTa4SmTVsgO/sxQ5+oPtBv1BCDZu/TdBnVOvDtu8ipw/crLn4BXV29OnzH15eurl6tprh4IpeItIImp3ReJ7UdB4Y+EZGIMPSJiESEc/pEpLVe1YlvVdT2pPaxY4fx44+RSEu7j9atW+Ojj8bCz+8dNVaoiKFPRFrrdTjxXZuT2vHxxxESMh/vveePHj164ezZU/jPfxZCX18fnp7eaq2zDEOfiEhDvvtuNby8vDFt2mwAQI8eLnj69Ck2bIh4ZaHPOX0iIg24f/8e7t+/hz59+iq0e3j0RXJyEtLS7r+S92XoExFpQEpKEgCgXTsLhXYzM7P/vz35lbwvQ5+ISANyc0sfuWhgoHhl7RtvlP45Ly/vlbwvQ5+ISAOE///ExZcvthL+/wYdnVdzMRpP5BIR1VLDhqofPzdpUno/pPx8xSP6Z8+eAQAMDQ1rX1gFGPpERLX0V2qWyvsIuiYASk/oWll1kLffu5cKADA3t1RLbS/j9A4RkQa0at0WLUxbIz7+hEL76dPxMDNrh1atWr2S9+WRPhGRhgwdPgrfr10KQ0ND9OrlhnPnziA+/hgWLfrqlb0nQ5+ItNbzghc48O27Gq0hL7+wxvu6e/aHsVFDREVtQWzsPrRp0xbz5i1C374+aqxQkShD/1Xcr0PbH1JBpI1ynuZXeQuEhg11ajTfXpeGDh2OQYNkdfZ+ogz91+F+HdWp64dUEJE48EQuEZGIMPSJiESEoU9EJCJKh35sbCwGDhwIBwcH+Pn5ISYmpsr+GRkZCAoKQu/eveHs7IzJkycjKSmptvUSEVEtKHUiNy4uDnPmzMHo0aPh5uaG48ePY+7cudDX10f//v3L9RcEAQEBAUhJScG///1vNG3aFCtXrsTo0aNx4MABNGnSRO0fhDTjVT25iKuh6GWCIPDh6Pi/e/PUlFL/WpcvXw4/Pz8EBwcDANzc3JCdnY3w8PAKQz8pKQlXrlxBaGgohgwZAgBo3749vL29ER8fj6FDh9aqaHp9aMNKKICrobRdgwYNUVRUCD29RpouReOKigrRoEHND7Sqnd5JTU1FSkoKfHwULxbw9fVFYmIiUlNTy+1TUFAAQPGWoWVH91lZr/eaWSJ6/RgaNkVW1iMUFhbU+khXWwmCgMLCAmRlPYKhYdMav061/10kJiYCAKysrBTaLSxKb/x/9+5dmJubK2yztbVFjx49sGbNGlhbW8PY2BhLlizBG2+8AW/vV/MIMCKqvxo3Lj2AzM5+jOLiF0rvp6Ojg9ynz15VWWqRlpaNkpISpfo2aNAQRkbG8vGoiWpDPyen9Evxy7f5LDuKL3sQwMsWLlyIiRMnYsCAAQAAPT09rFmzptx/EMpo1uzV3GL0dafueW2x43iqV92PpxEA1W9CFviaTz/W9W0kqg39sq9Sld/ov/wM0Z07d+Dv74927dohODgY+vr62LVrF6ZNm4YNGzbAyclJpSKfPMlFSYn6vtJpyz/+R49e/1lobRlLgOOpbhxP9VHnWOroSKo8UK429I2MSgft5SP6skd5lW3/p02bNgEAIiMj5XP5rq6u+PDDD/HVV19hz549ylVPRERqVe2J3LK5/JSUFIX25ORkhe3/lJaWhvbt2ysszZRIJOjWrRv++uuvWhVMREQ1V23oW1hYwMzMDIcPH1ZoP3r0KCwtLdGmTZty+1hZWeHPP/9Edna2Qvtvv/2Gtm3b1rJkIiKqKaUWewYEBCAoKAhNmjSBh4cH4uPjERcXh7CwMAClV9+mpKSgQ4cOMDQ0xNixY7F//35MmDABkyZNgr6+Pvbt24cLFy7I9yEiorqnVOjLZDIUFhYiMjIS0dHRMDc3R2hoqHxlzqlTpxAUFITNmzejR48eMDMzw/bt2/HNN98gMDAQOjo6kEql2LhxI3r16vVKPxAREVVO6cu6/P394e/vX+E2mUwGmUzxIQDt27dHRERE7aojIiK14l02iYhEhKFPRCQiDH0iIhFh6BMRiQhDn4hIRBj6REQiwtAnIhIRhj4RkYgw9ImIRIShT0QkIgx9IiIRYegTEYkIQ5+ISEQY+kREIsLQJyISEYY+EZGIMPSJiESEoU9EJCIMfSIiEWHoExGJCEOfiEhEGPpERCLC0CciEhGGPhGRiDD0iYhEhKFPRCQiDH0iIhFh6BMRiQhDn4hIRBj6REQiwtAnIhIRhj4RkYgoHfqxsbEYOHAgHBwc4Ofnh5iYmCr7l5SUYN26dejbty8cHBwwaNAgHDx4sNYFExFRzTVUplNcXBzmzJmD0aNHw83NDcePH8fcuXOhr6+P/v37V7jPV199hZ07d2LWrFmwtbXFwYMHMXv2bBgaGqJPnz5q/RBERKQcpUJ/+fLl8PPzQ3BwMADAzc0N2dnZCA8PrzD0U1JSEBUVhZCQELz33nsAABcXFyQlJeHs2bMMfSIiDak29FNTU5GSkoJZs2YptPv6+iIuLg6pqakwNzdX2Hb8+HHo6+tjyJAhCu1bt25VQ8lERFRT1c7pJyYmAgCsrKwU2i0sLAAAd+/eLbfPrVu3YGVlhYSEBAwePBidOnWCj48PDh06pI6aiYiohqo90s/JyQEAGBoaKrQbGBgAAHJzc8vtk5GRgfT0dAQHB2P69OkwMzNDdHQ0Zs6cCRMTE/Ts2VOlIps1M6y+Uz3UooWRpkuoVzie6sXxVJ+6HMtqQ18QBACARCKpsF1Hp/yXhaKiImRkZCAiIgKenp4ASuf0ExMTsXr1apVD/8mTXJSUCCrtUxVt+WF99ChH0yVUS1vGEuB4qhvHU33UOZY6OpIqD5Srnd4xMiodtJeP6PPy8hS2/5OBgQEaNGgAV1dXeZtEIkGvXr1w69Yt5SonIiK1qzb0y+byU1JSFNqTk5MVtv+ThYUFSkpK8OLFC4X2oqKict8YiIio7lQb+hYWFjAzM8Phw4cV2o8ePQpLS0u0adOm3D5ubm4QBAFxcXHythcvXuDs2bPo1q2bGsomIqKaUGqdfkBAAIKCgtCkSRN4eHggPj4ecXFxCAsLA1B64jYlJQUdOnSAoaEhXFxc0KdPHyxevBjPnj2DpaUltm3bhvv37+Pbb799pR+IiIgqp1Toy2QyFBYWIjIyEtHR0TA3N0doaCgGDBgAADh16hSCgoKwefNm9OjRAwCwcuVKhIeH4/vvv0d2djY6deqEyMhI2NnZvbpPQ0REVVIq9AHA398f/v7+FW6TyWSQyWQKbfr6+pg7dy7mzp1buwqJiEhteJdNIiIRYegTEYkIQ5+ISEQY+kREIsLQJyISEYY+EZGIMPSJiESEoU9EJCIMfSIiEWHoExGJCEOfiEhEGPpERCLC0CciEhGGPhGRiDD0iYhEhKFPRCQiDH0iIhFh6BMRiQhDn4hIRBj6REQiwtAnIhIRhj4RkYgw9ImIRIShT0QkIgx9IiIRYegTEYkIQ5+ISEQY+kREIsLQJyISEYY+EZGIMPSJiESEoU9EJCJKh35sbCwGDhwIBwcH+Pn5ISYmRuk3SU9PR7du3bB27doaFUlEROqhVOjHxcVhzpw5cHV1xZo1a+Ds7Iy5c+fi8OHD1e4rCAKCg4ORm5tb62KJiKh2GirTafny5fDz80NwcDAAwM3NDdnZ2QgPD0f//v2r3Hfbtm1ITEysfaVERFRr1R7pp6amIiUlBT4+Pgrtvr6+SExMRGpqapX7Llu2DF9++WXtKyUiolqrNvTLjtKtrKwU2i0sLAAAd+/erXC/kpISBAYGws/PD+7u7rWtk4iI1KDa6Z2cnBwAgKGhoUK7gYEBAFQ6V//jjz8iNTUVERERta0RzZoZVt+pHmrRwkjTJdQrHE/14niqT12OZbWhLwgCAEAikVTYrqNT/stCYmIiVqxYgZUrV8LIqPYf5smTXJSUCLV+nTLa8sP66FGOpkuolraMJcDxVDeOp/qocyx1dCRVHihXO71TFtovH9Hn5eUpbC9TXFyMwMBA9O/fH66urnjx4gVevHgBoHTKp+z3RERU96oN/bK5/JSUFIX25ORkhe1l0tPT8dtvvyEmJgadO3eW/wKAVatWyX9PRER1r9rpHQsLC5iZmeHw4cPo16+fvP3o0aOwtLREmzZtFPqbmppi9+7d5V5n+PDh+OCDDzBs2DA1lE1ERDWh1Dr9gIAABAUFoUmTJvDw8EB8fDzi4uIQFhYGAMjIyEBKSgo6dOgAQ0ND2NvbV/g6pqamlW4jIqJXT6krcmUyGRYtWoRz584hICAAFy5cQGhoKAYMGAAAOHXqFEaMGIFr16690mKJiKh2lDrSBwB/f3/4+/tXuE0mk0Emk1W5/61bt1SrjIiI1I532SQiEhGGPhGRiDD0iYhEhKFPRCQiDH0iIhFh6BMRiQhDn4hIRBj6REQiwtAnIhIRhj4RkYgw9ImIRIShT0QkIgx9IiIRYegTEYkIQ5+ISEQY+kREIsLQJyISEYY+EZGIMPSJiESEoU9EJCIMfSIiEWHoExGJCEOfiEhEGPpERCLC0CciEhGGPhGRiDD0iYhEhKFPRCQiDH0iIhFh6BMRiQhDn4hIRBj6REQionTox8bGYuDAgXBwcICfnx9iYmKq7P/o0SPMmzcPnp6e6Nq1K2QyGeLi4mpdMBER1VxDZTrFxcVhzpw5GD16NNzc3HD8+HHMnTsX+vr66N+/f7n+hYWFmDhxInJycjBt2jSYmpriyJEjmDFjBoqLi/HOO++o/YMQEVH1lAr95cuXw8/PD8HBwQAANzc3ZGdnIzw8vMLQP3PmDG7evIno6Gg4ODgAAFxdXZGWlob169cz9ImINAwUs2IAABhrSURBVKTa6Z3U1FSkpKTAx8dHod3X1xeJiYlITU0tt4+BgQFGjBgBe3t7hXZra2ukpKTUsmQiIqqpao/0ExMTAQBWVlYK7RYWFgCAu3fvwtzcXGGbi4sLXFxcFNqKiopw+vRpdOzYsVYFExFRzVUb+jk5OQAAQ0NDhXYDAwMAQG5urlJvtGzZMiQlJWHNmjWq1ohmzQyr71QPtWhhpOkS6hWOp3pxPNWnLsey2tAXBAEAIJFIKmzX0al6hkgQBHzzzTfYtGkTJkyYAG9vb5WLfPIkFyUlgsr7VUZbflgfPcrRdAnV0paxBDie6sbxVB91jqWOjqTKA+VqQ9/IqHTQXj6iz8vLU9hekcLCQgQGBuLgwYOYMGECPvvsM6WKJiKiV6Pa0C+by09JSYGNjY28PTk5WWH7y3JzczF58mRcuXIFwcHBGDNmjDrqJSKiWqh29Y6FhQXMzMxw+PBhhfajR4/C0tISbdq0KbdPcXExPvnkE/z2229Yvnw5A5+I6DWh1Dr9gIAABAUFoUmTJvDw8EB8fDzi4uIQFhYGAMjIyEBKSgo6dOgAQ0ND7NixAxcuXMCIESPQunVr/Prrr/LXkkgkcHR0fDWfhoiIqqRU6MtkMhQWFiIyMhLR0dEwNzdHaGgoBgwYAAA4deoUgoKCsHnzZvTo0QNHjhwBAOzcuRM7d+5UeK0GDRrg+vXrav4YRESkDKVCHwD8/f3h7+9f4TaZTAaZTCb/8+bNm2tfGRERqR3vsklEJCIMfSIiEWHoExGJCEOfiEhEGPpERCLC0CciEhGGPhGRiDD0iYhEhKFPRCQiDH0iIhFh6BMRiQhDn4hIRBj6REQiwtAnIhIRhj4RkYgw9ImIRIShT0QkIgx9IiIRYegTEYkIQ5+ISEQY+kREIsLQJyISEYY+EZGIMPSJiESEoU9EJCIMfSIiEWHoExGJCEOfiEhEGPpERCLC0CciEhGGPhGRiDD0iYhEROnQj42NxcCBA+Hg4AA/Pz/ExMRU2T8vLw+LFi2Cq6srunbtio8//hhJSUm1rZeIiGpBqdCPi4vDnDlz4OrqijVr1sDZ2Rlz587F4cOHK91n5syZOHz4MObMmYPQ0FA8ePAAo0ePRk5OjtqKJyIi1TRUptPy5cvh5+eH4OBgAICbmxuys7MRHh6O/v37l+t/6dIlnD59GuvXr4e7uzsAwMnJCX379sX27dsxadIkNX4EIiJSVrVH+qmpqUhJSYGPj49Cu6+vLxITE5Gamlpun/Pnz8PAwACurq7yNhMTE3Tv3h1nzpxRQ9lERFQT1R7pJyYmAgCsrKwU2i0sLAAAd+/ehbm5ebl9LCws0KBBA4X2du3aIS4uTuUidXQkKu9THVPjxmp/TXV7FZ/7VdCGsQQ4nurG8VQfdY5lda9VbeiXzcEbGhoqtBsYGAAAcnNzy+2Tm5tbrn/ZPhX1r46xsYHK+1Tnh3k+1XfSsGbNyo/h60gbxhLgeKobx1N96nIsq53eEQQBACCRSCps19Ep/xJl2yp8wwr6ExFR3ag2gY2MjACUP6LPy8tT2P5PhoaG8u0v71PRNwAiIqob1YZ+2Vx+SkqKQntycrLC9pf3SU1NLXfEn5ycXGF/IiKqG9WGvoWFBczMzMqtyT969CgsLS3Rpk2bcvv07t0bT58+RUJCgrwtIyMDly5dQq9evdRQNhER1USDhQsXLqyuk5GREdatW4fMzExIJBJs3LgRe/fuxYIFC9CxY0dkZGTg1q1bMDQ0hJ6eHtq2bYsLFy5g27ZtaNq0KdLS0hAcHAxBEPDVV19BX1+/Dj4aERG9TCJUddb1H3bs2IHIyEikp6fD3NwckyZNwpAhQwAAe/bsQVBQEDZv3owePXoAALKzs7FkyRIcP34cJSUl6NatGwIDA2Ftbf3qPg0REVVJ6dAnIiLtx/WTREQiwtAnIhIRhj4RkYgw9FU0Y8YMnDlzpsqrjomIXlcMfRWlpaVh0qRJcHd3x7Jly3Dnzh1Nl0REpDSu3qmBu3fvIiYmBgcOHEB6ejrs7e0xdOhQvPPOOxXeloKUk5ubi/z8fJSUlJTb1rJlSw1URFT/MPRr6eeff8bhw4dx6tQpZGZmwtvbG8OHD4eLi4umS9MaKSkpCA4OxuXLlyvtc+PGjTqsSPuMHz9e6b4SiQQ//PDDK6yGXmdKPTmLKmdkZAQDAwPo6emhsLAQt2/fxoQJE2Bra4tvvvkG7du313SJr72QkBD89ddfmDp1Klq1asU7sdZAUVGRpkuoNx48eKBSf237Fsoj/RpIS0vDgQMHsH//fiQmJqJ169YYOnQohg4dCjMzM9y7dw9TpkyBjo4O9u/fr+lyX3tdunTB4sWL8c4772i6FCLY2dmhuLhY6f7a9i2UR/oqGjVqFC5fvgxdXV14e3vj888/h4uLi8LzBszMzNC/f39s3LhRg5VqDwMDAzRp0kTTZWi1+n50Wpeio6MxefJkFBYWYvbs2WjYsH7FJI/0VTRs2DAMGzYMgwYNqvKk7Y0bN1BQUIAuXbrUYXXaKTQ0FHfv3sW6devKPayHlGNra6vS2Gnb0WldS0xMxHvvvYcJEybg008/1XQ5asXQr4Hnz5/j2rVr6NatGwDg77//xoULF+Dj48M7iNbAmjVrsGnTJhgbG8PBwQGNGys+01QikSAkJERD1WmHPXv2qBT6Q4cOfYXV1A9RUVH49ttvcfz4cZiYmGi6HLVh6KsoNTUV48aNQ0lJCeLj4wEA58+fx8SJE9GhQwds2LCBX51V5OXlVeV2iUSCEydO1FE1RKWKi4tx+fJldOjQgaEvZgEBAbh37x7Cw8NhaWkpb79//z6mTp2K9u3bY9myZZorkAjA77//josXL6KoqEh+9XhJSQny8/Nx6dIlbN++XcMVvr7++9//wsHBAQYGBpou5ZWoX2co6sClS5cQGhqqEPgA0LZtWwQEBOCLL77QTGH1QHZ2Nn799Vfk5ubCxMQE9vb2fKZyDWzfvh0hISEV3ipER0cHvXv31kBV2mP8+PHYuXMnHBwc5G07d+6Ej48PjI2NNViZejD0VSQIAgoLCyvd/vz58zqspv5Yt24dIiIiUFBQIG/T09PDpEmTMHXqVA1Wpn22bNkCd3d3LF26FN999x1yc3MRHByM06dPIzAwEIMHD9Z0ia+1l/+zLC4uxsKFC2FnZ1cvQp9Xwaioe/fuWLt2LbKyshTanz59iu+++w7Ozs4aqkx77dq1CytXroRMJsO2bdtw9OhRbN26FTKZDGvXrkV0dLSmS9Qqqamp+PDDD9GkSRPY2dnh8uXL0NfXh6+vLyZNmoTNmzdrukStU59mwXmkr6I5c+bg/fffh5eXF95++200a9YMGRkZuHLlCho2bIglS5ZoukSt8+OPP2LUqFEIDg6Wt7Vr1w5OTk7Q09PDli1b8N5772mwQu2iq6srX0VmYWGB5ORkFBUVQVdXF926deP1IyLHI30VWVlZITY2FiNGjEBOTg5+/fVXZGRkYNiwYYiJieFtF2ogNTUVHh4eFW7z8PBAcnJy3Rak5WxtbXHq1CkApT+vJSUl+O233wCofhEX1T880q+Bli1bYu7cuZouo95o3bo17ty5g169epXb9ueff/JqXRWNGTMG06dPR05ODhYvXoy+ffvis88+g5+fH/bt2ye/voRUU18uHGTo18DDhw/xyy+/VLocjks2VTNgwACEh4ejVatW6Nevn7z96NGjWL16NWQymQar0z6+vr5Ys2YNEhMTAZTe0G727NmIioqCvb09V5gpYfr06dDT01NoCwgIKNcGAEeOHKmrstSC6/RVdPToUcyePRtFRUXy//kFQZD/3traGgcPHtRkiVqnoKAAEydOxMWLF6Gnp4dmzZrhyZMnKCoqgpOTE77//vtyV+mSaspWnFUUWqQoKChIpf5ff/31K6rk1WDoq0gmk0FXVxcLFixAVFQUiouL8fHHH+P06dMICwtDREQEXF1dNV2mVjp16hQuXryIp0+f4s0334SzszPc3d3rzdfqulJSUoLly5fjl19+QVRUFIDSC44CAgIwfvx4LoEVOU7vqOjOnTv49ttv0alTJ/To0QORkZFo37492rdvj8ePHzP0a8HDw6PSE7qkvDVr1mDz5s2YPHmyvE0qlWLChAlYv349DA0NMXbsWM0VSBrF0FeRjo6O/MSihYUFEhMTUVJSAh0dHbi5uWHv3r0arlA7jB8/HvPmzYO1tXW1T33ik55Us3fvXnz22Wf46KOP5G3NmjVDQEAADAwMsH37doa+iHHJpoqsrKzwyy+/ACidvy8sLMTNmzcBAHl5eVVerUv/558nwYuKiqr8xTFVTUZGBqytrSvcZmNjg/T09DquiF4nPNJX0YgRIxASEoJnz55hxowZ6NmzJz7//HO899572LJlCzp37qzpErXCli1bKvw91Z6VlRWOHTtW4RLY+Ph4tGvXTgNV0euiwcKFCxdqughtYmdnByMjI2RkZMDNzQ3dunXDnj17sG/fPhgYGCA0NBTNmzfXdJla6dmzZ9DV1QUAHDt2DAkJCTAxMeE6fRXp6+tjxYoVSExMRHFxMZ48eYKrV6/i+++/x08//YTZs2fjrbfe0nSZpCFcvaOiK1euwN7eXh5OQOmSzczMzHp1z+26lJiYiClTpmDAgAGYMWMGVqxYgYiICAClARYZGYm3335bw1Vql6ioKKxduxZPnjyRtzVt2hRTp05VmOsn8WHoq8jNzQ2zZ8/GkCFDNF1KvREQEIDExEQsXboUNjY26N27N3r37o2QkBAEBgYiOzubU0A1IAgC7t69i6ysLBgZGcHa2hoNGjTQdFmkYTyRq6KGDRvyHu9qdvHiRcyaNQv29va4cOECcnJyMGLECBgaGsLf3x9//PGHpkvUSoWFhXjy5AnS09NhamqKR48eabokeg3wRK6KPvnkE3zxxRe4desWpFIpmjVrVq4PpyJUU1RUJJ+3P3PmDBo3biy/P0xxcTEaNuSPqaqioqIQHh6Op0+fQiKRYPfu3QgPD0dhYSHWrl2LN954Q9MlkobwX5OKyu5bsmrVKgCKN2Equx3DjRs3NFKbtpJKpTh69CisrKxw+PBh9O7dGw0bNkRRURGioqIglUo1XaJW2b17NxYvXozRo0fD09NTviZ/+PDhCAoKwqpVq3jDQBFj6KuID6BQv2nTpiEgIABRUVHQ09PDxx9/DKD0xmFPnjyRn9Ql5fzwww8YN24cPvvsMxQXF8vbfXx88PDhQ0RGRjL0RYyhryI+GUv9XF1dceDAAfz+++9wdHRE27ZtAZRetduzZ0906NBBwxVql3v37lX6HNyOHTtybl/kGPoqUuaoc8qUKXVQSf1ibm4Oc3NzhTYuLayZVq1a4erVqxVenHXjxg20atVKA1XR64Khr6IVK1ZUus3Q0BCmpqYMfSXw3juvzrBhw7B27Vro6+vD09MTAPD8+XOcOHEC69atw6hRozRcIWkSQ19FZffZ+adnz57h0qVLWLhwIebPn6+BqrTPy/feIfWZPHky0tLSEBoaitDQUACl35oEQcDAgQPxySefaLhC0iRenKVGP/30E7Zu3co7bdJrISkpCT///LP84iwnJyd07NgR27dvx8iRIzVdHmkIj/TVqE2bNrhz546my9BKp0+fxs8//yxfVXL16lWEhYVh8uTJ6Nmzp4ar0w5nzpzB3r17IZFI8O6776JPnz6wtLSUb7906RJkMhlu3brF0BcxXpGrJg8ePMCGDRvkK09IeYcOHcKUKVMU/sNs3LgxSkpKMGHCBJw5c0aD1WmH/fv3Y9KkSThx4gROnz6NKVOm4NixYwCArKwszJkzB6NGjcJff/2FcePGabha0iRO76ioc+fO5R7fV1JSAkEQIAgCli5disGDB2uoOu00ePBgODs7Y968eeW2ffnll/jtt9+we/duDVSmPYYNGwZdXV1s2LABenp6CAoKQmJiIsLCwjB+/HikpaXBzc0NwcHBsLKy0nS5pEGc3lHRlClTKnxmq6GhITw8PBS+TpNyUlJSEBwcXOE2b29v7Nmzp44r0j5JSUlYvHix/L5QAQEBGDhwIAICAlBQUIDw8HD4+vpquEp6HTD0VfSvf/0LQOmKnbL7l+Tm5iI3N5frn2uoWbNmuHbtWoVz97du3eL99JXw7NkztG7dWv5nMzMzCIKABg0aYP/+/RXeI4rEiXP6KsrPz8fMmTPx/vvvy9t+/fVXeHh4ICgoiI/2q4FBgwZh9erV2LFjBx4/fgxBEPDkyRNER0dj1apVGDRokKZLfO0JggAdnf/751x2C+UZM2Yw8EkBQ19F3377LRISEhROhnXt2hVLlizBqVOnsHbtWg1Wp50CAgLg5uaGhQsXws3NDZ06dULv3r0xf/58uLq6Ytq0aZouUWu1bNlS0yXQa4bTOyo6evQoAgMDMXToUHmbgYEBhgwZgqKiIqxbtw4zZszQYIXaR1dXFytXrsTt27dx+fJlZGdnw8jICN26dYOtra2my9NqFZ1/InFj6KsoJyen0q/LrVu3Vng8HalGKpXC2toamZmZMDY25n30VfTPE7lli/IWLVoEAwMDhX68rYW4cXpHRTY2NpVecbtv3z507NixjiuqH/744w9MmDABXbt2RZ8+fXDr1i0EBgZizZo1mi5NK3Tv3h2NGjVCUVERioqK8OLFC3Tv3h16enrytrJfPO8kbjyUUtEnn3yCKVOmIC0tDX379kWzZs2QkZGBkydP4tdff+Wcfg1cuXIFY8eORceOHTFp0iT5GLZq1QqrV6+GsbExPvzwQw1X+XrjM4RJWbw4qwZOnjyJVatW4caNG/Kv0ba2tpg2bRq8vLw0XJ32+fDDD/Hmm28iIiICL168gJ2dHX766Sd07twZS5Yswfnz53HgwAFNl0lUL/BIvwY8PT3h6emJgoICZGVlwcDAgA9Lr4Vr165h5cqVAMqfePT09MSOHTs0URZRvcQ5/RrYvn07Zs2ahUaNGqFly5a4ceMGfHx8eHfNGjIwMKj0BPiDBw/KnYgkoppj6Kto69atCAkJUTiyb9WqFZycnDBv3jzs27dPg9VpJy8vL6xYsQLXr1+Xt0kkEjx69Ajfffcd+vTpo8HqiOoXzumryNfXF4MHD0ZAQEC5batXr8aRI0c4/6yirKwsjBkzBn/++SdatmyJ9PR0dOjQAffv34epqSm2b98OExMTTZdJVC9wTl9Ff//9N95+++0Kt3Xr1g3r16+v44q0X9OmTREdHY2YmBj8/PPPsLKygqGhIfz9/SGTyeT3OCKi2mPoq6hNmzb43//+BxcXl3LbLl++zMveayA0NBQDBgzA+++/r3BPIyJSP4a+ikaMGIFly5ahuLgY3t7eMDExQWZmJuLj4/HDDz9g+vTpmi5R6+zatQu9e/fWdBlEosDQV9HYsWPx4MEDbNy4ERs2bABQesl7w4YNMWrUKEycOFHDFWqfzp07IyEhAa6urpouhaje44ncGsrJycEvv/wivzmYg4MD4uLisGvXLq7gUVFoaCi2bNmC1q1bo0OHDmjevLnCdolEgpCQEA1VR1S/MPRr6erVq9i5cycOHTqE/Px8mJiYICEhQdNlaZXqrmKWSCQ4ceJEHVVDVL8x9GsgLy8PBw4cwM6dO3Hz5k3o6urC09MTQ4YMgbu7u/wBFlS9x48fIy0tDe3atUPTpk01XQ5Rvcc5fRVcu3YNO3fuRGxsLPLz89GpUycAwHfffVfhah6qXEFBAYKDgxEXFye/f5Gfnx8WLFjAxyMSvUIMfSVER0djx44duHbtGkxNTTFy5EjIZDI0a9YMzs7OvO97DaxYsQJxcXEYNmwYOnXqhLt372Lnzp0oKSnBihUrNF0eUb3FtFLC/PnzYWNjg/Xr16N3797ym4Ll5ORouDLtdezYMQQEBChc2WxjY4MFCxagoKAAjRo10mB1RPUX772jhH79+iExMRGzZs3CrFmzcOrUKZSUlGi6LK324MEDODs7K7T16dMHL168wL179zRUFVH9xyN9JaxatQqZmZnYv38/9u7diylTpqB58+bo168fJBIJn0NaA0VFReWO5o2NjQGUzvcT0avBI30lGRsbY8yYMYiJicHevXvRv39/+UnIefPmYfXq1bh7966my6wXuKCM6NVh6NfAW2+9hXnz5uHs2bNYsWIFLCwssG7dOgwYMAAymUzT5Wk9fnMienW4Tl9NHj16hL179yImJgaHDh3SdDmvPVtbWzg4OCg8l0AQBPz3v/+Fo6OjwoNTJBIJfvjhB02USVTvMPRJI0aNGqVSfz74m0g9GPpERCLCOX0iIhFh6BMRiQhDn4hIRBj6REQiwtAnIhKR/wfC9HGyH6j8qAAAAABJRU5ErkJggg==\n",
      "text/plain": [
       "<Figure size 432x288 with 1 Axes>"
      ]
     },
     "metadata": {},
     "output_type": "display_data"
    }
   ],
   "source": [
    "# Visualize cross-validated metrics \n",
    "\n",
    "cv_metrics = pd.DataFrame({'Accuracy': cv_acc,\n",
    "                          \"Precision\": cv_precision,\n",
    "                          \"Recall\": cv_recall,\n",
    "                          \"F1\": cv_f1},\n",
    "                         index=[0])\n",
    "\n",
    "cv_metrics.T.plot.bar(title=\"Cross Validated Metrics\", legend=False)"
   ]
  },
  {
   "cell_type": "markdown",
   "metadata": {
    "slideshow": {
     "slide_type": "slide"
    }
   },
   "source": [
    "## Feature importance\n",
    "\n",
    "Feature importance is another way of asking, \"which features contributing most to the outcomes of the model?\"\n",
    "\n",
    "Or for our problem, trying to predict heart disease using a patient's medical characterisitcs, which charateristics contribute most to a model predicting whether someone has heart disease or not?\n",
    "\n",
    "Unlike some of the other functions we've seen, because how each model finds patterns in data is slightly different, how a model judges how important those patterns are is different as well. This means for each model, there's a slightly different way of finding which features were most important.\n",
    "\n",
    "You can usually find an example via the Scikit-Learn documentation or via searching for something like \"[MODEL TYPE] feature importance\", such as, \"random forest feature importance\".\n",
    "\n",
    "Since we're using `LogisticRegression`, we'll look at one way we can calculate feature importance for it.\n",
    "\n",
    "To do so, we'll use the `coef_` attribute. Looking at the [Scikit-Learn documentation for `LogisticRegression`](https://scikit-learn.org/stable/modules/generated/sklearn.linear_model.LogisticRegression.html), the `coef_` attribute is the coefficient of the features in the decision function.\n",
    "\n",
    "We can access the `coef_` attribute after we've fit an instance of `LogisticRegression`."
   ]
  },
  {
   "cell_type": "code",
   "execution_count": 119,
   "metadata": {
    "slideshow": {
     "slide_type": "skip"
    }
   },
   "outputs": [
    {
     "data": {
      "text/plain": [
       "LogisticRegression(C=0.20433597178569418, class_weight=None, dual=False,\n",
       "                   fit_intercept=True, intercept_scaling=1, l1_ratio=None,\n",
       "                   max_iter=100, multi_class='auto', n_jobs=None, penalty='l2',\n",
       "                   random_state=None, solver='liblinear', tol=0.0001, verbose=0,\n",
       "                   warm_start=False)"
      ]
     },
     "execution_count": 119,
     "metadata": {},
     "output_type": "execute_result"
    }
   ],
   "source": [
    "# Fit our cross validated LogisticRegression Model \n",
    "clf.fit(X_train, y_train)"
   ]
  },
  {
   "cell_type": "code",
   "execution_count": 120,
   "metadata": {
    "slideshow": {
     "slide_type": "skip"
    }
   },
   "outputs": [
    {
     "data": {
      "text/plain": [
       "array([[ 0.00316727, -0.86044582,  0.66067073, -0.01156993, -0.00166374,\n",
       "         0.04386131,  0.31275787,  0.02459361, -0.60413038, -0.56862852,\n",
       "         0.45051617, -0.63609863, -0.67663375]])"
      ]
     },
     "execution_count": 120,
     "metadata": {},
     "output_type": "execute_result"
    }
   ],
   "source": [
    "# Check Coefficients for each feature in our datasets \n",
    "clf.coef_"
   ]
  },
  {
   "cell_type": "markdown",
   "metadata": {
    "slideshow": {
     "slide_type": "skip"
    }
   },
   "source": [
    "Looking at this it might not make much sense. But these values are how much each feature contributes to how a model makes a decision on whether patterns in a sample of patients health data leans more towards having heart disease or not.\n",
    "\n",
    "Even knowing this, in it's current form, this `coef_` array still doesn't mean much. But it will if we combine it with the columns (features) of our dataframe."
   ]
  },
  {
   "cell_type": "code",
   "execution_count": 121,
   "metadata": {
    "slideshow": {
     "slide_type": "subslide"
    }
   },
   "outputs": [
    {
     "data": {
      "text/plain": [
       "{'age': 0.0031672721856887734,\n",
       " 'sex': -0.860445816920919,\n",
       " 'cp': 0.6606707303492849,\n",
       " 'trestbps': -0.011569930902919925,\n",
       " 'chol': -0.001663741604035976,\n",
       " 'fbs': 0.04386130751482091,\n",
       " 'restecg': 0.3127578715206996,\n",
       " 'thalach': 0.02459360818122666,\n",
       " 'exang': -0.6041303799858143,\n",
       " 'oldpeak': -0.5686285194546157,\n",
       " 'slope': 0.4505161679452401,\n",
       " 'ca': -0.6360986316921434,\n",
       " 'thal': -0.6766337521354281}"
      ]
     },
     "execution_count": 121,
     "metadata": {},
     "output_type": "execute_result"
    }
   ],
   "source": [
    "# Match Features to columns for Logistic Regression Model\n",
    "features_dict = dict(zip(df.columns, list(clf.coef_[0])))\n",
    "\n",
    "features_dict"
   ]
  },
  {
   "cell_type": "markdown",
   "metadata": {
    "slideshow": {
     "slide_type": "fragment"
    }
   },
   "source": [
    "This tells us how much each feature contributes to predicted our target variable. Now we've match the feature coefficients to different features, let's visualize them. "
   ]
  },
  {
   "cell_type": "code",
   "execution_count": 122,
   "metadata": {
    "slideshow": {
     "slide_type": "subslide"
    }
   },
   "outputs": [
    {
     "data": {
      "text/plain": [
       "<matplotlib.axes._subplots.AxesSubplot at 0x1a1e483210>"
      ]
     },
     "execution_count": 122,
     "metadata": {},
     "output_type": "execute_result"
    },
    {
     "data": {
      "image/png": "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\n",
      "text/plain": [
       "<Figure size 432x288 with 1 Axes>"
      ]
     },
     "metadata": {},
     "output_type": "display_data"
    }
   ],
   "source": [
    "# Visualize Feature Importance \n",
    "\n",
    "features_df = pd.DataFrame(features_dict, index=[0])\n",
    "features_df.T.plot.bar(title=\"Feature Importance\", legend=False)"
   ]
  },
  {
   "cell_type": "markdown",
   "metadata": {
    "slideshow": {
     "slide_type": "subslide"
    }
   },
   "source": [
    "You'll notice some are negative and some are positive.\n",
    "\n",
    "The larger the value (bigger bar), the more the feature contributes to the models decision.\n",
    "\n",
    "If the value is negative, it means there's a negative correlation. And vice versa for positive values. \n",
    "\n",
    "For example, the `sex` attribute has a negative value of -0.904, which means as the value for `sex` increases, the `target` value decreases.\n",
    "\n",
    "We can see this by comparing the `sex` column to the `target` column."
   ]
  },
  {
   "cell_type": "code",
   "execution_count": 124,
   "metadata": {
    "slideshow": {
     "slide_type": "slide"
    }
   },
   "outputs": [
    {
     "data": {
      "text/html": [
       "<div>\n",
       "<style scoped>\n",
       "    .dataframe tbody tr th:only-of-type {\n",
       "        vertical-align: middle;\n",
       "    }\n",
       "\n",
       "    .dataframe tbody tr th {\n",
       "        vertical-align: top;\n",
       "    }\n",
       "\n",
       "    .dataframe thead th {\n",
       "        text-align: right;\n",
       "    }\n",
       "</style>\n",
       "<table border=\"1\" class=\"dataframe\">\n",
       "  <thead>\n",
       "    <tr style=\"text-align: right;\">\n",
       "      <th>target</th>\n",
       "      <th>0</th>\n",
       "      <th>1</th>\n",
       "    </tr>\n",
       "    <tr>\n",
       "      <th>sex</th>\n",
       "      <th></th>\n",
       "      <th></th>\n",
       "    </tr>\n",
       "  </thead>\n",
       "  <tbody>\n",
       "    <tr>\n",
       "      <th>0</th>\n",
       "      <td>24</td>\n",
       "      <td>72</td>\n",
       "    </tr>\n",
       "    <tr>\n",
       "      <th>1</th>\n",
       "      <td>114</td>\n",
       "      <td>93</td>\n",
       "    </tr>\n",
       "  </tbody>\n",
       "</table>\n",
       "</div>"
      ],
      "text/plain": [
       "target    0   1\n",
       "sex            \n",
       "0        24  72\n",
       "1       114  93"
      ]
     },
     "execution_count": 124,
     "metadata": {},
     "output_type": "execute_result"
    }
   ],
   "source": [
    "pd.crosstab(df['sex'], df['target'])"
   ]
  },
  {
   "cell_type": "markdown",
   "metadata": {
    "slideshow": {
     "slide_type": "fragment"
    }
   },
   "source": [
    "You can see, when `sex` is 0 (female), there are almost 3 times as many (72 vs. 24) people with heart disease (`target` = 1) than without.\n",
    "\n",
    "And then as `sex` increases to 1 (male), the ratio goes down to almost 1 to 1 (114 vs. 93) of people who have heart disease and who don't.\n",
    "\n",
    "What does this mean?\n",
    "\n",
    "It means the model has found a pattern which reflects the data. Looking at these figures and this specific dataset, it seems if the patient is female, they're more likely to have heart disease.\n",
    "\n",
    "How about a positive correlation?"
   ]
  },
  {
   "cell_type": "code",
   "execution_count": 126,
   "metadata": {
    "slideshow": {
     "slide_type": "slide"
    }
   },
   "outputs": [
    {
     "data": {
      "text/html": [
       "<div>\n",
       "<style scoped>\n",
       "    .dataframe tbody tr th:only-of-type {\n",
       "        vertical-align: middle;\n",
       "    }\n",
       "\n",
       "    .dataframe tbody tr th {\n",
       "        vertical-align: top;\n",
       "    }\n",
       "\n",
       "    .dataframe thead th {\n",
       "        text-align: right;\n",
       "    }\n",
       "</style>\n",
       "<table border=\"1\" class=\"dataframe\">\n",
       "  <thead>\n",
       "    <tr style=\"text-align: right;\">\n",
       "      <th>target</th>\n",
       "      <th>0</th>\n",
       "      <th>1</th>\n",
       "    </tr>\n",
       "    <tr>\n",
       "      <th>slope</th>\n",
       "      <th></th>\n",
       "      <th></th>\n",
       "    </tr>\n",
       "  </thead>\n",
       "  <tbody>\n",
       "    <tr>\n",
       "      <th>0</th>\n",
       "      <td>12</td>\n",
       "      <td>9</td>\n",
       "    </tr>\n",
       "    <tr>\n",
       "      <th>1</th>\n",
       "      <td>91</td>\n",
       "      <td>49</td>\n",
       "    </tr>\n",
       "    <tr>\n",
       "      <th>2</th>\n",
       "      <td>35</td>\n",
       "      <td>107</td>\n",
       "    </tr>\n",
       "  </tbody>\n",
       "</table>\n",
       "</div>"
      ],
      "text/plain": [
       "target   0    1\n",
       "slope          \n",
       "0       12    9\n",
       "1       91   49\n",
       "2       35  107"
      ]
     },
     "execution_count": 126,
     "metadata": {},
     "output_type": "execute_result"
    }
   ],
   "source": [
    "# Contrast slope (positive coefficient) with target\n",
    "pd.crosstab(df[\"slope\"], df[\"target\"])"
   ]
  },
  {
   "cell_type": "markdown",
   "metadata": {
    "slideshow": {
<<<<<<< HEAD
<<<<<<< HEAD:machine-learning-zero-mastery/structured-data-projects/End-to-end-heart-disease-project-classification.ipynb
     "slide_type": "fragment"
=======
     "slide_type": "subslide"
>>>>>>> f80f51b9df2f71d3904248bb78052ff6e96551bc:machine-learning-zero-mastery/structured-data-projects/.ipynb_checkpoints/End-to-end-heart-disease-project-classification-checkpoint.ipynb
=======
     "slide_type": "fragment"
>>>>>>> f80f51b9df2f71d3904248bb78052ff6e96551bc
    }
   },
   "source": [
    "Looking back the data dictionary, we see `slope` is the \"slope of the peak exercise ST segment\" where:\n",
    "* 0: Upsloping: better heart rate with excercise (uncommon)\n",
    "* 1: Flatsloping: minimal change (typical healthy heart)\n",
    "* 2: Downslopins: signs of unhealthy heart\n",
    "    \n",
    "According to the model, there's a positive correlation of 0.470, not as strong as `sex` and `target` but still more than 0.\n",
    "\n",
    "This positive correlation means our model is picking up the pattern that as `slope` increases, so does the `target` value.\n",
    "\n",
    "Is this true?\n",
    "\n",
    "When you look at the contrast (`pd.crosstab(df[\"slope\"], df[\"target\"]`) it is. As `slope` goes up, so does `target`. \n",
    "\n",
    "What can you do with this information?\n",
    "\n",
    "This is something you might want to talk to a subject matter expert about. They may be interested in seeing where machine learning model is finding the most patterns (highest correlation) as well as where it's not (lowest correlation). "
   ]
  },
  {
   "cell_type": "markdown",
   "metadata": {
    "slideshow": {
     "slide_type": "skip"
    }
   },
   "source": [
    "\n",
    "Doing this has a few benefits:\n",
    "1. **Finding out more** - If some of the correlations and feature importances are confusing, a subject matter expert may be able to shed some light on the situation and help you figure out more.\n",
    "2. **Redirecting efforts** - If some features offer far more value than others, this may change how you collect data for different problems. See point 3.\n",
    "3. **Less but better** - Similar to above, if some features are offering far more value than others, you could reduce the number of features your model tries to find patterns in as well as improve the ones which offer the most. This could potentially lead to saving on computation, by having a model find patterns across less features, whilst still achieving the same performance levels."
   ]
  },
  {
   "cell_type": "markdown",
   "metadata": {
    "slideshow": {
     "slide_type": "slide"
    }
   },
   "source": [
    "## 6. Experimentation\n",
    "\n",
    "Well I've completed all the metrics. You should be able to put together a great report containing a confusion matrix, a handful of cross-valdated metrics such as precision, recall and F1 as well as which features contribute most to the model making a decision.\n",
    "\n",
    "\n",
    "From trying different models, to tuning different models to figuring out which hyperparameters were best.\n",
    "\n",
    "What we've worked through so far has been a series of experiments.\n",
    "\n",
    "And the truth is, we could keep going. But of course, things can't go on forever.\n",
    "\n",
    "So by this stage, after trying a few different things, we'd ask ourselves did we meet the evaluation metric?\n",
    "\n",
    "Remember we defined one in step 3.\n",
    "\n",
    "> If we can reach 95% accuracy at predicting whether or not a patient has heart disease during the proof of concept, we'll pursure this project.\n"
   ]
  },
  {
   "cell_type": "markdown",
   "metadata": {
    "slideshow": {
     "slide_type": "slide"
    }
   },
   "source": [
    "#### What next?\n",
    "\n",
    "You might be wondering, what happens when the evaluation metric doesn't get hit?\n",
    "\n",
    "Is everything we've done wasted? No.\n",
    "\n",
    "It means we know what doesn't work. In this case, we know the current model we're using (a tuned version of `LogisticRegression`) along with our specific data set doesn't hit the target we set ourselves.\n",
    "\n",
    "This is where step 6 comes into its own.\n",
    "\n",
    "1.  Could you collect more data?\n",
    "\n",
    "2. Could you try a better model? If you're working with structured data, you might want to look into [CatBoost](https://catboost.ai/) or [XGBoost](https://xgboost.ai/).\n",
    "\n",
    "3.  Could you improve the current models (beyond what we've done so far)?\n",
    "4.  If your model is good enough, how would you export it and share it with others? (Hint: check out [Scikit-Learn's documentation on model persistance](https://scikit-learn.org/stable/modules/model_persistence.html))\n",
    "\n",
    "The key here is to remember, your biggest restriction will be time. Hence, why it's paramount to minimise your times between experiments.\n",
    "\n",
    "The more you try, the more you figure out what doesn't work, the more you'll start to get a hang of what does."
   ]
<<<<<<< HEAD
=======
  },
  {
   "cell_type": "code",
   "execution_count": null,
   "metadata": {},
   "outputs": [],
   "source": []
>>>>>>> f80f51b9df2f71d3904248bb78052ff6e96551bc
  }
 ],
 "metadata": {
  "celltoolbar": "Slideshow",
  "kernelspec": {
   "display_name": "Python 3.7.6 64-bit (conda)",
   "language": "python",
   "name": "python37664bitconda1ef9e08653c542229d6659c9d87d900d"
  },
  "language_info": {
   "codemirror_mode": {
    "name": "ipython",
    "version": 3
   },
   "file_extension": ".py",
   "mimetype": "text/x-python",
   "name": "python",
   "nbconvert_exporter": "python",
   "pygments_lexer": "ipython3",
   "version": "3.7.6"
  }
 },
 "nbformat": 4,
 "nbformat_minor": 4
}
