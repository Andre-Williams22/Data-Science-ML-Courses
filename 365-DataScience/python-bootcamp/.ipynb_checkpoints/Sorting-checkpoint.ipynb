{
 "cells": [
  {
   "cell_type": "code",
   "execution_count": 1,
   "metadata": {},
   "outputs": [
    {
     "name": "stdout",
     "output_type": "stream",
     "text": [
      "Andre Williams\n"
     ]
    }
   ],
   "source": [
    "print('Andre Williams')"
   ]
  },
  {
   "cell_type": "markdown",
   "metadata": {},
   "source": [
    "## Linear Search "
   ]
  },
  {
   "cell_type": "code",
   "execution_count": 2,
   "metadata": {},
   "outputs": [
    {
     "name": "stdout",
     "output_type": "stream",
     "text": [
      "Runtime: O(n)\n"
     ]
    }
   ],
   "source": [
    "array = [1, 2, 3, 5, 10, 14, 25, 28, 45, 88, 93 ,98]\n",
    "\n",
    "def linsearch(array, x):\n",
    "    found = False\n",
    "    for i in range(len(array)): # O(n) \n",
    "        if array[i] == x:\n",
    "            found = True\n",
    "            return found\n",
    "        else:\n",
    "            array[i] =+ 1\n",
    "    return found\n",
    "\n",
    "print('Runtime: O(n)')"
   ]
  },
  {
   "cell_type": "code",
   "execution_count": 3,
   "metadata": {},
   "outputs": [
    {
     "data": {
      "text/plain": [
       "False"
      ]
     },
     "execution_count": 3,
     "metadata": {},
     "output_type": "execute_result"
    }
   ],
   "source": [
    "linsearch(array,95)"
   ]
  },
  {
   "cell_type": "markdown",
   "metadata": {},
   "source": [
    "## Binary Search"
   ]
  },
  {
   "cell_type": "code",
   "execution_count": 4,
   "metadata": {},
   "outputs": [],
   "source": [
    "## Iterative Approach"
   ]
  },
  {
   "cell_type": "code",
   "execution_count": 5,
   "metadata": {},
   "outputs": [
    {
     "name": "stdout",
     "output_type": "stream",
     "text": [
      "Runtime: O(log n)\n",
      "(1, True)\n"
     ]
    }
   ],
   "source": [
    "array = [1, 2, 4, 5, 9, 12, 17, 22, 32, 35, 45, 50, 70, 65, 68, 90, 95]\n",
    "\n",
    "def binsearch(array, x):\n",
    "    left,right = 0, len(array)-1\n",
    "\n",
    "    if len(array) == 0:\n",
    "        return None\n",
    "    found = False \n",
    "    while left <= right and not found:\n",
    "        mid = (left+right)//2\n",
    "        if array[mid] == array[x]:\n",
    "            found = True\n",
    "            return mid,found\n",
    "        elif array[mid] < array[x]:\n",
    "            left = mid + 1\n",
    "        else:\n",
    "            right = mid - 1\n",
    "    return found \n",
    "print(\"Runtime: O(log n)\")     \n",
    "print(binsearch(array, 1))\n",
    "        "
   ]
  },
  {
   "cell_type": "markdown",
   "metadata": {},
   "source": [
    "## Bubble Sort"
   ]
  },
  {
   "cell_type": "code",
   "execution_count": 6,
   "metadata": {},
   "outputs": [],
   "source": [
    "def bubble_sort(array):\n",
    "    isSorted = False\n",
    "    counter = 0\n",
    "    while not isSorted:\n",
    "        isSorted = True\n",
    "        for i in range(len(array)-1-counter):\n",
    "            if array[i] > array[i+1]:\n",
    "                    swap(i, i+1, array)\n",
    "                    isSorted=False\n",
    "        counter += 1\n",
    "    return array\n",
    "                \n",
    "def swap(i, cmpIdx, array):\n",
    "    array[i], array[cmpIdx] = array[cmpIdx], array[i]"
   ]
  },
  {
   "cell_type": "code",
   "execution_count": 7,
   "metadata": {},
   "outputs": [
    {
     "name": "stdout",
     "output_type": "stream",
     "text": [
      "[5, 6, 7, 8, 21, 22, 24, 87, 88, 90]\n"
     ]
    }
   ],
   "source": [
    "test = [6, 5, 8, 21, 7, 87,24, 88,90,22]\n",
    "print(bubble_sort(test))"
   ]
  },
  {
   "cell_type": "markdown",
   "metadata": {},
   "source": [
    "## Insertion Sort"
   ]
  },
  {
   "cell_type": "code",
   "execution_count": 8,
   "metadata": {},
   "outputs": [],
   "source": [
    "def insertion_sort(array):\n",
    "    pass \n",
    "\n"
   ]
  },
  {
   "cell_type": "code",
   "execution_count": 9,
   "metadata": {},
   "outputs": [],
   "source": [
    "data = [1, 7, 3, 6, 8, 9]\n",
    "#print(insertion_sort(data))"
   ]
  },
  {
   "cell_type": "code",
   "execution_count": 10,
   "metadata": {},
   "outputs": [
    {
     "data": {
      "text/plain": [
       "[2, 1, 7, 3, 6, 8, 9]"
      ]
     },
     "execution_count": 10,
     "metadata": {},
     "output_type": "execute_result"
    }
   ],
   "source": [
    "data.insert(0, 2)\n",
    "data"
   ]
  },
  {
   "cell_type": "code",
   "execution_count": 17,
   "metadata": {},
   "outputs": [],
   "source": [
    "def insert(list, n):   \n",
    "    # Searching for the position \n",
    "    for i in range(len(list)): \n",
    "        if list[i] > n:          \n",
    "            index = i\n",
    "            print(index)\n",
    "            break \n",
    "    # Inserting n in the list \n",
    "    list = list[:i] + [n] + list[i:] \n",
    "    return list.index(n)"
   ]
  },
  {
   "cell_type": "code",
   "execution_count": 18,
   "metadata": {},
   "outputs": [
    {
     "name": "stdout",
     "output_type": "stream",
     "text": [
      "3\n"
     ]
    }
   ],
   "source": [
    "# Driver function \n",
    "list = [1, 3, 5, 6] \n",
    "n = 7\n",
    "print(insert(list, n)) "
   ]
  },
  {
   "cell_type": "code",
   "execution_count": 8,
   "metadata": {},
   "outputs": [
    {
     "name": "stdout",
     "output_type": "stream",
     "text": [
      "4\n"
     ]
    }
   ],
   "source": [
    "hashtable = {1:2, 2:2, 4:1}\n",
    "for item in hashtable:\n",
    "    if hashtable[item] == 1:\n",
    "        print(item)"
   ]
  },
  {
   "cell_type": "code",
   "execution_count": 9,
   "metadata": {},
   "outputs": [
    {
     "name": "stdout",
     "output_type": "stream",
     "text": [
      "[1, 2, 4, 5]\n",
      "[1, 2, 4, 5]\n"
     ]
    }
   ],
   "source": [
    "test2 = [1, 2, 4, 5]\n",
    "def test(data):\n",
    "    tot = False\n",
    "    while not tot:\n",
    "        tot = True\n",
    "        print(data)\n",
    "    return data\n",
    "print(test(test2))"
   ]
  },
  {
   "cell_type": "code",
   "execution_count": 10,
   "metadata": {},
   "outputs": [
    {
     "data": {
      "text/plain": [
       "[2, 4]"
      ]
     },
     "execution_count": 10,
     "metadata": {},
     "output_type": "execute_result"
    }
   ],
   "source": [
    "# test2 = {1: 2, 4:5}\n",
    "\n",
    "# for item in test2:\n",
    "#     print(test2[item])\n",
    "test2 = [1, 2, 4, 5]\n",
    "test2[1:3]"
   ]
  },
  {
   "cell_type": "code",
   "execution_count": 15,
   "metadata": {},
   "outputs": [
    {
     "name": "stdout",
     "output_type": "stream",
     "text": [
      "{'hello-friend': 1, ' i': 1, ' am': 1}\n"
     ]
    }
   ],
   "source": [
    "test2 = \"hello-friend i am nice\"\n",
    "\n",
    "nums = {}\n",
    "counter = 0\n",
    "for i in range(len(test2)):\n",
    "    if test2[i] == ' ':\n",
    "        word = test2[counter:i]\n",
    "        nums[word] = 1\n",
    "        counter = i\n",
    "    else:\n",
    "        counter += 0\n",
    "#         nums[test2[i]] = 1\n",
    "#     if i == 3:\n",
    "#         print(test2[:i])\n",
    "print(nums)"
   ]
  },
  {
   "cell_type": "code",
   "execution_count": 12,
   "metadata": {},
   "outputs": [
    {
     "name": "stdout",
     "output_type": "stream",
     "text": [
      "{'I': 2, 'am': 1, 'are': 1, 'not': 1, 'justifiable': 1}\n"
     ]
    }
   ],
   "source": [
    "def word_count(text):\n",
    "    counts = dict()\n",
    "    words = text.split()\n",
    "    \n",
    "    for word in words:\n",
    "        if word not in counts:\n",
    "            counts[word] = 1\n",
    "        else:\n",
    "            counts[word] += 1\n",
    "    return counts\n",
    "\n",
    "print(word_count(\"I am I are not justifiable\"))"
   ]
  },
  {
   "cell_type": "code",
   "execution_count": 13,
   "metadata": {},
   "outputs": [
    {
     "name": "stdout",
     "output_type": "stream",
     "text": [
      "[1, 17, 141]\n"
     ]
    }
   ],
   "source": [
    "# return top 3 numbers in an unsorted array \n",
    "# array = [1, 2, 3]\n",
    "def findThreeLargestNumbers(array):\n",
    "    threeLargest = [None, None, None]\n",
    "    for num in array:\n",
    "        updateLargest(threeLargest, num)\n",
    "    return threeLargest\n",
    "\n",
    "def updateLargest(threeLargest, num):\n",
    "    if threeLargest[2] is None or num > threeLargest[2]:\n",
    "        shiftAndUpdate(threeLargest, num, 2) #to do \n",
    "    elif threeLargest[1] is None or num > threeLargest[1]:\n",
    "        shiftAndUpdate(threeLargest, num, 1)\n",
    "    elif threeLargest[0] is None or num > threeLargest[0]:\n",
    "        shiftAndUpdate(threeLargest, num, 0)\n",
    "    \n",
    "def shiftAndUpdate(array, num, idx):\n",
    "#     print(idx)\n",
    "#     print(num)\n",
    "#     print(array)\n",
    "\n",
    "    for i in range(idx+1):\n",
    "        if i == idx:\n",
    "            array[i] = num\n",
    "            #print(array[i])\n",
    "        else:\n",
    "            array[i] = array[i + 1]\n",
    "\n",
    "\n",
    "\n",
    "    # print(findThreeLargestNumbers([141, 1, 17, -7, -17, -27, 18, 541, 8, 7, 7]))\n",
    "print(findThreeLargestNumbers([141, 1, 17]))\n",
    "\n",
    "\n",
    "# nums = [1, 2]\n",
    "\n",
    "\n",
    "\n",
    "# for i in range(len(nums)+1):\n",
    "#   print(i)\n",
    "\n",
    "# def index(array, idx):\n",
    "#   for i in range(idx+1):\n",
    "#     print(i)\n",
    "#     if i == idx:\n",
    "#       print(i)\n",
    "\n",
    "\n",
    "\n",
    "# nums = [5, 6, 7]\n",
    "# idx = 2\n",
    "# print(index(nums,idx))\n"
   ]
  },
  {
   "cell_type": "markdown",
   "metadata": {},
   "source": [
    "## Insertion Sort & Selection Sort"
   ]
  },
  {
   "cell_type": "markdown",
   "metadata": {},
   "source": [
    "First you assume the first item in the list is sorted and then you take the second item and check to see if it's larger or smaller than the first item. if it's smaller then you swap the that item with the first. Then we move along to the next item by assuming we have a sorted list to our left. "
   ]
  },
  {
   "cell_type": "code",
   "execution_count": 15,
   "metadata": {},
   "outputs": [],
   "source": [
    "def insertion_sort(array):\n",
    "    n = len(array)\n",
    "    for i in range(1,n): # we will start at the second item\n",
    "        value = array[i] # value of current item we're on\n",
    "        pointer = i # another way to keep track of an index\n",
    "        # we only want to swap if the value we're on is less than the value to the left\n",
    "        while pointer > 0 and array[pointer-1] > value: # need a loop to make sure insertion happens to the item to the left\n",
    "            array[pointer] = array[pointer-1] # swap the one we're on to the previous one\n",
    "            pointer = pointer-1 # decrease pointer until the while loop is no longer true\n",
    "        array[pointer] = value # drop in value into right position\n",
    "    return array # return the array"
   ]
  },
  {
   "cell_type": "code",
   "execution_count": 16,
   "metadata": {},
   "outputs": [
    {
     "name": "stdout",
     "output_type": "stream",
     "text": [
      "[2, 3, 6, 7, 24, 45, 70, 87]\n"
     ]
    }
   ],
   "source": [
    "test_2 = [70, 24, 87, 45, 3, 2, 6, 7]\n",
    "print(insertion_sort(test_2))"
   ]
  },
  {
   "cell_type": "code",
   "execution_count": 33,
   "metadata": {},
   "outputs": [
    {
     "name": "stdout",
     "output_type": "stream",
     "text": [
      "2\n",
      "3\n",
      "6\n",
      "7\n",
      "24\n",
      "45\n",
      "70\n",
      "87\n"
     ]
    }
   ],
   "source": [
    "for i in range(len(test_2)):\n",
    "    print(test_2[i])"
   ]
  },
  {
   "cell_type": "code",
   "execution_count": 16,
   "metadata": {},
   "outputs": [],
   "source": [
    "def productSum(array, multiplier=1):\n",
    "    sum = 0\n",
    "    for element in array:\n",
    "        if type(element) is list:\n",
    "            sum+= productSum(element, multiplier + 1)\n",
    "        else:\n",
    "            sum += element\n",
    "    return sum * multiplier"
   ]
  },
  {
   "cell_type": "code",
   "execution_count": 17,
   "metadata": {},
   "outputs": [
    {
     "name": "stdout",
     "output_type": "stream",
     "text": [
      "3\n"
     ]
    }
   ],
   "source": [
    "print(productSum([1, 2]))"
   ]
  },
  {
   "cell_type": "code",
   "execution_count": null,
   "metadata": {},
   "outputs": [],
   "source": []
  }
 ],
 "metadata": {
  "kernelspec": {
   "display_name": "Python 3",
   "language": "python",
   "name": "python3"
  },
  "language_info": {
   "codemirror_mode": {
    "name": "ipython",
    "version": 3
   },
   "file_extension": ".py",
   "mimetype": "text/x-python",
   "name": "python",
   "nbconvert_exporter": "python",
   "pygments_lexer": "ipython3",
   "version": "3.8.3"
  }
 },
 "nbformat": 4,
 "nbformat_minor": 4
}
