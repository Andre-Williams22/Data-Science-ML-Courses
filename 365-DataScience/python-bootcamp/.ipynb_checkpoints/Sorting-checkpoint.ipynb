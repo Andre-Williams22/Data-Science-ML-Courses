{
 "cells": [
  {
   "cell_type": "code",
   "execution_count": 2,
   "metadata": {},
   "outputs": [
    {
     "name": "stdout",
     "output_type": "stream",
     "text": [
      "Andre Williams\n"
     ]
    }
   ],
   "source": [
    "print('Andre Williams')"
   ]
  },
  {
   "cell_type": "markdown",
   "metadata": {},
   "source": [
    "## Linear Search "
   ]
  },
  {
   "cell_type": "code",
   "execution_count": 4,
   "metadata": {},
   "outputs": [
    {
     "name": "stdout",
     "output_type": "stream",
     "text": [
      "Runtime: O(n)\n"
     ]
    }
   ],
   "source": [
    "array = [1, 2, 3, 5, 10, 14, 25, 28, 45, 88, 93 ,98]\n",
    "\n",
    "def linsearch(array, x):\n",
    "    found = False\n",
    "    for i in range(len(array)): # O(n) \n",
    "        if array[i] == x:\n",
    "            found = True\n",
    "            return found\n",
    "        else:\n",
    "            array[i] + 1\n",
    "    return found\n",
    "\n",
    "print('Runtime: O(n)')"
   ]
  },
  {
   "cell_type": "code",
   "execution_count": 3,
   "metadata": {},
   "outputs": [
    {
     "data": {
      "text/plain": [
       "False"
      ]
     },
     "execution_count": 3,
     "metadata": {},
     "output_type": "execute_result"
    }
   ],
   "source": [
    "linsearch(array,95)"
   ]
  },
  {
   "cell_type": "markdown",
   "metadata": {},
   "source": [
    "## Binary Search"
   ]
  },
  {
   "cell_type": "code",
   "execution_count": 4,
   "metadata": {},
   "outputs": [],
   "source": [
    "## Iterative Approach"
   ]
  },
  {
   "cell_type": "code",
   "execution_count": 3,
   "metadata": {},
   "outputs": [
    {
     "name": "stdout",
     "output_type": "stream",
     "text": [
      "(12, True)\n"
     ]
    }
   ],
   "source": [
    "array = [1, 2, 4, 5, 9, 12, 17, 22, 32, 35, 45, 50, 70, 65, 68, 90, 95]\n",
    "\n",
    "def binsearch(array, x):\n",
    "    left,right = 0, len(array)-1\n",
    "\n",
    "    if len(array) == 0:\n",
    "        return None\n",
    "    found = False \n",
    "    while left <= right and not found:\n",
    "        mid = (left+right)//2\n",
    "        if array[mid] == array[x]:\n",
    "            found = True\n",
    "            return mid,found\n",
    "        elif array[mid] < array[x]:\n",
    "            left = left + 1\n",
    "        else:\n",
    "            right = right - 1\n",
    "    return found \n",
    "            \n",
    "print(binsearch(array, 12))\n",
    "        "
   ]
  },
  {
   "cell_type": "code",
   "execution_count": 5,
   "metadata": {},
   "outputs": [],
   "source": [
    "## Recursive Approach"
   ]
  },
  {
   "cell_type": "code",
   "execution_count": 18,
   "metadata": {},
   "outputs": [
    {
     "name": "stdout",
     "output_type": "stream",
     "text": [
      "None\n"
     ]
    }
   ],
   "source": [
    "array = [1, 2, 4, 5, 9, 12, 17, 22, 32, 35, 45, 50, 70, 65, 68, 90, 95]\n",
    "\n",
    "def binsearch_recursive(array, x, left=None, right=None):\n",
    "    \n",
    "    if left is None and right is None:\n",
    "        left, right = 0, len(array)-1\n",
    "    if left > right:\n",
    "        return None\n",
    "   \n",
    "    mid = left + (right-left)//2\n",
    "    \n",
    "    if array[mid] == x:\n",
    "        return mid\n",
    "    elif array[mid] > x:\n",
    "        binsearch_recursive(array, x, left, mid-1)\n",
    "    else:\n",
    "        binsearch_recursive(array, x, mid+1, right)\n",
    "        \n",
    "\n",
    "print(binsearch_recursive(array, 22))"
   ]
  },
  {
   "cell_type": "code",
   "execution_count": null,
   "metadata": {},
   "outputs": [],
   "source": []
  }
 ],
 "metadata": {
  "kernelspec": {
   "display_name": "Python 3",
   "language": "python",
   "name": "python3"
  },
  "language_info": {
   "codemirror_mode": {
    "name": "ipython",
    "version": 3
   },
   "file_extension": ".py",
   "mimetype": "text/x-python",
   "name": "python",
   "nbconvert_exporter": "python",
   "pygments_lexer": "ipython3",
   "version": "3.7.6"
  }
 },
 "nbformat": 4,
 "nbformat_minor": 4
}
