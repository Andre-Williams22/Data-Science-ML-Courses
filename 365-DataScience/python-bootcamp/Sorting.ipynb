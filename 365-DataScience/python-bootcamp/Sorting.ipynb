{
 "cells": [
  {
   "cell_type": "code",
   "execution_count": 2,
   "metadata": {},
   "outputs": [
    {
     "name": "stdout",
     "output_type": "stream",
     "text": [
      "Andre Williams\n"
     ]
    }
   ],
   "source": [
    "print('Andre Williams')"
   ]
  },
  {
   "cell_type": "markdown",
   "metadata": {},
   "source": [
    "## Linear Search "
   ]
  },
  {
   "cell_type": "code",
   "execution_count": 30,
   "metadata": {},
   "outputs": [
    {
     "name": "stdout",
     "output_type": "stream",
     "text": [
      "Runtime: O(n)\n"
     ]
    }
   ],
   "source": [
    "array = [1, 2, 3, 5, 10, 14, 25, 28, 45, 88, 93 ,98]\n",
    "\n",
    "def linsearch(array, x):\n",
    "    found = False\n",
    "    for i in range(len(array)): # O(n) \n",
    "        if array[i] == x:\n",
    "            found = True\n",
    "            return found\n",
    "        else:\n",
    "            array[i] =+ 1\n",
    "    return found\n",
    "\n",
    "print('Runtime: O(n)')"
   ]
  },
  {
   "cell_type": "code",
   "execution_count": 31,
   "metadata": {},
   "outputs": [
    {
     "data": {
      "text/plain": [
       "False"
      ]
     },
     "execution_count": 31,
     "metadata": {},
     "output_type": "execute_result"
    }
   ],
   "source": [
    "linsearch(array,95)"
   ]
  },
  {
   "cell_type": "markdown",
   "metadata": {},
   "source": [
    "## Binary Search"
   ]
  },
  {
   "cell_type": "code",
   "execution_count": 4,
   "metadata": {},
   "outputs": [],
   "source": [
    "## Iterative Approach"
   ]
  },
  {
   "cell_type": "code",
   "execution_count": 32,
   "metadata": {},
   "outputs": [
    {
     "name": "stdout",
     "output_type": "stream",
     "text": [
      "Runtime: O(log n)\n",
      "(12, True)\n"
     ]
    }
   ],
   "source": [
    "array = [1, 2, 4, 5, 9, 12, 17, 22, 32, 35, 45, 50, 70, 65, 68, 90, 95]\n",
    "\n",
    "def binsearch(array, x):\n",
    "    left,right = 0, len(array)-1\n",
    "\n",
    "    if len(array) == 0:\n",
    "        return None\n",
    "    found = False \n",
    "    while left <= right and not found:\n",
    "        mid = (left+right)//2\n",
    "        if array[mid] == array[x]:\n",
    "            found = True\n",
    "            return mid,found\n",
    "        elif array[mid] < array[x]:\n",
    "            left = mid + 1\n",
    "        else:\n",
    "            right = mid - 1\n",
    "    return found \n",
    "print(\"Runtime: O(log n)\")     \n",
    "print(binsearch(array, 12))\n",
    "        "
   ]
  },
  {
   "cell_type": "markdown",
   "metadata": {},
   "source": [
    "## Bubble Sort"
   ]
  },
  {
   "cell_type": "code",
   "execution_count": null,
   "metadata": {},
   "outputs": [],
   "source": [
    "def bubble_sort(array):\n",
    "    pass"
   ]
  },
  {
   "cell_type": "code",
   "execution_count": null,
   "metadata": {},
   "outputs": [],
   "source": [
    "test = [6, 5, 8, 21, 7, 87,24, 88,90,22]\n",
    "print(bubble_sort(test))"
   ]
  },
  {
   "cell_type": "markdown",
   "metadata": {},
   "source": [
    "## Insertion Sort"
   ]
  },
  {
   "cell_type": "markdown",
   "metadata": {},
   "source": [
    "First you assume the first item in the list is sorted and then you take the second item and check to see if it's larger or smaller than the first item. if it's smaller then you swap the that item with the first. Then we move along to the next item by assuming we have a sorted list to our left. "
   ]
  },
  {
   "cell_type": "code",
   "execution_count": 36,
   "metadata": {},
   "outputs": [],
   "source": [
    "def insertion_sort(array):\n",
    "    n = len(array)\n",
    "    for i in range(1,n): # we will start at the second item\n",
    "        value = array[i] # value of current item we're on\n",
    "        j = i # another way to keep track of an index\n",
    "        # we only want to swap if the value we're on is less than the value to the left\n",
    "        while j > 0 and array[j-1] > value: # need a loop to make sure insertion happens to the item to the left\n",
    "            array[j] = array[j-1] # swap the one we're on to the previous one\n",
    "            j = j-1 # \n",
    "        array[j] = value\n",
    "    return array"
   ]
  },
  {
   "cell_type": "code",
   "execution_count": 37,
   "metadata": {},
   "outputs": [
    {
     "name": "stdout",
     "output_type": "stream",
     "text": [
      "[2, 3, 6, 7, 24, 45, 70, 87]\n"
     ]
    }
   ],
   "source": [
    "test_2 = [70, 24, 87, 45, 3, 2, 6, 7]\n",
    "print(insertion_sort(test_2))"
   ]
  },
  {
   "cell_type": "code",
   "execution_count": null,
   "metadata": {},
   "outputs": [],
   "source": []
  }
 ],
 "metadata": {
  "kernelspec": {
   "display_name": "Python 3",
   "language": "python",
   "name": "python3"
  },
  "language_info": {
   "codemirror_mode": {
    "name": "ipython",
    "version": 3
   },
   "file_extension": ".py",
   "mimetype": "text/x-python",
   "name": "python",
   "nbconvert_exporter": "python",
   "pygments_lexer": "ipython3",
   "version": "3.7.6"
  }
 },
 "nbformat": 4,
 "nbformat_minor": 4
}
