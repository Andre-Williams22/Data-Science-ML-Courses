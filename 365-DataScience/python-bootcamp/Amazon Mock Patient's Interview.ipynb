{
 "cells": [
  {
   "cell_type": "code",
   "execution_count": 8,
   "metadata": {},
   "outputs": [
    {
     "name": "stdout",
     "output_type": "stream",
     "text": [
      "(3, 10)\n"
     ]
    }
   ],
   "source": [
    "# %%time\n",
    "def find_max_second_solution(start, end):\n",
    "    step = 1 \n",
    "    C = []\n",
    "    for time in range(min(start), max(end) + 1, step):\n",
    "        #print(time)\n",
    "        c = 0\n",
    "        for i,j in zip(start, end):\n",
    "            if time in range(i, j + 1, step):\n",
    "                c += 1\n",
    "        C.append(c)\n",
    "    return max(C), len(C)\n",
    "print(find_max_second_solution([1, 3, 2, 5], [4, 5, 7, 10])) "
   ]
  },
  {
   "cell_type": "code",
   "execution_count": 10,
   "metadata": {},
   "outputs": [
    {
     "name": "stdout",
     "output_type": "stream",
     "text": [
      "3\n",
      "CPU times: user 200 µs, sys: 1.13 ms, total: 1.33 ms\n",
      "Wall time: 1.73 ms\n"
     ]
    }
   ],
   "source": [
    "%%time\n",
    "# What is the max number of patients in the hospital? \n",
    "def patients(entering_time, exit_time):\n",
    "    max_num = max(exit_time)\n",
    "    min_num = min(entering_time)\n",
    "    new_list = [*range(min_num, max_num+1,1)]\n",
    "\n",
    "    hashtable = {}\n",
    "\n",
    "    for item in new_list:\n",
    "        hashtable[item] = 0 \n",
    "\n",
    "\n",
    "    pairs = []\n",
    "    for item, value in zip(entering_time, exit_time):\n",
    "        new_list = []\n",
    "        pairs.append(list(range(item, value+1)))\n",
    "  \n",
    "    patient_1 = pairs[0]\n",
    "    patient_2 = pairs[1]\n",
    "    patient_3 = pairs[2]\n",
    "    patient_4 = pairs[3]\n",
    "\n",
    "    for item in patient_1:\n",
    "        if item in patient_1:\n",
    "            hashtable[item] += 1 \n",
    "    for item in patient_2:\n",
    "        if item in patient_2:\n",
    "            hashtable[item] += 1\n",
    "    for item in patient_3:\n",
    "        if item in patient_3:\n",
    "            hashtable[item] +=1\n",
    "\n",
    "    for item in patient_4:\n",
    "        if item in patient_4:\n",
    "            hashtable[item] +=1\n",
    "\n",
    "\n",
    "    return max(hashtable, key=hashtable.get)\n",
    "  # print(new_list)\n",
    "  # create a range 1-4 for patient 1 \n",
    "\n",
    "\n",
    "entering_time = [1, 3, 2, 5]\n",
    "exit_time = [4, 5, 7, 10 ]\n",
    "print(patients(entering_time, exit_time))\n",
    "\n",
    "# patient 1 = 1, 2, 3, 4 \n",
    "# patient 2 = 3, 4, 5 \n",
    "# patient 3 = 2, 3, 4, 5, 6, 7\n",
    "# patient 4 = 5, 6, 7, 8, 9, 10"
   ]
  },
  {
   "cell_type": "code",
   "execution_count": 7,
   "metadata": {},
   "outputs": [
    {
     "name": "stdout",
     "output_type": "stream",
     "text": [
      "2\n",
      "4\n",
      "6\n",
      "8\n",
      "10\n"
     ]
    }
   ],
   "source": [
    "num1 = [1, 2, 3, 4, 5]\n",
    "num2 = [1, 2, 3, 4, 5]\n",
    "\n",
    "for i,j in zip(num1, num2):\n",
    "    m = i+j\n",
    "    print(m)"
   ]
  },
  {
   "cell_type": "code",
   "execution_count": null,
   "metadata": {},
   "outputs": [],
   "source": []
  }
 ],
 "metadata": {
  "kernelspec": {
   "display_name": "Python 3",
   "language": "python",
   "name": "python3"
  },
  "language_info": {
   "codemirror_mode": {
    "name": "ipython",
    "version": 3
   },
   "file_extension": ".py",
   "mimetype": "text/x-python",
   "name": "python",
   "nbconvert_exporter": "python",
   "pygments_lexer": "ipython3",
   "version": "3.8.3"
  }
 },
 "nbformat": 4,
 "nbformat_minor": 4
}
